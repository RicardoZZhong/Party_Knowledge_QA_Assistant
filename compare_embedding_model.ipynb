{
 "cells": [
  {
   "cell_type": "code",
   "execution_count": 4,
   "id": "c7405273-a5e6-4fb2-b62a-650c4d70a829",
   "metadata": {
    "ExecutionIndicator": {
     "show": true
    },
    "execution": {
     "iopub.execute_input": "2024-09-23T05:06:34.788252Z",
     "iopub.status.busy": "2024-09-23T05:06:34.787917Z",
     "iopub.status.idle": "2024-09-23T05:06:54.773928Z",
     "shell.execute_reply": "2024-09-23T05:06:54.773449Z",
     "shell.execute_reply.started": "2024-09-23T05:06:34.788233Z"
    },
    "tags": []
   },
   "outputs": [
    {
     "name": "stderr",
     "output_type": "stream",
     "text": [
      "Downloading [1_Pooling/config.json]: 100%|██████████| 191/191 [00:00<00:00, 411B/s]\n",
      "Downloading [config.json]: 100%|██████████| 0.98k/0.98k [00:00<00:00, 1.53kB/s]\n",
      "Downloading [config_sentence_transformers.json]: 100%|██████████| 124/124 [00:00<00:00, 190B/s]\n",
      "Downloading [configuration.json]: 100%|██████████| 47.0/47.0 [00:00<00:00, 102B/s]\n",
      "Downloading [model.safetensors]: 100%|██████████| 1.21G/1.21G [00:03<00:00, 365MB/s] \n",
      "Downloading [modules.json]: 100%|██████████| 349/349 [00:00<00:00, 609B/s]\n",
      "Downloading [pytorch_model.bin]: 100%|██████████| 1.21G/1.21G [00:03<00:00, 329MB/s] \n",
      "Downloading [README.md]: 100%|██████████| 27.4k/27.4k [00:00<00:00, 49.3kB/s]\n",
      "Downloading [sentence_bert_config.json]: 100%|██████████| 52.0/52.0 [00:00<00:00, 109B/s]\n",
      "Downloading [special_tokens_map.json]: 100%|██████████| 125/125 [00:00<00:00, 211B/s]\n",
      "Downloading [tokenizer.json]: 100%|██████████| 429k/429k [00:00<00:00, 638kB/s]\n",
      "Downloading [tokenizer_config.json]: 100%|██████████| 394/394 [00:00<00:00, 894B/s]\n",
      "Downloading [vocab.txt]: 100%|██████████| 107k/107k [00:00<00:00, 248kB/s]\n"
     ]
    },
    {
     "data": {
      "text/plain": [
       "'./AI-ModelScope/bge-large-zh-v1___5'"
      ]
     },
     "execution_count": 4,
     "metadata": {},
     "output_type": "execute_result"
    }
   ],
   "source": [
    "from modelscope import snapshot_download\n",
    "snapshot_download('AI-ModelScope/bge-large-zh-v1.5', cache_dir='./')\n"
   ]
  },
  {
   "cell_type": "code",
   "execution_count": 2,
   "id": "ab50f423-b378-4ead-8feb-cccc0991e265",
   "metadata": {
    "ExecutionIndicator": {
     "show": true
    },
    "execution": {
     "iopub.execute_input": "2024-10-15T02:04:06.721485Z",
     "iopub.status.busy": "2024-10-15T02:04:06.721174Z",
     "iopub.status.idle": "2024-10-15T02:04:09.326988Z",
     "shell.execute_reply": "2024-10-15T02:04:09.326351Z",
     "shell.execute_reply.started": "2024-10-15T02:04:06.721465Z"
    },
    "tags": []
   },
   "outputs": [],
   "source": [
    "import streamlit as st\n",
    "from transformers import AutoTokenizer, AutoModelForCausalLM\n",
    "from langchain.prompts import ChatPromptTemplate, PromptTemplate\n",
    "from langchain_community.vectorstores import FAISS\n",
    "from langchain_community.document_loaders import PyPDFLoader, CSVLoader\n",
    "from langchain_huggingface import HuggingFaceEmbeddings\n",
    "from langchain.chains import LLMChain\n",
    "from langchain.chains.question_answering import load_qa_chain\n",
    "from langchain.llms.base import LLM\n",
    "from langchain.callbacks.manager import CallbackManagerForLLMRun\n",
    "from langchain.text_splitter import RecursiveCharacterTextSplitter\n",
    "import re\n",
    "from typing import Any, List, Optional\n",
    "from langchain_community.vectorstores import Chroma\n",
    "import torch\n",
    "\n",
    "bge_large_zh_embedding_model_path = \"./AI-ModelScope/bge-large-zh-v1___5\"\n",
    "def get_embedding(embedding_model_path):\n",
    "    model_kwargs = {'device': 'cuda'}\n",
    "    encode_kwargs = {'normalize_embeddings': True}  # set True to compute cosine similarity\n",
    "    embeddings = HuggingFaceEmbeddings(\n",
    "        model_name=embedding_model_path,\n",
    "        model_kwargs=model_kwargs,\n",
    "        encode_kwargs=encode_kwargs,\n",
    "    )\n",
    "    return embeddings\n",
    "\n",
    "# bge_large_zh = get_embedding(bge_large_zh_embedding_model_path)\n",
    "\n",
    "# loaders_chinese = [\n",
    "#     # PyMuPDFLoader(\"./data/24徐涛《核心考案》高清无水印PDF【公众号：薄荷考研】.pdf\")\n",
    "#     PyPDFLoader(\"./中国近现代史纲要：2023 年版(1).pdf\"),\n",
    "#     PyPDFLoader(\"《习近平谈治国理政》第一卷.pdf\"),\n",
    "#     PyPDFLoader(\"《习近平谈治国理政》第二卷.pdf\"),\n",
    "#     PyPDFLoader(\"《习近平谈治国理政》第三卷.pdf\"),\n",
    "#     PyPDFLoader(\"《习近平谈治国理政》第四卷.pdf\")\n",
    "#     # 如果需要还可以加入其他文件\n",
    "# ]\n",
    "# docs = []\n",
    "# for loader in loaders_chinese:\n",
    "#     pages = loader.load()\n",
    "#     print(len(pages))\n",
    "#     docs.extend(pages)\n",
    "# CHUNK_SIZE = 300\n",
    "# # 知识库中相邻文本重合长度\n",
    "# OVERLAP_SIZE = 50\n",
    "\n",
    "# text_splitter = RecursiveCharacterTextSplitter(\n",
    "#     chunk_size=CHUNK_SIZE,\n",
    "#     chunk_overlap=OVERLAP_SIZE\n",
    "# )\n",
    "# split_docs = text_splitter.split_documents(docs)\n",
    "# persist_directory = \"./vector_db/bge_large_zh\"\n",
    "\n",
    "# vectordb = Chroma.from_documents(\n",
    "#     documents=split_docs,\n",
    "#     embedding=bge_large_zh,\n",
    "#     persist_directory=persist_directory  # 允许我们将persist_directory目录保存到磁盘上\n",
    "# )\n",
    "# vectordb.persist()\n"
   ]
  },
  {
   "cell_type": "code",
   "execution_count": 4,
   "id": "c1950b03-8e2c-48fe-985f-3561a842e0dc",
   "metadata": {
    "ExecutionIndicator": {
     "show": false
    },
    "execution": {
     "iopub.execute_input": "2024-09-20T01:09:53.171052Z",
     "iopub.status.busy": "2024-09-20T01:09:53.170725Z",
     "iopub.status.idle": "2024-09-20T01:09:57.520799Z",
     "shell.execute_reply": "2024-09-20T01:09:57.520182Z",
     "shell.execute_reply.started": "2024-09-20T01:09:53.171033Z"
    },
    "tags": []
   },
   "outputs": [
    {
     "name": "stdout",
     "output_type": "stream",
     "text": [
      "page_content='问题: 1、中国共产党领导的多党合作和政治协商制度是一项具有中国特色的(   )。\n",
      "A: 基本制度\n",
      "B: 政治制度\n",
      "C: 社会主义制度\n",
      "D: 基本政治制度\n",
      "答案: 基本政治制度' metadata={'source': './chioceproblem.csv', 'row': 0}\n"
     ]
    },
    {
     "name": "stderr",
     "output_type": "stream",
     "text": [
      "/tmp/ipykernel_357/2592206952.py:40: LangChainDeprecationWarning: Since Chroma 0.4.x the manual persistence method is no longer supported as docs are automatically persisted.\n",
      "  vectordb.persist()\n"
     ]
    }
   ],
   "source": [
    "import streamlit as st\n",
    "from transformers import AutoTokenizer, AutoModelForCausalLM\n",
    "from langchain.prompts import ChatPromptTemplate, PromptTemplate\n",
    "from langchain_community.vectorstores import FAISS\n",
    "from langchain_community.document_loaders import PyPDFLoader, CSVLoader\n",
    "from langchain_huggingface import HuggingFaceEmbeddings\n",
    "from langchain.chains import LLMChain\n",
    "from langchain.chains.question_answering import load_qa_chain\n",
    "from langchain.llms.base import LLM\n",
    "from langchain.callbacks.manager import CallbackManagerForLLMRun\n",
    "from langchain.text_splitter import RecursiveCharacterTextSplitter\n",
    "import re\n",
    "from typing import Any, List, Optional\n",
    "from langchain_community.vectorstores import Chroma\n",
    "import torch\n",
    "\n",
    "bge_large_zh_embedding_model_path = \"./AI-ModelScope/bge-large-zh-v1___5\"\n",
    "def get_embedding(embedding_model_path):\n",
    "    model_kwargs = {'device': 'cuda'}\n",
    "    encode_kwargs = {'normalize_embeddings': True}  # set True to compute cosine similarity\n",
    "    embeddings = HuggingFaceEmbeddings(\n",
    "        model_name=embedding_model_path,\n",
    "        model_kwargs=model_kwargs,\n",
    "        encode_kwargs=encode_kwargs,\n",
    "    )\n",
    "    return embeddings\n",
    "\n",
    "bge_large_zh = get_embedding(bge_large_zh_embedding_model_path)\n",
    "loader = CSVLoader(file_path=\"./chioceproblem.csv\", encoding=\"utf-8\")\n",
    "data = loader.load()\n",
    "# print(data[0])\n",
    "# split_docs = text_splitter.split_documents(docs)\n",
    "persist_directory = \"./vector_db/choiceproblem\"\n",
    "\n",
    "vectordb = Chroma.from_documents(\n",
    "    documents=data,\n",
    "    embedding=bge_large_zh,\n",
    "    persist_directory=persist_directory  # 允许我们将persist_directory目录保存到磁盘上\n",
    ")\n",
    "vectordb.persist()\n"
   ]
  },
  {
   "cell_type": "code",
   "execution_count": 3,
   "id": "b574c16f-4498-4357-9f2d-bb853baddae2",
   "metadata": {
    "ExecutionIndicator": {
     "show": false
    },
    "execution": {
     "iopub.execute_input": "2024-10-08T04:25:33.346749Z",
     "iopub.status.busy": "2024-10-08T04:25:33.346279Z",
     "iopub.status.idle": "2024-10-08T04:25:33.354857Z",
     "shell.execute_reply": "2024-10-08T04:25:33.354149Z",
     "shell.execute_reply.started": "2024-10-08T04:25:33.346729Z"
    },
    "tags": []
   },
   "outputs": [
    {
     "ename": "SyntaxError",
     "evalue": "invalid syntax. Perhaps you forgot a comma? (4162822435.py, line 39)",
     "output_type": "error",
     "traceback": [
      "\u001b[0;36m  Cell \u001b[0;32mIn[3], line 39\u001b[0;36m\u001b[0m\n\u001b[0;31m    PyPDFLoader(\"./中国近现代史纲要：2023 年版(1).pdf\")\u001b[0m\n\u001b[0m    ^\u001b[0m\n\u001b[0;31mSyntaxError\u001b[0m\u001b[0;31m:\u001b[0m invalid syntax. Perhaps you forgot a comma?\n"
     ]
    }
   ],
   "source": [
    "import os\n",
    "from langchain_community.document_loaders import PyPDFLoader\n",
    "from langchain_community.vectorstores import Chroma\n",
    "from langchain_text_splitters import RecursiveCharacterTextSplitter\n",
    "\n",
    "def get_vectordb(file_path: str=None, persist_path: str=None, embedding_path=None):\n",
    "    \"\"\"\n",
    "    返回向量数据库对象\n",
    "    输入参数：\n",
    "    question：\n",
    "    llm:\n",
    "    vectordb:向量数据库(必要参数),一个对象\n",
    "    template：提示模版（可选参数）可以自己设计一个提示模版，也有默认使用的\n",
    "    embedding：可以使用zhipuai等embedding，不输入该参数则默认使用 openai embedding，注意此时api_key不要输错\n",
    "    \"\"\"\n",
    "\n",
    "    embedding = get_embedding(embedding_path)\n",
    "    if os.path.exists(persist_path):  #持久化目录存在\n",
    "        contents = os.listdir(persist_path)\n",
    "        if len(contents) == 0:  #但是下面为空\n",
    "            #print(\"目录为空\")\n",
    "            vectordb = create_db(file_path, persist_path, embedding)\n",
    "        else:\n",
    "            #print(\"目录不为空\")\n",
    "            vectordb = load_knowledge_db(persist_path, embedding)\n",
    "    else: #目录不存在，从头开始创建向量数据库\n",
    "        vectordb = create_db(file_path, persist_path, embedding)\n",
    "        #presit_knowledge_db(vectordb)\n",
    "        # vectordb = load_knowledge_db(persist_path, embedding)\n",
    "\n",
    "    return vectordb\n",
    "\n",
    "\n",
    "def create_db(embedding, file_path:str=None, persist_path:str=None):\n",
    "\n",
    "    loaders_chinese = [\n",
    "        # PyMuPDFLoader(\"./data/24徐涛《核心考案》高清无水印PDF【公众号：薄荷考研】.pdf\")\n",
    "        PyPDFLoader(\"./特色教材.pdf\"),\n",
    "        PyPDFLoader(\"./中国近现代史纲要：2023 年版(1).pdf\")\n",
    "        PyPDFLoader(\"《习近平谈治国理政》第一卷\")\n",
    "        PyPDFLoader(\"《习近平谈治国理政》第二卷\")\n",
    "        PyPDFLoader(\"《习近平谈治国理政》第三卷\")\n",
    "        PyPDFLoader(\"《习近平谈治国理政》第四卷\")\n",
    "        # 如果需要还可以加入其他文件\n",
    "    ]\n",
    "    docs = []\n",
    "    for loader in loaders_chinese:\n",
    "        pages = loader.load()\n",
    "        print(len(pages))\n",
    "        docs.extend(pages)\n",
    "    CHUNK_SIZE = 200\n",
    "    # 知识库中相邻文本重合长度\n",
    "    OVERLAP_SIZE = 50\n",
    "    text_splitter = RecursiveCharacterTextSplitter(\n",
    "        chunk_size=CHUNK_SIZE,\n",
    "        chunk_overlap=OVERLAP_SIZE\n",
    "    )\n",
    "    split_docs = text_splitter.split_documents(docs)\n",
    "    persist_directory = \"./vector_db/pdf\"\n",
    "\n",
    "    vectordb = Chroma.from_documents(\n",
    "        documents=split_docs,\n",
    "        embedding=embedding,\n",
    "        persist_directory=persist_directory  # 允许我们将persist_directory目录保存到磁盘上\n",
    "    )\n",
    "    vectordb.persist()\n",
    "    return vectordb\n",
    "\n",
    "\n",
    "def load_knowledge_db(persist_path, embedding):\n",
    "    vectordb = Chroma(\n",
    "        persist_directory=persist_path,\n",
    "        embedding_function=embedding\n",
    "    )\n",
    "    return vectordb"
   ]
  },
  {
   "cell_type": "code",
   "execution_count": 22,
   "id": "ffdde8dc-6ae7-4054-86f1-30f34879bf3c",
   "metadata": {
    "ExecutionIndicator": {
     "show": true
    },
    "execution": {
     "iopub.execute_input": "2024-09-20T02:41:50.493826Z",
     "iopub.status.busy": "2024-09-20T02:41:50.493435Z",
     "iopub.status.idle": "2024-09-20T02:41:50.505714Z",
     "shell.execute_reply": "2024-09-20T02:41:50.505204Z",
     "shell.execute_reply.started": "2024-09-20T02:41:50.493797Z"
    },
    "tags": []
   },
   "outputs": [],
   "source": [
    "from typing import Any, List, Mapping, Optional, Dict\n",
    "from langchain_core.callbacks.manager import CallbackManagerForLLMRun\n",
    "from langchain_core.language_models.llms import LLM\n",
    "from zhipuai import ZhipuAI\n",
    "\n",
    "# 继承自 langchain_core.language_models.llms.LLM,用于调用 ZhipuAI 的语言模型服务\n",
    "class ZhipuAILLM(LLM):\n",
    "    # 默认选用 glm-4 模型\n",
    "    model: str = \"glm-4\"\n",
    "    # 温度系数\n",
    "    temperature: float = 0.1\n",
    "    # API_Key\n",
    "    api_key: str = \"652a160546149ef4e3ec0ff881beebfe.D3UaKuk7FmiUn9WQ\"\n",
    "    max_tokens: int = 2048\n",
    "\n",
    "    # 定义 _call 方法：\n",
    "    # 这个方法实现了实际的 API 调用逻辑：\n",
    "    # 初始化 ZhipuAI 客户端。\n",
    "    # 生成请求参数messages。\n",
    "    # 调用 chat.completions.create 方法获取响应。\n",
    "    # 返回响应中的内容，如果没有结果则返回错误信息。\n",
    "    def _call(self, prompt: str, stop: Optional[List[str]] = None,\n",
    "              run_manager: Optional[CallbackManagerForLLMRun] = None,\n",
    "              **kwargs: Any):\n",
    "        # 生成 GLM 模型请求参数的方法：\n",
    "        # 生成 GLM 模型的请求参数 messages，包括系统消息和用户输入\n",
    "        def gen_glm_params(prompt):\n",
    "            '''\n",
    "            构造 GLM 模型请求参数 messages\n",
    "            请求参数：\n",
    "                prompt: 对应的用户提示词\n",
    "            '''\n",
    "            messages = [{\"role\": \"user\", \"content\": prompt}]\n",
    "            return messages\n",
    "\n",
    "        client = ZhipuAI(\n",
    "            api_key=self.api_key\n",
    "        )\n",
    "\n",
    "        messages = gen_glm_params(prompt)\n",
    "        response = client.chat.completions.create(\n",
    "            model=self.model,\n",
    "            messages=messages,\n",
    "            temperature=self.temperature,\n",
    "            max_tokens=self.max_tokens\n",
    "        )\n",
    "\n",
    "        if len(response.choices) > 0:\n",
    "            return response.choices[0].message.content\n",
    "        return \"generate answer error\"\n",
    "\n",
    "    # 定义属性方法：\n",
    "    # _default_params：返回调用 API 的默认参数。\n",
    "    # _llm_type：返回模型类型的字符串标识。\n",
    "    # _identifying_params：返回模型的标识参数。\n",
    "    # 首先定义一个返回默认参数的方法\n",
    "    @property\n",
    "    def _default_params(self) -> Dict[str, Any]:\n",
    "        \"\"\"获取调用Ennie API的默认参数。\"\"\"\n",
    "        normal_params = {\n",
    "            \"temperature\": self.temperature,\n",
    "        }\n",
    "        # print(type(self.model_kwargs))\n",
    "        return {**normal_params}\n",
    "\n",
    "    @property\n",
    "    def _llm_type(self) -> str:\n",
    "        return \"Zhipu\"\n",
    "\n",
    "    @property\n",
    "    def _identifying_params(self) -> Mapping[str, Any]:\n",
    "        \"\"\"Get the identifying parameters.\"\"\"\n",
    "        return {**{\"model\": self.model}, **self._default_params}\n"
   ]
  },
  {
   "cell_type": "code",
   "execution_count": 66,
   "id": "2d4f211b-9c7a-4727-8f2c-2ac6e401b862",
   "metadata": {
    "ExecutionIndicator": {
     "show": true
    },
    "execution": {
     "iopub.execute_input": "2024-09-20T03:09:00.847842Z",
     "iopub.status.busy": "2024-09-20T03:09:00.847501Z",
     "iopub.status.idle": "2024-09-20T03:09:00.858080Z",
     "shell.execute_reply": "2024-09-20T03:09:00.857475Z",
     "shell.execute_reply.started": "2024-09-20T03:09:00.847820Z"
    },
    "tags": []
   },
   "outputs": [],
   "source": [
    "from langchain.chains.llm import LLMChain\n",
    "from langchain.prompts import PromptTemplate\n",
    "# 导入PromptTemplate类，用于创建问题模板\n",
    "from langchain.chains import RetrievalQA\n",
    "# 导入RetrievalQA类，用于执行检索问答\n",
    "import sys\n",
    "# 导入sys模块，用于操作系统相关功能\n",
    "from langchain_community.vectorstores import Chroma\n",
    "from zhipuai import ZhipuAI\n",
    "\n",
    "\n",
    "sys.path.append(\"../\")\n",
    "# 添加上级目录到模块搜索路径\n",
    "# from qa_chain.model_to_llm import model_to_llm\n",
    "# # 导入model_to_llm函数，用于将模型转换为大语言模型(LLM)\n",
    "# from qa_chain.get_vectordb import get_vectordb\n",
    "# # 导入get_vectordb函数，用于获取向量数据库\n",
    "\n",
    "# 定义 QA_chain_self 类：\n",
    "# 该类用于创建和管理一个问答链系统，不带历史记录，类的描述文档说明了各个参数的用途。\n",
    "class QA_chain_self():\n",
    "    # 类描述\n",
    "    \"\"\"\n",
    "    不带历史记录的问答链\n",
    "    - model：调用的模型名称\n",
    "    - temperature：温度系数，控制生成的随机性\n",
    "    - top_k：返回检索的前k个相似文档\n",
    "    - file_path：建库文件所在路径\n",
    "    - persist_path：向量数据库持久化路径\n",
    "    - api_key：所有模型都需要\n",
    "    - embeddings：使用的embedding模型\n",
    "    - embedding_key：使用的embedding模型的秘钥（智谱或者OpenAI）\n",
    "    - template：可以自定义提示模板，没有输入则使用默认的提示模板default_template_rq\n",
    "    \"\"\"\n",
    "\n",
    "    # 默认的提示模板，用于构建问答的输入\n",
    "    default_template_rq = \"\"\"\n",
    "    使用以下上下文来回答最后的问题。如果你不知道答案，就说你不知道，不要试图编造答案。最多使用三句话。尽量使答案简明扼要。总是在回答的最后说“谢谢你的提问！”。\n",
    "    {context}\n",
    "    问题: {question}\n",
    "    有用的回答:\"\"\"\n",
    "\n",
    "    template1 = \"\"\"给你一个任务：给定一段文本，这段文本中第一段是题目，题目中会有括号，后面四行为A，B，C，D四个选项，最后一行是题目的答案。你需要做的是：将题目中的括号以及括号内的内容替换为答案并输出问题，注意不需要输出选项。\n",
    "    不需要你检查指出题目的对错，不要输出除了以上任务之外的任何回答。\n",
    "    这是你需要处理的文本：{question}\n",
    "    \"\"\"\n",
    "    template2 = \"\"\"使用以下背景知识来回答最后的问题。不要试图编造答案。尽量简明扼要地回答。\n",
    "    背景知识：{context}\n",
    "    问题：{query}\"\"\"\n",
    "\n",
    "\n",
    "    # 构造函数，初始化类实例\n",
    "    # 初始化向量数据库和LLM\n",
    "    # 初始化 PromptTemplate 和 RetrievalQA 类\n",
    "    def __init__(self, model: str, temperature: float = 0.0, top_k: int = 4, choiceproblem_file_path: str = None,\n",
    "                 analysis_vectordb_file_path: str = None, persist_path: str = None, api_key: str = None,\n",
    "                 embedding=\"zhipuai\", embedding_path=None, template=default_template_rq):\n",
    "        # 类属性初始化\n",
    "        self.model = model\n",
    "        self.temperature = temperature\n",
    "        self.top_k = top_k\n",
    "        # self.file_path = file_path\n",
    "        self.persist_path = persist_path\n",
    "        self.api_key = api_key\n",
    "        self.embedding = embedding\n",
    "        # self.embedding_key = embedding_key\n",
    "        self.embedding_path = embedding_path\n",
    "        self.template = template\n",
    "        client = ZhipuAI(api_key=\"652a160546149ef4e3ec0ff881beebfe.D3UaKuk7FmiUn9WQ\")\n",
    "        # 加载已存在的向量数据库\n",
    "        self.choiceproblem_vectordb = get_vectordb(choiceproblem_file_path, persist_path + \"/choiceproblem\", embedding_path)\n",
    "        self.analysis_vectordb = get_vectordb(analysis_vectordb_file_path, persist_path + \"/pdf\", embedding_path)\n",
    "        self.llm = ZhipuAILLM()\n",
    "\n",
    "        # # 初始化PromptTemplate和RetrievalQA类\n",
    "        # self.QA_CHAIN_PROMPT = PromptTemplate(input_variables=[\"context\", \"question\"], template=self.template)\n",
    "        # self.retriever = self.vectordb.as_retriever(search_type=\"similarity\", search_kwargs={'k': self.top_k})\n",
    "        # self.qa_chain = RetrievalQA.from_chain_type(llm=self.llm, retriever=self.retriever,\n",
    "        #                                             return_source_documents=True,\n",
    "        #                                             chain_type_kwargs={\"prompt\": self.QA_CHAIN_PROMPT})\n",
    "        self.prompt1 = PromptTemplate(\n",
    "            input_variables=[\"question\"],\n",
    "            template=self.template1\n",
    "        )\n",
    "        self.chain1 = LLMChain(\n",
    "            llm=self.llm, prompt=self.prompt1\n",
    "        )\n",
    "\n",
    "        self.prompt2 = PromptTemplate(\n",
    "            input_variables=[\"context\", \"query\"],\n",
    "            template=self.template2\n",
    "        )\n",
    "        self.chain2 = LLMChain(\n",
    "            llm=self.llm, prompt=self.prompt2\n",
    "        )\n",
    "\n",
    "\n",
    "    # 提供问答功能的方法，根据用户问题调用问答链并返回结果\n",
    "    def answer(self, query: str = None, temperature=None, top_k=4):\n",
    "        \"\"\"\n",
    "        核心方法，调用问答链\n",
    "        arguments:\n",
    "        - question：用户提问\n",
    "        \"\"\"\n",
    "        # 检查问题是否为空\n",
    "        if len(query) == 0:\n",
    "            return \"\"\n",
    "\n",
    "        # 如果没有指定温度或top_k参数，则使用初始化时的值\n",
    "        if temperature is None:\n",
    "            temperature = self.temperature\n",
    "        if top_k is None:\n",
    "            top_k = self.top_k\n",
    "\n",
    "        sim_docs = self.choiceproblem_vectordb.similarity_search(query, k=1)\n",
    "        question = \"\"\n",
    "        for sim_doc in sim_docs:\n",
    "            print(sim_doc.page_content)\n",
    "            print(\"--------------\")\n",
    "            question = question + sim_doc.page_content+'\\n'\n",
    "        response = self.chain1(question)\n",
    "        print(response)\n",
    "        print(\"---------\\n\")\n",
    "        context = response['text']\n",
    "\n",
    "        related_analysis = self.analysis_vectordb.similarity_search(query, k=3)\n",
    "        for related_doc in related_analysis:\n",
    "            # print(type(related_doc))\n",
    "            context = context + related_doc.page_content\n",
    "        result = self.chain2({'context': context, 'query': query})\n",
    "        # 调用问答链并返回结果\n",
    "        # result = self.qa_chain({\"query\": question, \"temperature\": temperature, \"top_k\": top_k})\n",
    "        return result"
   ]
  },
  {
   "cell_type": "code",
   "execution_count": 67,
   "id": "561a47be-c0db-4457-8f86-94c2b55b268d",
   "metadata": {
    "ExecutionIndicator": {
     "show": true
    },
    "execution": {
     "iopub.execute_input": "2024-09-20T03:09:04.876490Z",
     "iopub.status.busy": "2024-09-20T03:09:04.876160Z",
     "iopub.status.idle": "2024-09-20T03:09:11.693862Z",
     "shell.execute_reply": "2024-09-20T03:09:11.693373Z",
     "shell.execute_reply.started": "2024-09-20T03:09:04.876468Z"
    },
    "tags": []
   },
   "outputs": [
    {
     "name": "stdout",
     "output_type": "stream",
     "text": [
      "问题: 379、大革命失败后，点燃\"工农武装割据\"\"星星之火\"是指 ( )\n",
      "A: 中华苏维埃共和国成立\n",
      "B: 南昌起义\n",
      "C: \"八七\"会议\n",
      "D: 井冈山根据地建立\n",
      "答案: 井冈山根据地建立\n",
      "--------------\n",
      "{'question': '问题: 379、大革命失败后，点燃\"工农武装割据\"\"星星之火\"是指 ( )\\nA: 中华苏维埃共和国成立\\nB: 南昌起义\\nC: \"八七\"会议\\nD: 井冈山根据地建立\\n答案: 井冈山根据地建立\\n', 'text': '大革命失败后，点燃\"工农武装割据\"\"星星之火\"是指井冈山根据地建立。'}\n",
      "---------\n",
      "\n",
      "{'context': '大革命失败后，点燃\"工农武装割据\"\"星星之火\"是指井冈山根据地建立。i j 1 1「 11 1 I L丿,)i<i, I,\\'\\';\\', I r J 1 i, \\n《井冈山的斗争》曲篇文心，明确指出以农＼ lV为主耍经济的中\\n国革命，以军事发展暴动，是一种持征；深亥lj论证［红色政\\n权能够长期存在并发展的主客观条件，提出了工农武装割据\\n的思想。 1930年1月，毛泽东在《星星之火，可以僚原》一\\n文中进一步指出：红军、游击队和红色区域的建立和发展，l 27 \\n谬\\n东：《星起着先锋作用和表率作用。由共产党直接领导的第四军独立团，是一个突\\n出的例证。独立团在北伐中战功卓著，使第四军赢得了“铁军＇的称号。此\\n外，共产党人还建立了一定数釐的工农武装（工人纠察队、农民自卫军等），\\n配合正规军作战，而上海工人的起义武装更是充当了解放上海的主力。\\n一：＾、大，节命的失败及其教训\\n丸店命 I_1一向失败 在大革命初期和中期，中国共产党的路线基本是正确日着草鞋十革命，夜走山路访贫农”等民歌广泛传唱。\\n革命根据地生机勃勃的景象，同国民党统治区民不聊生的悲惨景象形\\n成鲜明对照。根据地成为新民主主义共和国的雏形，使身陷苦难深渊的中\\n国人民看到了光明和希望。\\nL地，中命战争的四巾挫仇 中国革命的复兴和发展并不是一帆风顺\\n的。从 1927年7月大革命失败到 1935年1月遵义会议召开前，“左”倾', 'query': '大革命失败后，点燃工农武装割据星星之火是指什么', 'text': '大革命失败后，点燃“工农武装割据星星之火”是指井冈山根据地的建立和工农武装割据思想的实践。这一思想由毛泽东提出，强调在中国革命中以农民为主力军，通过军事手段发展暴动，建立红军、游击队和红色区域，为红色政权的长期存在和发展奠定基础。井冈山根据地在当时成为新民主主义共和国的雏形，为中国人民在困境中带来了希望。'}\n"
     ]
    }
   ],
   "source": [
    "prompt: str  # 用户 prompt\n",
    "model: str = \"glm-4-flash\"  # 使用的模型\n",
    "temperature: float = 0.1  # 温度系数\n",
    "if_history: bool = False  # 是否使用历史对话功能\n",
    "# API_Key\n",
    "api_key: str = \"652a160546149ef4e3ec0ff881beebfe.D3UaKuk7FmiUn9WQ\"\n",
    "# Secret_Key\n",
    "secret_key: str = None\n",
    "# access_token\n",
    "access_token: str = None\n",
    "# APPID\n",
    "appid: str = None\n",
    "# APISecret\n",
    "Spark_api_secret: str = None\n",
    "# Secret_key\n",
    "Wenxin_secret_key: str = None\n",
    "# 数据库路径\n",
    "db_path: str = \"./vector_db\"\n",
    "# 源文件路径\n",
    "file_path: str = \"./中国近现代史纲要：2023 年版(1).pdf\"\n",
    "# prompt template\n",
    "prompt_template: str = \"\"\"使用以下上下文来回答最后的问题。如果你不知道答案，就说你不知道，不要试图编造答\n",
    "案。最多使用三句话。尽量使答案简明扼要。总是在回答的最后说“谢谢你的提问！”。\n",
    "{context}\n",
    "问题: {question}\n",
    "有用的回答:\"\"\"\n",
    "# Template 变量\n",
    "input_variables: list = [\"context\", \"question\"]\n",
    "# Embdding\n",
    "embedding: str = \"m3e\"\n",
    "# Top K\n",
    "top_k: int = 5\n",
    "# embedding_key\n",
    "embedding_key = \"652a160546149ef4e3ec0ff881beebfe.D3UaKuk7FmiUn9WQ\"\n",
    "\n",
    "choiceproblem_file_path=\"./vector_db/choiceproblem\"\n",
    "analysis_vectordb_file_path=\"./vector_db/pdf\"\n",
    "embedding_path = \"./AI-ModelScope/bge-large-zh-v1___5\"\n",
    "\n",
    "chain = QA_chain_self(model=model, temperature=temperature, top_k=top_k,\n",
    "                              choiceproblem_file_path=choiceproblem_file_path, analysis_vectordb_file_path=analysis_vectordb_file_path,persist_path=db_path,\n",
    "                              api_key=api_key, embedding_path=embedding_path, template=prompt_template)\n",
    "\n",
    "response = chain.answer(query=\"大革命失败后，点燃工农武装割据星星之火是指什么\")\n",
    "print(response)"
   ]
  },
  {
   "cell_type": "code",
   "execution_count": null,
   "id": "d3c1026a-d910-41a4-b639-05b89cc7c91a",
   "metadata": {
    "ExecutionIndicator": {
     "show": true
    },
    "tags": []
   },
   "outputs": [],
   "source": [
    "problems = [\"近代中国的社会性质是什么？\",\n",
    "           \"近代中国的主要矛盾是什么？\",\n",
    "           \"如何认识近代中国社会的落伍\",\n",
    "           \"太平天国运动的历史意义与局限\",\n",
    "           \"洋务运动的历史意义与局限\",\n",
    "           \"辛亥革命的纲领，意义是什么？\",\n",
    "           \"新文化运动的内容是\",\n",
    "           \"毛泽东思想形成的标志是什么？\",\n",
    "           \"中国共产党史上生死攸关的转折点是什么？\",\n",
    "           \"中国抗日战争在世界反法西斯战争中的地位和作用？\",\n",
    "           \"中国共产党领导的多党合作，政治协商的格局是怎样形成的？\",\n",
    "            \"中国革命胜利的原因和基本经验有哪些？\",\n",
    "            \"新民主主义社会的性质\",\n",
    "            \"中国实行社会主义改造的国内外条件？\",\n",
    "            \"新冠肺炎疫情发生后，党中央将疫情防控作为头等大事来抓，习近平总书记亲自指挥、亲自部署，坚持把什么放在第一位？\",\n",
    "            \"深化供给侧结构性改革，必须持续推进(   )，优化市场供求结构\",\n",
    "            \"近代以来中华民族最伟大的梦想是什么？\",\n",
    "            \"习近平总书记强调，我们党全面领导、长期执政，面临的最大挑战是什么？\",\n",
    "            \"习近平强军思想是什么\",\n",
    "            \"党的十九届四中全会指出，党和人民在长期实践探索中形成的科学制度体系是指\",\n",
    "            \"2020年脱贫攻坚任务完成后，我国将有1亿左右贫困人口实现脱贫，这也意味着我国将提前（）实现联合国2030年可持续发展议程的减贫目标\",\n",
    "            \"党的十九大提出：从2035年到本世纪中叶，在基本实现现代化的基础上，再奋斗15年，把我国建成（）的社会主义现代化强国\",\n",
    "            \"新时代党的建设总要求是坚持和加强党的全面领导，坚持党要管党、全面从严治党，以(   )为主线\",\n",
    "            \"习近平总书记在参加内蒙古代表团的审议时发表重要讲话指出，我们党没有自己特殊的利益，党在任何时候都把（）放在第一位\",\n",
    "            \"2014年十八届四中全会通过了(   )，明确提出全面推进依法治国，加快建设法治中国，开启了中国特色社会主义法治道路的新征程\",\n",
    "            \"中国共产党 ( ) 将毛泽东思想规定为中国共产党的一切工作的指针\"\n",
    "          ]\n",
    "for problem in problems:\n",
    "    res = vectordb.similarity_search_with_relevance_scores(query=problem, k=1)\n",
    "    print(res)\n",
    "    print(\"-----------\")\n"
   ]
  },
  {
   "cell_type": "code",
   "execution_count": 12,
   "id": "6374a601-dabc-49d6-bf30-0dfd8715e374",
   "metadata": {
    "execution": {
     "iopub.execute_input": "2024-09-23T05:59:58.458592Z",
     "iopub.status.busy": "2024-09-23T05:59:58.458212Z",
     "iopub.status.idle": "2024-09-23T05:59:59.106717Z",
     "shell.execute_reply": "2024-09-23T05:59:59.106007Z",
     "shell.execute_reply.started": "2024-09-23T05:59:58.458573Z"
    },
    "tags": []
   },
   "outputs": [
    {
     "name": "stderr",
     "output_type": "stream",
     "text": [
      "2024-09-23 13:59:58,811 - modelscope - WARNING - Model revision not specified, use revision: v1.1.0\n"
     ]
    },
    {
     "data": {
      "text/plain": [
       "'./iic/nlp_gte_sentence-embedding_chinese-large'"
      ]
     },
     "execution_count": 12,
     "metadata": {},
     "output_type": "execute_result"
    }
   ],
   "source": [
    "snapshot_download('iic/nlp_gte_sentence-embedding_chinese-large', cache_dir='./')"
   ]
  },
  {
   "cell_type": "code",
   "execution_count": 16,
   "id": "6246955d-4186-4415-a9ee-2f130fb1fe79",
   "metadata": {
    "ExecutionIndicator": {
     "show": false
    },
    "execution": {
     "iopub.execute_input": "2024-09-23T06:14:51.085939Z",
     "iopub.status.busy": "2024-09-23T06:14:51.085600Z",
     "iopub.status.idle": "2024-09-23T06:20:47.461112Z",
     "shell.execute_reply": "2024-09-23T06:20:47.460532Z",
     "shell.execute_reply.started": "2024-09-23T06:14:51.085920Z"
    },
    "tags": []
   },
   "outputs": [
    {
     "name": "stderr",
     "output_type": "stream",
     "text": [
      "No sentence-transformers model found with name ./iic/nlp_gte_sentence-embedding_chinese-large. Creating a new one with mean pooling.\n"
     ]
    }
   ],
   "source": [
    "nlp_gte_embedding_model_path = \"./iic/nlp_gte_sentence-embedding_chinese-large\"\n",
    "\n",
    "nlp_gte = get_embedding(nlp_gte_embedding_model_path)\n",
    "\n",
    "loaders_chinese = [\n",
    "    # PyMuPDFLoader(\"./data/24徐涛《核心考案》高清无水印PDF【公众号：薄荷考研】.pdf\")\n",
    "        PyPDFLoader(\"./中国近现代史纲要：2023 年版(1).pdf\"),\n",
    "        PyPDFLoader(\"《习近平谈治国理政》第一卷.pdf\"),\n",
    "        PyPDFLoader(\"《习近平谈治国理政》第二卷.pdf\"),\n",
    "        PyPDFLoader(\"《习近平谈治国理政》第三卷.pdf\"),\n",
    "        PyPDFLoader(\"《习近平谈治国理政》第四卷.pdf\")\n",
    "    # 如果需要还可以加入其他文件\n",
    "]\n",
    "docs = []\n",
    "for loader in loaders_chinese:\n",
    "    docs.extend(loader.load())\n",
    "CHUNK_SIZE = 300\n",
    "# 知识库中相邻文本重合长度\n",
    "OVERLAP_SIZE = 50\n",
    "\n",
    "text_splitter = RecursiveCharacterTextSplitter(\n",
    "    chunk_size=CHUNK_SIZE,\n",
    "    chunk_overlap=OVERLAP_SIZE\n",
    ")\n",
    "split_docs = text_splitter.split_documents(docs)\n",
    "persist_directory = \"./vector_db/nlp__gte\"\n",
    "\n",
    "vectordb = Chroma.from_documents(\n",
    "    documents=split_docs,\n",
    "    embedding=nlp_gte,\n",
    "    persist_directory=persist_directory  # 允许我们将persist_directory目录保存到磁盘上\n",
    ")\n",
    "vectordb.persist()"
   ]
  },
  {
   "cell_type": "code",
   "execution_count": 23,
   "id": "3ba5bd45-ac5a-46e1-858c-25c7781b3c4a",
   "metadata": {
    "ExecutionIndicator": {
     "show": false
    },
    "execution": {
     "iopub.execute_input": "2024-09-23T06:36:40.001293Z",
     "iopub.status.busy": "2024-09-23T06:36:40.000690Z",
     "iopub.status.idle": "2024-09-23T06:36:40.905977Z",
     "shell.execute_reply": "2024-09-23T06:36:40.905413Z",
     "shell.execute_reply.started": "2024-09-23T06:36:40.001270Z"
    },
    "tags": []
   },
   "outputs": [
    {
     "name": "stderr",
     "output_type": "stream",
     "text": [
      "No sentence-transformers model found with name ./iic/nlp_gte_sentence-embedding_chinese-large. Creating a new one with mean pooling.\n"
     ]
    },
    {
     "name": "stdout",
     "output_type": "stream",
     "text": [
      "[(Document(metadata={'page': 15, 'source': './中国近现代史纲要：2023 年版(1).pdf'}, page_content='半殖民地半封建社会，是近代以来中国在外国资本－帝国主义。势力入侵\\n及其与中国封建主义势力相结合条件下，逐步形成的一种从屈于资本主义\\n世界体系的畸形社会形态。从鸦片战争开始，到 1949年中华人民共和国\\n成立前，中国都属于半殖民地半封建补会。\\n半殖民地半封建社会性质，决定了近代中国社会矛盾呈现错综复杂的\\n状况。在诸多籵会矛盾中，主要矛盾是帝国主义和中华民族的矛盾、封建\\n主义和人民大众的矛盾。上述主要矛盾贯穿中国半殖民地半封建社会的始\\n. ．一心~··· ` -- -”“ \\n@ 资本－帝国主义，涵盖自由竞争阶段的资本主义和垄断阶段的资本主义即\\n帝国主义。'), 0.4169695790257645)]\n",
      "-----------\n",
      "[(Document(metadata={'page': 53, 'source': '《习近平谈治国理政》第四卷.pdf'}, page_content='当注意的。”近代以后，中国社会矛盾错综复杂，有帝国主义和\\n中华民族的矛盾、封建主义和人民大众的矛盾，有资产阶级和无\\n产阶级的矛盾、反动统治阶级内部的矛盾，而帝国主义和中华民'), 0.5949905757309886)]\n",
      "-----------\n",
      "[(Document(metadata={'page': 53, 'source': '《习近平谈治国理政》第四卷.pdf'}, page_content='当注意的。”近代以后，中国社会矛盾错综复杂，有帝国主义和\\n中华民族的矛盾、封建主义和人民大众的矛盾，有资产阶级和无\\n产阶级的矛盾、反动统治阶级内部的矛盾，而帝国主义和中华民'), 0.4518865149962513)]\n",
      "-----------\n",
      "[(Document(metadata={'page': 65, 'source': './中国近现代史纲要：2023 年版(1).pdf'}, page_content=\"俨\\n1h,I,11,i`Ap`_I'1,\\n＇，＇\\n,I,_11\\n失败。\\na心今、农民斗争的总义和凡限\\n人平人 1l i衣l心店义的丿力史义\\n太平天国起义虽然失败了，但它具有\"), 0.5006066702946014)]\n",
      "-----------\n",
      "[(Document(metadata={'page': 81, 'source': './中国近现代史纲要：2023 年版(1).pdf'}, page_content='救亡图存而前赴后继顽强斗争的集中体现。\\n20世纪初，帝国主义列强在迫使中国签订《辛且条约》以后，加强'), 0.43683465313440417)]\n",
      "-----------\n",
      "[(Document(metadata={'page': 102, 'source': './中国近现代史纲要：2023 年版(1).pdf'}, page_content='学习思考\\n1.革命派在与改良派论战中是如何论述革命的必要性、正义性、进\\n步性的？\\n2.为什么说孙中山领导的辛亥革命引起了近代中国的历史性巨大\\n变化？\\n3.辛亥革命为什么会失败？它的失败说明了什么？\\n必读文献\\n1.孙中山：《（民报〉发刊词》(1905年10月20日）\\n《民报》是中国同盟会的机关报，是当时革命派影响最大的刊物。\\n《（民报〉发刊词》是孙中山以本人名义在《民报》上发表的最有影响的文\\n章，第一次正式提出了民族主义、民权主义、民生主义。\\n2.毛泽东：《纪念孙中山先生》(1956年11月12日）\\n本文是毛泽东为纪念孙中山先生诞辰90周年所写，刊载于《人民 H'), 0.47767132471248863)]\n",
      "-----------\n",
      "[(Document(metadata={'page': 525, 'source': '《习近平谈治国理政》第一卷.pdf'}, page_content='119,142,144,161,175,189,200, \\n207,226,265,274,314,326,332, \\n365,399,411,424 \\n小微企业 351\\n协商民主 82\\n协调各方 13，86，11日，142 \\n464 辛格 323\\n新安全观 298 ，358\\n新的历史特点的伟大斗争 16，155 ，411\\n新加坡 441 ，446\\n新民主主义革命 135 ，166 \\n新能抑、 119 ，130 ，131 ，317 ，341\\n新文化运动 167\\n新闻媒体 431\\n新兴产业 345 ，350\\n新兴媒体 162\\n新型大国关系 269 ，279 ，280\\n新型农业经营体系 81'), 0.44983910538928906)]\n",
      "-----------\n",
      "[(Document(metadata={'page': 47, 'source': '《习近平谈治国理政》第四卷.pdf'}, page_content='以能够领导人民在一次次求索、一次次挫折、一次次开拓中完\\n成中国其他各种政治力量不可能完成的艰巨任务，根本在于坚\\n持把马克思主义基本原理同中国具体实际相结合、同中华优秀'), 0.4087504799508066)]\n",
      "-----------\n",
      "[(Document(metadata={'page': 273, 'source': './中国近现代史纲要：2023 年版(1).pdf'}, page_content='是有关党的生死存亡的问题“@，要求党的各级组织提高认识，努力加强党\\n少《邓小平文选》第三卷，人民出版社1993年版，第 51一52页。\\n@ 《陈云文选》笫三卷，人民出版社 1995年版，笫 273页。'), 0.5556047251191947)]\n",
      "-----------\n",
      "[(Document(metadata={'page': 9, 'source': './中国近现代史纲要：2023 年版(1).pdf'}, page_content=\"L^\\n、．，乙\\n~~ v .l \\n第四节 抗日战争的中流砾柱／ 148\\n一、全面抗战路线和持久战的战略总方针／ 148\\n二、敌后战场的开辟与游击战争的发展／ 149\\n二、坚持抗战、团结、进步的力针／ 151\\n四、抗日民主根据地的建设／ 153\\n五、大后方的抗日民主运动和进步文化工作／ 155\\n六、中国共产党的自身建设／ 156\\n第五节 抗日战争的胜利及其意义／ 161\\n一、抗 H战争的胜利／ 161\\n二、中国人民抗日战争在世界反法西斯战争中的地位／ 162\\n三、抗 H战争胜利的原因和意义／ 164\\n、`\\n｀上少~,~~ C'\\n.l `, `. ^;,r l fJ 应牙\"), 0.4552537953111806)]\n",
      "-----------\n",
      "[(Document(metadata={'page': 416, 'source': '《习近平谈治国理政》第四卷.pdf'}, page_content='应由少数人来制定。国家间的合作应该以服务全人类为宗旨，而\\n不应以小集团政治谋求世界霸权。我们要共同反对以多边主义之'), 0.4122419670282975)]\n",
      "-----------\n",
      "[(Document(metadata={'page': 203, 'source': './中国近现代史纲要：2023 年版(1).pdf'}, page_content='结合起来，形成了伟大的毛泽东思想，找到了夺取中国革命胜利的正确道\\n路。这对马克思列宁主义的发展是一个重大贡献。\\n中1月革命旧利的从本经验 中国反帝反封建的革命，经历了资产阶级'), 0.5514106922238755)]\n",
      "-----------\n",
      "[(Document(metadata={'page': 18, 'source': './中国近现代史纲要：2023 年版(1).pdf'}, page_content='义、封建主义、官僚资本主义，争取民族独立、人民解放，为实现中华民\\n族伟大复兴创造根本补会条件。党领导人民浴血奋战、百折不挠，创造\\n了新民主主义革命的伟大成就。经过北伐战争、土地革命战争、抗日战'), 0.4608489158915473)]\n",
      "-----------\n",
      "[(Document(metadata={'page': 245, 'source': './中国近现代史纲要：2023 年版(1).pdf'}, page_content='不断加强执政党的建设。“文化大革命”是在探求中国自己的补会主义道\\n路历程中遭到的严重挫折。中国共产党依靠自己的力量，最终纠正『这一\\n严重错误。历史再一次证明，中国人民是伟大的人民，中国共产党有能力\\n靠自己的力鼠纠正错误，中国共产党利社会主义制度具有强大的生命力。\\n“文化大革命”持续十年，暴露出当时党和国家在体制、政策、工作等方\\nG 中共中央文献研究室编：《十一届三中全会以来重要文献选读》上册，人\\n民出版社 1987年版，第 317页。'), 0.43115190925598335)]\n",
      "-----------\n",
      "[(Document(metadata={'page': 291, 'source': '《习近平谈治国理政》第四卷.pdf'}, page_content='有自信、有底气、有定力。事实教育了我们的人民群众，人民\\n群众越来越自信。\\n面对突如其来的疫情，我们始终坚持坚定信心、同舟共济、\\n科学防治、精准施策的总要求。2月5曰，我就主持召开中央全'), 0.5865848504108243)]\n",
      "-----------\n",
      "[(Document(metadata={'page': 240, 'source': '《习近平谈治国理政》第二卷.pdf'}, page_content='中央经济工作会议上就是这样说的。“结构性”3个字十分重要，简称\\n“供给侧改革”也可以，但不能忘了“结构性”3个字。供给侧结构性改'), 0.6031066679081858)]\n",
      "-----------\n",
      "[(Document(metadata={'page': 8, 'source': '《习近平谈治国理政》第一卷.pdf'}, page_content='中华民族近代以来最伟大的梦想……………………… 3.5 \\n( 2012年II月29日)\\n在第十二届全国人民代表大会第一次会议上的讲话 …….. 38 \\n( 2013年3月17日)\\n1 \\nN艝PN巈Y[fS蕐褁\\x14O\\x7fu('), 0.5303830394459115)]\n",
      "-----------\n",
      "[(Document(metadata={'page': 30, 'source': '《习近平谈治国理政》第四卷.pdf'}, page_content='期面临的风险考验，确保我们党在世界形势深刻变化的历史进程\\n中始终走在时代前列，在应对国内外各种风险挑战的历史进程中\\n始终成为全国人民的主心骨！'), 0.5599654066535258)]\n",
      "-----------\n",
      "[(Document(metadata={'page': 383, 'source': '《习近平谈治国理政》第二卷.pdf'}, page_content='力，共同落实深化国防和军队改革各项任务，推动全面实施改革强\\n军战略不断取得新的进展，为实现中国梦、强军梦作出新的更大的\\n贡献。\\n*这是习近平在中央军委改革工作会议上的讲话要点。'), 0.5242038478388806)]\n",
      "-----------\n",
      "[(Document(metadata={'page': 484, 'source': '《习近平谈治国理政》第四卷.pdf'}, page_content='就是新时代党的组织路线强调“以组织体系建设为重点”的道\\n理所在。党的十八大以来，我们抓党的建设，首先就抓中央委\\n员会、中央政治局及其常委会的建设，制定的各项党内法规都'), 0.47816882611231115)]\n",
      "-----------\n",
      "[(Document(metadata={'page': 87, 'source': '《习近平谈治国理政》第二卷.pdf'}, page_content='坚持精准扶贫、精准脱贫，坚决打赢脱贫攻坚战*\\n（2015年11月27日）\\n消除贫困、改善民生、逐步实现共同富裕，是社会主义的本质\\n要求，是我们党的重要使命。全面建成小康社会，是我们对全国人\\n民的庄严承诺。脱贫攻坚战的冲锋号已经吹响。我们要立下愚公移\\n山志，咬定目标、苦干实干，坚决打赢脱贫攻坚战，确保到2020\\n年所有贫困地区和贫困人口一道迈入全面小康社会。\\n这次中央扶贫开发工作会议是党的十八届五中全会后召开的第\\n一个中央工作会议，体现了党中央对扶贫开发工作的高度重视。党\\n的十八届五中全会从实现全面建成小康社会奋斗目标出发，明确到\\n2020年我国现行标准下农村贫困人口实现脱贫，贫困县全部摘帽，'), 0.5348145276857408)]\n",
      "-----------\n",
      "[(Document(metadata={'page': 293, 'source': './中国近现代史纲要：2023 年版(1).pdf'}, page_content='力，到中曰共产党成立一百年时，使国民经济更加发展，各项制度更加完\\n善；到 21世纪中叶中华人民共和同成立一百年时，从本实现现代化，建\\n成富强民主文明的补会主义国家。\\n党的十五大在世纪之交的关键时刻，继承邓小平遗志，承前启后、继'), 0.5466883064356239)]\n",
      "-----------\n",
      "[(Document(metadata={'page': 169, 'source': '《习近平谈治国理政》第二卷.pdf'}, page_content='国有企业坚持党的领导、加强党的建设，总的要求是：坚持党要管\\n党、从严治党，紧紧围绕全面解决党的领导、党的建设弱化、淡'), 0.585299540118636)]\n",
      "-----------\n",
      "[(Document(metadata={'page': 60, 'source': '《习近平谈治国理政》第四卷.pdf'}, page_content='反腐败无禁区、全覆盖、零容忍，把全面从严治党贯穿于党的建\\n设各方面，以伟大自我革命引领伟大社会革命，如此等等。六中\\n全会决议概括党的百年奋斗历史意义，第五条就是锻造了走在时\\n代前列的中国共产党；总结党的百年奋斗历史经验，第十条就是'), 0.4238161659789652)]\n",
      "-----------\n",
      "[(Document(metadata={'page': 31, 'source': '《习近平谈治国理政》第二卷.pdf'}, page_content='“四个全面”相辅相成、相互促进、相得益彰。\\n（2015年2月2日在省部级主要领导干部学习贯\\n彻党的十八届四中全会精神全面推进依法治国专题\\n研讨班上的讲话）\\n四'), 0.5439090168042701)]\n",
      "-----------\n",
      "[(Document(metadata={'page': 203, 'source': './中国近现代史纲要：2023 年版(1).pdf'}, page_content='结合起来，形成了伟大的毛泽东思想，找到了夺取中国革命胜利的正确道\\n路。这对马克思列宁主义的发展是一个重大贡献。\\n中1月革命旧利的从本经验 中国反帝反封建的革命，经历了资产阶级'), 0.48782542774943016)]\n",
      "-----------\n"
     ]
    }
   ],
   "source": [
    "nlp_gte_embedding_model_path = \"./iic/nlp_gte_sentence-embedding_chinese-large\"\n",
    "model_kwargs = {'device': 'cuda'}\n",
    "encode_kwargs = {'normalize_embeddings': True} \n",
    "nlp_gte=embeddings=HuggingFaceEmbeddings(\n",
    "        model_name=nlp_gte_embedding_model_path,\n",
    "        model_kwargs=model_kwargs,\n",
    "        encode_kwargs=encode_kwargs,\n",
    "    )\n",
    "persist_directory = \"./vector_db/nlp__gte\"\n",
    "vectordb = Chroma(\n",
    "    persist_directory=persist_directory,\n",
    "    embedding_function=nlp_gte\n",
    ") \n",
    "\n",
    "problems = [\"近代中国的社会性质是什么？\",\n",
    "           \"近代中国的主要矛盾是什么？\",\n",
    "           \"如何认识近代中国社会的落伍\",\n",
    "           \"太平天国运动的历史意义与局限\",\n",
    "           \"洋务运动的历史意义与局限\",\n",
    "           \"辛亥革命的纲领，意义是什么？\",\n",
    "           \"新文化运动的内容是\",\n",
    "           \"毛泽东思想形成的标志是什么？\",\n",
    "           \"中国共产党史上生死攸关的转折点是什么？\",\n",
    "           \"中国抗日战争在世界反法西斯战争中的地位和作用？\",\n",
    "           \"中国共产党领导的多党合作，政治协商的格局是怎样形成的？\",\n",
    "            \"中国革命胜利的原因和基本经验有哪些？\",\n",
    "            \"新民主主义社会的性质\",\n",
    "            \"中国实行社会主义改造的国内外条件？\",\n",
    "            \"新冠肺炎疫情发生后，党中央将疫情防控作为头等大事来抓，习近平总书记亲自指挥、亲自部署，坚持把什么放在第一位？\",\n",
    "            \"深化供给侧结构性改革，必须持续推进(   )，优化市场供求结构\",\n",
    "            \"近代以来中华民族最伟大的梦想是什么？\",\n",
    "            \"习近平总书记强调，我们党全面领导、长期执政，面临的最大挑战是什么？\",\n",
    "            \"习近平强军思想是什么\",\n",
    "            \"党的十九届四中全会指出，党和人民在长期实践探索中形成的科学制度体系是指\",\n",
    "            \"2020年脱贫攻坚任务完成后，我国将有1亿左右贫困人口实现脱贫，这也意味着我国将提前（）实现联合国2030年可持续发展议程的减贫目标\",\n",
    "            \"党的十九大提出：从2035年到本世纪中叶，在基本实现现代化的基础上，再奋斗15年，把我国建成（）的社会主义现代化强国\",\n",
    "            \"新时代党的建设总要求是坚持和加强党的全面领导，坚持党要管党、全面从严治党，以(   )为主线\",\n",
    "            \"习近平总书记在参加内蒙古代表团的审议时发表重要讲话指出，我们党没有自己特殊的利益，党在任何时候都把（）放在第一位\",\n",
    "            \"2014年十八届四中全会通过了(   )，明确提出全面推进依法治国，加快建设法治中国，开启了中国特色社会主义法治道路的新征程\",\n",
    "            \"中国共产党 ( ) 将毛泽东思想规定为中国共产党的一切工作的指针\"\n",
    "          ]\n",
    "for problem in problems:\n",
    "    res = vectordb.similarity_search_with_relevance_scores(query=problem, k=1)\n",
    "    print(res)\n",
    "    print(\"-----------\")"
   ]
  },
  {
   "cell_type": "code",
   "execution_count": 11,
   "id": "156a7f26-a837-4573-85a2-9da62fad7ac9",
   "metadata": {
    "execution": {
     "iopub.execute_input": "2024-09-23T05:58:45.403293Z",
     "iopub.status.busy": "2024-09-23T05:58:45.402958Z",
     "iopub.status.idle": "2024-09-23T05:59:20.211251Z",
     "shell.execute_reply": "2024-09-23T05:59:20.210626Z",
     "shell.execute_reply.started": "2024-09-23T05:58:45.403263Z"
    },
    "tags": []
   },
   "outputs": [
    {
     "name": "stderr",
     "output_type": "stream",
     "text": [
      "2024-09-23 13:58:45,742 - modelscope - WARNING - Model revision not specified, use revision: v0.0.1\n",
      "Downloading [colbert_linear.pt]: 100%|██████████| 2.00M/2.00M [00:00<00:00, 3.29MB/s]\n",
      "Downloading [config.json]: 100%|██████████| 687/687 [00:00<00:00, 1.15kB/s]\n",
      "Downloading [1_Pooling/config.json]: 100%|██████████| 191/191 [00:00<00:00, 309B/s]\n",
      "Downloading [config_sentence_transformers.json]: 100%|██████████| 123/123 [00:00<00:00, 250B/s]\n",
      "Downloading [configuration.json]: 100%|██████████| 181/181 [00:00<00:00, 312B/s]\n",
      "Downloading [imgs/long.jpg]: 100%|██████████| 213k/213k [00:00<00:00, 346kB/s]\n",
      "Downloading [imgs/miracl.jpg]: 100%|██████████| 196k/196k [00:00<00:00, 414kB/s]\n",
      "Downloading [imgs/mkqa.jpg]: 100%|██████████| 318k/318k [00:00<00:00, 545kB/s]\n",
      "Downloading [model.safetensors]: 100%|██████████| 2.12G/2.12G [00:07<00:00, 319MB/s] \n",
      "Downloading [modules.json]: 100%|██████████| 349/349 [00:00<00:00, 700B/s]\n",
      "Downloading [pytorch_model.bin]: 100%|██████████| 2.12G/2.12G [00:08<00:00, 262MB/s] \n",
      "Downloading [README.md]: 100%|██████████| 1.32k/1.32k [00:00<00:00, 2.29kB/s]\n",
      "Downloading [sentence_bert_config.json]: 100%|██████████| 54.0/54.0 [00:00<00:00, 85.7B/s]\n",
      "Downloading [sentencepiece.bpe.model]: 100%|██████████| 4.83M/4.83M [00:00<00:00, 9.13MB/s]\n",
      "Downloading [sparse_linear.pt]: 100%|██████████| 3.43k/3.43k [00:00<00:00, 5.93kB/s]\n",
      "Downloading [special_tokens_map.json]: 100%|██████████| 964/964 [00:00<00:00, 2.07kB/s]\n",
      "Downloading [tokenizer.json]: 100%|██████████| 16.3M/16.3M [00:00<00:00, 17.6MB/s]\n",
      "Downloading [tokenizer_config.json]: 100%|██████████| 1.28k/1.28k [00:00<00:00, 2.69kB/s]\n"
     ]
    },
    {
     "data": {
      "text/plain": [
       "'./Xorbits/bge-m3'"
      ]
     },
     "execution_count": 11,
     "metadata": {},
     "output_type": "execute_result"
    }
   ],
   "source": [
    "snapshot_download('Xorbits/bge-m3', cache_dir='./')"
   ]
  },
  {
   "cell_type": "code",
   "execution_count": 24,
   "id": "76d1c2f8-4d23-4b92-9820-60e00532ddf4",
   "metadata": {
    "ExecutionIndicator": {
     "show": true
    },
    "execution": {
     "iopub.execute_input": "2024-09-23T06:39:08.181912Z",
     "iopub.status.busy": "2024-09-23T06:39:08.181563Z",
     "iopub.status.idle": "2024-09-23T06:44:39.802635Z",
     "shell.execute_reply": "2024-09-23T06:44:39.802006Z",
     "shell.execute_reply.started": "2024-09-23T06:39:08.181889Z"
    },
    "tags": []
   },
   "outputs": [],
   "source": [
    "bge_m3_embedding_model_path = \"./Xorbits/bge-m3\"\n",
    "\n",
    "\n",
    "bge_m3 = get_embedding(bge_m3_embedding_model_path)\n",
    "\n",
    "loaders_chinese = [\n",
    "    # PyMuPDFLoader(\"./data/24徐涛《核心考案》高清无水印PDF【公众号：薄荷考研】.pdf\")\n",
    "        PyPDFLoader(\"./中国近现代史纲要：2023 年版(1).pdf\"),\n",
    "        PyPDFLoader(\"./《习近平谈治国理政》第一卷.pdf\"),\n",
    "        PyPDFLoader(\"./《习近平谈治国理政》第二卷.pdf\"),\n",
    "        PyPDFLoader(\"./《习近平谈治国理政》第三卷.pdf\"),\n",
    "        PyPDFLoader(\"./《习近平谈治国理政》第四卷.pdf\")\n",
    "    # 如果需要还可以加入其他文件\n",
    "]\n",
    "docs = []\n",
    "for loader in loaders_chinese:\n",
    "    docs.extend(loader.load())\n",
    "CHUNK_SIZE = 300\n",
    "# 知识库中相邻文本重合长度\n",
    "OVERLAP_SIZE = 50\n",
    "\n",
    "text_splitter = RecursiveCharacterTextSplitter(\n",
    "    chunk_size=CHUNK_SIZE,\n",
    "    chunk_overlap=OVERLAP_SIZE\n",
    ")\n",
    "split_docs = text_splitter.split_documents(docs)\n",
    "persist_directory = \"./vector_db/bge__m3\"\n",
    "\n",
    "vectordb = Chroma.from_documents(\n",
    "    documents=split_docs,\n",
    "    embedding=bge_m3,\n",
    "    persist_directory=persist_directory  # 允许我们将persist_directory目录保存到磁盘上\n",
    ")\n",
    "vectordb.persist()"
   ]
  },
  {
   "cell_type": "code",
   "execution_count": 29,
   "id": "fddd6486-a230-4508-a449-872c5b8d0289",
   "metadata": {
    "ExecutionIndicator": {
     "show": true
    },
    "execution": {
     "iopub.execute_input": "2024-09-23T06:54:53.966098Z",
     "iopub.status.busy": "2024-09-23T06:54:53.965759Z",
     "iopub.status.idle": "2024-09-23T06:54:54.489423Z",
     "shell.execute_reply": "2024-09-23T06:54:54.488829Z",
     "shell.execute_reply.started": "2024-09-23T06:54:53.966078Z"
    },
    "tags": []
   },
   "outputs": [
    {
     "name": "stdout",
     "output_type": "stream",
     "text": [
      "[(Document(metadata={'page': 33, 'source': './中国近现代史纲要：2023 年版(1).pdf'}, page_content='从近代中国的历史进程，可以看到中国半殖民地半封建社会有以下一\\n些基本特征：\\n第一，资本－帝国主义侵略势力不但逐步操纵了中国的财政和经济命\\n脉，而且逐步控制了中国的政治，日益成为支配中国的决定性力狱。\\n第二，中国的封建势力日益衰败并同外国侵略势力勾结，成为资本－\\n帝国主义压迫、奴役中国人民的社会基础和统治支柱。\\n第三，中国自然经济的基础虽然遭到破坏，但是封建剥削制度的根基\\n即封建地主的土地所有制依然在广大地区内保持着，成为中国发展进步的\\n严重障碍。\\n第四，中国新兴的民族资本主义经济虽然已经产生，并在政治、文化\\n生活中起了一定的作用，但是在帝国主义和封建主义的压迫下，它的发展'), 0.49691469065874405)]\n",
      "-----------\n",
      "[(Document(metadata={'page': 53, 'source': '《习近平谈治国理政》第四卷.pdf'}, page_content='当注意的。”近代以后，中国社会矛盾错综复杂，有帝国主义和\\n中华民族的矛盾、封建主义和人民大众的矛盾，有资产阶级和无\\n产阶级的矛盾、反动统治阶级内部的矛盾，而帝国主义和中华民'), 0.5714230274212123)]\n",
      "-----------\n",
      "[(Document(metadata={'page': 53, 'source': '《习近平谈治国理政》第四卷.pdf'}, page_content='当注意的。”近代以后，中国社会矛盾错综复杂，有帝国主义和\\n中华民族的矛盾、封建主义和人民大众的矛盾，有资产阶级和无\\n产阶级的矛盾、反动统治阶级内部的矛盾，而帝国主义和中华民'), 0.4354551024889456)]\n",
      "-----------\n",
      "[(Document(metadata={'page': 66, 'source': './中国近现代史纲要：2023 年版(1).pdf'}, page_content='弟．， I，J}.＼「人 1h埣动的起，许53 \\n不可磨灭的历史功绩和重大的历史意义。\\n太平天国起义沉重打击了封建统治阶级，强烈撼动了清政府的统治根\\n基。这次起义历时 14载，起义军转战 18省，并建立了与清王朝对峙的政\\n权。在太平天国的影响下，各地各族人民反清斗争风起云涌。如南方和东\\n南沿海各省有天地会及其支派的起义，北方有捻军起义，西南、西北有各\\n族人民起义。天京失陷后，太平天国余部仍坚持斗争达4年之久。这些斗\\n争加速了清王朝的衰败。\\n太平天国起义是中国旧式农民战争的最高峰。它把千百年来农民对拥\\n有土地的渴望在《天朝田亩制度》中比较完整地表达了出来。《资政新篇》'), 0.46395092394194914)]\n",
      "-----------\n",
      "[(Document(metadata={'page': 71, 'source': './中国近现代史纲要：2023 年版(1).pdf'}, page_content=\"58 ', 4、11 丿．丿｝寸1.l '、i1 'fI l（丿 II iVI·1 夕欠\\n汀务I/）且 l勹人飞及丿 [)1;1_14 洋务运动历时 30多年，虽然办起了一批\\n企业，建立了悔军，却没有使中国富强起来。印午战争一役，洋务派经营\\n多年的北洋海军全军覆没，标志着以“自强”“求富”为目标的洋务运动\\n的失败。洋务运动失败的原因主要是：\\n首先，洋务运动具有封建性。洋务运动的指导思想是“中学为休，西\\n学为用＂，企图以吸取西方近代生产技术为手段，来达到维护和巩固中国\\n封建统冶的目的，这就决定了它必然失败的命运。因为新的生产力是同封\\n建主义的生产关系及其上层建筑不相容的，是不可能在封建主义的秷枯\"), 0.5805799781692347)]\n",
      "-----------\n",
      "[(Document(metadata={'page': 290, 'source': '《习近平谈治国理政》第一卷.pdf'}, page_content='辛亥革命，推翻了统治中国几千年的君主专制制度。后在中国共产党和苏俄\\n共产党、列宁的帮助下.改组中国国民党.实行联俄、联共、扶 jjiJ农工三大\\n政策.实现国共合作，把反帝反封建的民主革命推向前进。\\n[ 5 )参见《周易·系辞 Uo原文是，\"二人!司心，其利断金。\"\\n241 \\nN艝PN巈Y[fS蕐褁\\x14O\\x7fu('), 0.5199687217662635)]\n",
      "-----------\n",
      "[(Document(metadata={'page': 105, 'source': './中国近现代史纲要：2023 年版(1).pdf'}, page_content=\"新文化运动的倡导者提倡民主、反对专制，提倡科学、反对迷信盲\\n霄 从，是切中时弊的。事实上，晋封建主义还在政治和社会生\\n心嘉 活中占据支配地位时，对资产阶级民主主义的提倡，客观上\\n仍然具有振聋发职的仵用。.0 ,', k \\n} il\\n乡东I \\n丿\\n＼，（祈\\n＼＇贪之笭\\n;J『I~,J〉)新文化运动在社会上掀起的思想解放潮流，冲决了禁铜\\n人们思想的闸门。而这个闸门一被打开，各种新思想的涌流\\n就不仅不可避免，而且是尤法遏止的了。\\n且四以闱祈文化运动凶忖限五四以前的新文化运动也存在一些局限。\\n第一，新文化运动的倡导者批判孔学，是为了给中国发展资本主义扫\"), 0.48734158192852517)]\n",
      "-----------\n",
      "[(Document(metadata={'page': 173, 'source': './中国近现代史纲要：2023 年版(1).pdf'}, page_content='本原理同中囚具体实际相结合所创造的理论成果，正式命名为毛泽东思\\n想，并规定为党的一切［作的指针。把毛泽东思想确立为党的指导思想并\\n写入党章是中共七大的历史性贡献。\\n中共七大在党的历史上具有重要里程碑慈义，标志着党在政治上思想\\n士组织上走向成熟。它为建立新民主主义的新中同制定了正确路线方针政\\n策，确立了毛泽东在党中央和全克的领导核心地位、毛泽东思想在全党趴\\n指导地位，形成 f一支高举毛汗东旗耘门久经考验的政治家集团。七大以\\n“团结的大会，胜利的大会＂载入党的史册，并为党后来不断从胜利走向\\n胜利诣明「正确方向、开辟了正确道路。\\n同年6月19日召开的中共－ L届一中全会，选举产牛了中央政治局，'), 0.49159542120188116)]\n",
      "-----------\n",
      "[(Document(metadata={'page': 146, 'source': './中国近现代史纲要：2023 年版(1).pdf'}, page_content='周恩来、王稼祥组成的三人小组，负责全军的军事行动。\\n遵义会议是党的历史上一个生死攸关的转折点。这次会议事实上确立\\n了毛泽东在党中央和红军的领导地位，开始确立以毛泽东为主要代表的\\n马克思主义正确路线在党中央的领导地位，开始形成以毛泽东同志为核心\\n的第一代中央领导集体，在最危急关头挽救了党、挽救了红军、挽救了中\\n国革命。遵义会议的鲜明特点是坚持真理、修正错误，确立党中央的正确\\n领导，创造性地制定和实施符合中国革命特点的战略策略。遵义会议开启\\n了中国共产党独立自主解决中国革命实际问题的新阶段。'), 0.44062921819953704)]\n",
      "-----------\n",
      "[(Document(metadata={'page': 411, 'source': '《习近平谈治国理政》第二卷.pdf'}, page_content='国的图谋，洗刷了近代以来中国抗击外来侵略屡战屡败的民族耻\\n辱。这一伟大胜利，重新确立了中国在世界上的大国地位，使中国\\n人民赢得了世界爱好和平人民的尊敬。这一伟大胜利，开辟了中华\\n民族伟大复兴的光明前景，开启了古老中国凤凰涅槃、浴火重生的\\n新征程。\\n在那场战争中，中国人民以巨大民族牺牲支撑起了世界反法西\\n斯战争的东方主战场，为世界反法西斯战争胜利作出了重大贡献。\\n中国人民抗日战争也得到了国际社会广泛支持，中国人民将永远铭\\n记各国人民为中国抗战胜利作出的贡献！\\n经历了战争的人们，更加懂得和平的宝贵。我们纪念中国人民\\n抗日战争暨世界反法西斯战争胜利70周年，就是要铭记历史、缅怀'), 0.5249139379425922)]\n",
      "-----------\n",
      "[(Document(metadata={'page': 196, 'source': './中国近现代史纲要：2023 年版(1).pdf'}, page_content='口号\\n联合政府。，顷）这个号召得到各民主党派和社会各界的热烈响\\n应，揭开了中国共产党同各党派、各团体、各族各界人士协商建国的序\\n幕，奠定了中国共产党领导的多党合作和政治协商制度的基础。按照中共\\n中央的部署， 1948年8月至翌年 9月，中共中央香港分局和香港工委组\\n织护送民主人士北上达 20多次。其中包括沈钧儒、李济深、张澜、黄炎\\n培、章伯钧等 350多人，加上党内干部共1000多人，辗转到达北平，为\\n新政协会议的召开提供了重要保证。\\n多党合作和政治协商格局的形成1949年1月22日，李济深、沈钧儒\\n等民主党派的领导人和著名的无党派民主人士55人联合发表《对时局的'), 0.5964602784854118)]\n",
      "-----------\n",
      "[(Document(metadata={'page': 203, 'source': './中国近现代史纲要：2023 年版(1).pdf'}, page_content='利，是千千万万先烈和全党同志、全国各族人民长期牺牲奋斗的结果。\\n中国革命之所以能够赢得胜利，同国际无产阶级和人民群众的支持也\\n是分不开的。\\n中11人1护命朋利［向总义 中国革命的胜利，结束了100多年来中华民朕\\n遣受资本－帝国主义侵略和中国各族人民遭受资本－帝国主义同封建统治\\n阶级联合压迫与剥削的历史，结束了国家战乱频仍、四分五裂的局面，实\\n观了中国人民梦寐以求的民族独立和人民斛放。\\n中国革命的胜利，从根本上改变了中同籵会的发展方向，为实现由新\\n民主主义到社会主义的转变和建立社会主义制度、进行社会主义现代化建\\n设，扫清了主要障碍，创造了政冶前提；为实现同家富强和人民幸福，实'), 0.6172457554718325)]\n",
      "-----------\n",
      "[(Document(metadata={'page': 171, 'source': './中国近现代史纲要：2023 年版(1).pdf'}, page_content=\"l s 8 \\\\, 1 1 I I I I'M 1 i ii丿fJI I I,I I，介＇，置\\n丁业、大商业归新民主主义国家所有，建立国营经济；没收地主阶级土地\\n归农民所有，月引导个体农民发展合什经济；允 V1民族资本主义经济的发\\n展和富农经济的存在。文化上，废除封建买办文化，发展无产阶级领导的\\n人民人众的反帝反封建的中华民族的新文化，即民族的科学的大众的文化。\\n毛择东总结中国共产党成立以来的历史经验，指出统一战线、武装斗\\n争、党的建设，是中国共产党介中国革命中战胖敌人的 个主要法宝。\\n新民主主义理论是马克思主义中国化的重大理论成果。它的提出和系\"), 0.37895898008088114)]\n",
      "-----------\n",
      "[(Document(metadata={'page': 229, 'source': './中国近现代史纲要：2023 年版(1).pdf'}, page_content='家事业沿着社会主义方向胜利前进。\\n社会主义制度的确立，标志着中国这个占世界1/4人口的东方大国进\\n入了社会主义社会。此后，党面临的根本任务，就是领导全国各族人民在\\n不断完善社会主义制度基础上，充分发挥社会主义制度的优越性，大力发\\n展社会生产力，为实现国家富强、人民幸福的历史任务而奋斗。稹甲荨勹栩笥象字，＇\\n第四节 全伽建设社会主义的良好开端\\n．入、探索适合 i.l咽囚悄的社会卜义处设沁路\\n提出马兑思主义同中 I时实协 ”?B次钻合” 1956年生产资料所有制\\n改造完成，标志着社会主义基本制度在中国确立，中国开始进入全面建设\\n社会主义的历史阶段。在中国这样一个人口众多、经济文化落后、发展极'), 0.4757970122123606)]\n",
      "-----------\n",
      "[(Document(metadata={'page': 378, 'source': './中国近现代史纲要：2023 年版(1).pdf'}, page_content='发生的最严重的传染病大流行。\\n新冠肺炎疫清发生后，党中央将疫情防控作为头等大事来抓。习近平\\n亲自指挥、亲自部署，坚持把人民生命安全和身体健康放在第一位，提出\\n坚定信心、同舟共济、科学防治、精准施策的总要求。从 2020年大年初一\\n起，习近平先后主持召开 14次中央政治局常委会会议、 4次中央政治局会\\n议以及多次党的重要会议，敏锐洞察、果敢决策，科学指引、沉着应对，\\n周密部署武汉保卫战、湖北保卫战，因时因势制定重大战略策略，带领全\\n党全军全国各族人民迅速打响疫情防控的人民战争、总体战、阻击战。\\n在党中央坚强领导下，中国人民风雨同舟、众志成城，发扬一方有'), 0.6869300061005923)]\n",
      "-----------\n",
      "[(Document(metadata={'page': 130, 'source': '《习近平谈治国理政》第四卷.pdf'}, page_content='分配、流通、消费更多依托国内市场，形成国民经济良性循环。\\n要坚持供给侧结构性改革的战略方向，提升供给体系对国内需求\\n的适配性，打通经济循环堵点，提升产业链、供应链的完整性，'), 0.6572276678886917)]\n",
      "-----------\n",
      "[(Document(metadata={'page': 8, 'source': '《习近平谈治国理政》第一卷.pdf'}, page_content='中华民族近代以来最伟大的梦想……………………… 3.5 \\n( 2012年II月29日)\\n在第十二届全国人民代表大会第一次会议上的讲话 …….. 38 \\n( 2013年3月17日)\\n1 \\nN艝PN巈Y[fS蕐褁\\x14O\\x7fu('), 0.5229159244420848)]\n",
      "-----------\n",
      "[(Document(metadata={'page': 424, 'source': '《习近平谈治国理政》第三卷.pdf'}, page_content='的理想信念。我们坚持以“两个维护”引领全党团结统一，完善坚定维护党中央权威和集\\n中统一领导的各项制度，健全党中央对重大工作的领导体制，以统一的意志和行动维护党\\n的团结统一，不断增强党的政治领导力、思想引领力、群众组织力、社会号召力。我们坚\\n持以正风肃纪反腐凝聚党心军心民心，坚决惩治腐败、纠治不正之风，坚决清除影响党的\\n先进性和纯洁性的消极因素，健全为人民执政、靠人民执政的各项制度，让人民始终成为\\n中国共产党执政和中国特色社会主义事业发展的磅礴力量。\\n习近平指出，党的十八大以来，我们探索出一条长期执政条件下解决自身问题、跳出'), 0.5505409498580047)]\n",
      "-----------\n",
      "[(Document(metadata={'page': 348, 'source': './中国近现代史纲要：2023 年版(1).pdf'}, page_content=\"I'1特色补会 t:义史为 1335 \\n确汇 (hlI、l代咄WI-I妳2012年12月，在会见驻 r州部队帅以上领导\\n千部时，习近平首次提出“强军梦＂，指出找们哎实现中华民族伟大复兴，\\n一定要坚持富川和强 'f相统一，建设巩固国防和强人军队。\\n2012年底，习近平在中央军委扩大会议 I提出，为建设一支听党指\\n挥、能打胜仗、作风优良的人民军队而奋斗。 2013年3月，在参加十二\\n届全国人大一次会议解放军代表团全体会议时，习近平明确指出，建设一\\n支听党指挥、能打胜仗、作风仇良的人民军队，是党在新形势下的强军目\\n标。2016年2月，习近平在中央军委扩大会议卜进一步提出了实现强军\"), 0.616926535241211)]\n",
      "-----------\n",
      "[(Document(metadata={'page': 100, 'source': '《习近平谈治国理政》第三卷.pdf'}, page_content='就和历史经验、必须坚持的重大原则和根本制度、基本制度、重要制度以及面临的主要问\\n题和重大任务、需要采取的重要举措等提出了不少有价值的意见和建议。\\n各方面认为，在庆祝中华人民共和国成立70周年之际，党的十九届四中全会重点研究\\n坚持和完善中国特色社会主义制度、推进国家治理体系和治理能力现代化问题并作出决定，\\n体现了党中央高瞻远瞩的战略眼光和强烈的历史担当，对决胜全面建成小康社会、全面建\\n设社会主义现代化国家，对巩固党的执政地位、确保党和国家长治久安，具有重大而深远\\n的意义。\\n文件起草组成立6个多月来，认真研读相关重要文献，系统总结我国革命、建设、改'), 0.5592323043705273)]\n",
      "-----------\n",
      "[(Document(metadata={'page': 396, 'source': './中国近现代史纲要：2023 年版(1).pdf'}, page_content='贫困一直是困扰全球发展和治理的突出难题。改革开放以来，按照现行\\n贫困标准计算，中国 7.7亿农村贫困人口摆脱贫困；按昭世界银行国际贫\\n困标准，中国减贫人口占同期全球减贫人口 70％以上 特别是在全球贫\\n困状况依然严峻、一些国家贫富分化加剧的背景下，我国提前 10年实现\\n《联合国 2030年可持续发展议程》的减贫目标，赢得团际社会广泛赞誉。\\n纵览古今、环顾全球，没有郘一个国家能在这么短的叮间内实现几亿人脱\\n贫。作为世界上最大的发展中国家，中国如期全面完成脱贫攻坚目标任\\n务，大大加快了全球减贫进程，谱写了人类反贫困历史新篇章，为推动构'), 0.7090834222757068)]\n",
      "-----------\n",
      "[(Document(metadata={'page': 167, 'source': '《习近平谈治国理政》第四卷.pdf'}, page_content='纪80年代末解决人民温饱问题，到上世纪末使人民生活达到小\\n康水平，到21世纪中叶基本实现现代化，达到中等发达国家\\n水平。进入新世纪，在人民生活总体上达到小康水平之后，我\\n们党又提出，到建党一百年时全面建成惠及十几亿人口的更高\\n水平的小康社会，然后再奋斗30年，到新中国成立一百年时，\\n基本实现现代化，把我国建成社会主义现代化国家。党的十八\\n大以来，中国特色社会主义进入新时代，中华民族迎来了从站\\n起来、富起来到强起来的伟大飞跃。党的十九大站在新的更高\\n的历史起点上，对实现第二个百年奋斗目标作出分两个阶段推\\n进的战略安排，提出到2035年基本实现社会主义现代化，到本'), 0.7789886699046334)]\n",
      "-----------\n",
      "[(Document(metadata={'page': 23, 'source': '《习近平谈治国理政》第三卷.pdf'}, page_content='政考验、改革开放考验、市场经济考验、外部环境考验的长期性和复杂性，深刻认识党面\\n临的精神懈怠危险、能力不足危险、脱离群众危险、消极腐败危险的尖锐性和严峻性，坚\\n持问题导向，保持战略定力，推动全面从严治党向纵深发展。\\n新时代党的建设总要求是：坚持和加强党的全面领导，坚持党要管党、全面从严治党，\\n以加强党的长期执政能力建设、先进性和纯洁性建设为主线，以党的政治建设为统领，以\\n坚定理想信念宗旨为根基，以调动全党积极性、主动性、创造性为着力点，全面推进党的\\n政治建设、思想建设、组织建设、作风建设、纪律建设，把制度建设贯穿其中，深入推进'), 0.8183158731767244)]\n",
      "-----------\n",
      "[(Document(metadata={'page': 81, 'source': '《习近平谈治国理政》第四卷.pdf'}, page_content='殊的利益，党在任何时候都把群众利益放在第一位。这是我们党\\n作为马克思主义政党区别于其他政党的显著标志。在重大疫情面\\n前，我们一开始就鲜明提出把人民生命安全和身体健康放在第一\\n位。我们在全国范围调集最优秀的医生、最先进的设备、最急需\\n的资源，全力以赴投入疫病救治，救治费用全部由国家承担。人\\n民至上生命至上，保护人民生命安全和身体健康可以不惜一切代\\n价！\\n当前、我国外防输入压力持续加大，国内疫情反弹的风险始\\n终存在。要绷紧疫情防控这根弦，完善常态化防控机制。确保疫\\n情不出现反弹。\\n第二，紧紧依靠人民。人民是我们党执政的最大底气在这次\\n疫情防控斗争中，在党中央统一领导下，全国动员全民参与，联'), 0.5065214325740747)]\n",
      "-----------\n",
      "[(Document(metadata={'page': 110, 'source': '《习近平谈治国理政》第二卷.pdf'}, page_content='四、建设社会主义法治国家\\n加快建设社会主义法治国家*\\n（2014年10月23日）\\n坚定不移走中国特色社会主义法治道路\\n全面推进依法治国，必须走对路。如果路走错了，南辕北辙\\n了，那再提什么要求和举措也都没有意义了。全会通过的《中共中\\n央关于全面推进依法治国若干重大问题的决定》有一条贯穿全篇的\\n红线，这就是坚持和拓展中国特色社会主义法治道路。中国特色社\\n会主义法治道路是一个管总的东西。具体讲我国法治建设的成就，\\n大大小小可以列举出十几条、几十条，但归结起来就是开辟了中国\\n特色社会主义法治道路这一条。\\n恩格斯说过：“一个新的纲领毕竟总是一面公开树立起来的旗'), 0.7210645279753228)]\n",
      "-----------\n",
      "[(Document(metadata={'page': 173, 'source': './中国近现代史纲要：2023 年版(1).pdf'}, page_content='本原理同中囚具体实际相结合所创造的理论成果，正式命名为毛泽东思\\n想，并规定为党的一切［作的指针。把毛泽东思想确立为党的指导思想并\\n写入党章是中共七大的历史性贡献。\\n中共七大在党的历史上具有重要里程碑慈义，标志着党在政治上思想\\n士组织上走向成熟。它为建立新民主主义的新中同制定了正确路线方针政\\n策，确立了毛泽东在党中央和全克的领导核心地位、毛泽东思想在全党趴\\n指导地位，形成 f一支高举毛汗东旗耘门久经考验的政治家集团。七大以\\n“团结的大会，胜利的大会＂载入党的史册，并为党后来不断从胜利走向\\n胜利诣明「正确方向、开辟了正确道路。\\n同年6月19日召开的中共－ L届一中全会，选举产牛了中央政治局，'), 0.6368045484323435)]\n",
      "-----------\n"
     ]
    }
   ],
   "source": [
    "problems = [\"近代中国的社会性质是什么？\",\n",
    "           \"近代中国的主要矛盾是什么？\",\n",
    "           \"如何认识近代中国社会的落伍\",\n",
    "           \"太平天国运动的历史意义与局限\",\n",
    "           \"洋务运动的历史意义与局限\",\n",
    "           \"辛亥革命的纲领，意义是什么？\",\n",
    "           \"新文化运动的内容是\",\n",
    "           \"毛泽东思想形成的标志是什么？\",\n",
    "           \"中国共产党史上生死攸关的转折点是什么？\",\n",
    "           \"中国抗日战争在世界反法西斯战争中的地位和作用？\",\n",
    "           \"中国共产党领导的多党合作，政治协商的格局是怎样形成的？\",\n",
    "            \"中国革命胜利的原因和基本经验有哪些？\",\n",
    "            \"新民主主义社会的性质\",\n",
    "            \"中国实行社会主义改造的国内外条件？\",\n",
    "            \"新冠肺炎疫情发生后，党中央将疫情防控作为头等大事来抓，习近平总书记亲自指挥、亲自部署，坚持把什么放在第一位？\",\n",
    "            \"深化供给侧结构性改革，必须持续推进(   )，优化市场供求结构\",\n",
    "            \"近代以来中华民族最伟大的梦想是什么？\",\n",
    "            \"习近平总书记强调，我们党全面领导、长期执政，面临的最大挑战是什么？\",\n",
    "            \"习近平强军思想是什么\",\n",
    "            \"党的十九届四中全会指出，党和人民在长期实践探索中形成的科学制度体系是指\",\n",
    "            \"2020年脱贫攻坚任务完成后，我国将有1亿左右贫困人口实现脱贫，这也意味着我国将提前（）实现联合国2030年可持续发展议程的减贫目标\",\n",
    "            \"党的十九大提出：从2035年到本世纪中叶，在基本实现现代化的基础上，再奋斗15年，把我国建成（）的社会主义现代化强国\",\n",
    "            \"新时代党的建设总要求是坚持和加强党的全面领导，坚持党要管党、全面从严治党，以(   )为主线\",\n",
    "            \"习近平总书记在参加内蒙古代表团的审议时发表重要讲话指出，我们党没有自己特殊的利益，党在任何时候都把（）放在第一位\",\n",
    "            \"2014年十八届四中全会通过了(   )，明确提出全面推进依法治国，加快建设法治中国，开启了中国特色社会主义法治道路的新征程\",\n",
    "            \"中国共产党 ( ) 将毛泽东思想规定为中国共产党的一切工作的指针\"\n",
    "          ]\n",
    "for problem in problems:\n",
    "    res = vectordb.similarity_search_with_relevance_scores(query=problem, k=1)\n",
    "    print(res)\n",
    "    print(\"-----------\")"
   ]
  },
  {
   "cell_type": "code",
   "execution_count": 30,
   "id": "fb2f0872-512a-4463-af26-5899be7d710e",
   "metadata": {
    "ExecutionIndicator": {
     "show": true
    },
    "execution": {
     "iopub.execute_input": "2024-09-23T06:58:13.303497Z",
     "iopub.status.busy": "2024-09-23T06:58:13.303159Z",
     "iopub.status.idle": "2024-09-23T06:58:27.774692Z",
     "shell.execute_reply": "2024-09-23T06:58:27.774183Z",
     "shell.execute_reply.started": "2024-09-23T06:58:13.303477Z"
    },
    "tags": []
   },
   "outputs": [
    {
     "name": "stderr",
     "output_type": "stream",
     "text": [
      "Downloading [config.json]: 100%|██████████| 939/939 [00:00<00:00, 1.22kB/s]\n",
      "Downloading [configuration.json]: 100%|██████████| 202/202 [00:00<00:00, 375B/s]\n",
      "Downloading [pytorch_model.bin]: 100%|██████████| 1.21G/1.21G [00:06<00:00, 190MB/s] \n",
      "Downloading [README.md]: 100%|██████████| 25.6k/25.6k [00:00<00:00, 40.0kB/s]\n",
      "Downloading [special_tokens_map.json]: 100%|██████████| 125/125 [00:00<00:00, 225B/s]\n",
      "Downloading [tokenizer.json]: 100%|██████████| 429k/429k [00:00<00:00, 718kB/s]\n",
      "Downloading [tokenizer_config.json]: 100%|██████████| 342/342 [00:00<00:00, 438B/s]\n",
      "Downloading [vocab.txt]: 100%|██████████| 107k/107k [00:00<00:00, 120kB/s]\n"
     ]
    },
    {
     "data": {
      "text/plain": [
       "'./Jerry0/M3E-large'"
      ]
     },
     "execution_count": 30,
     "metadata": {},
     "output_type": "execute_result"
    }
   ],
   "source": [
    "snapshot_download('Jerry0/M3E-large', cache_dir='./')"
   ]
  },
  {
   "cell_type": "code",
   "execution_count": null,
   "id": "44873d41-1ae1-4c4e-8ad6-4e186266525c",
   "metadata": {
    "execution": {
     "iopub.execute_input": "2024-09-23T07:01:40.964397Z",
     "iopub.status.busy": "2024-09-23T07:01:40.963976Z"
    },
    "tags": []
   },
   "outputs": [
    {
     "name": "stderr",
     "output_type": "stream",
     "text": [
      "No sentence-transformers model found with name ./Jerry0/M3E-large. Creating a new one with mean pooling.\n"
     ]
    }
   ],
   "source": [
    "M3E_large_embedding_model_path = \"./Jerry0/M3E-large\"\n",
    "\n",
    "\n",
    "M3E_large = get_embedding(M3E_large_embedding_model_path)\n",
    "\n",
    "loaders_chinese = [\n",
    "    # PyMuPDFLoader(\"./data/24徐涛《核心考案》高清无水印PDF【公众号：薄荷考研】.pdf\")\n",
    "        PyPDFLoader(\"./中国近现代史纲要：2023 年版(1).pdf\"),\n",
    "        PyPDFLoader(\"./《习近平谈治国理政》第一卷.pdf\"),\n",
    "        PyPDFLoader(\"./《习近平谈治国理政》第二卷.pdf\"),\n",
    "        PyPDFLoader(\"./《习近平谈治国理政》第三卷.pdf\"),\n",
    "        PyPDFLoader(\"./《习近平谈治国理政》第四卷.pdf\")\n",
    "    # 如果需要还可以加入其他文件\n",
    "]\n",
    "docs = []\n",
    "for loader in loaders_chinese:\n",
    "    docs.extend(loader.load())\n",
    "CHUNK_SIZE = 300\n",
    "# 知识库中相邻文本重合长度\n",
    "OVERLAP_SIZE = 50\n",
    "\n",
    "text_splitter = RecursiveCharacterTextSplitter(\n",
    "    chunk_size=CHUNK_SIZE,\n",
    "    chunk_overlap=OVERLAP_SIZE\n",
    ")\n",
    "split_docs = text_splitter.split_documents(docs)\n",
    "persist_directory = \"./vector_db/M3E_large\"\n",
    "\n",
    "vectordb = Chroma.from_documents(\n",
    "    documents=split_docs,\n",
    "    embedding=M3E_large,\n",
    "    persist_directory=persist_directory  # 允许我们将persist_directory目录保存到磁盘上\n",
    ")\n",
    "vectordb.persist()"
   ]
  },
  {
   "cell_type": "code",
   "execution_count": 32,
   "id": "89fbef8e-a574-4e99-af2d-5e7a173151af",
   "metadata": {
    "execution": {
     "iopub.execute_input": "2024-09-23T07:15:36.338012Z",
     "iopub.status.busy": "2024-09-23T07:15:36.337671Z",
     "iopub.status.idle": "2024-09-23T07:15:36.885216Z",
     "shell.execute_reply": "2024-09-23T07:15:36.884599Z",
     "shell.execute_reply.started": "2024-09-23T07:15:36.337990Z"
    },
    "tags": []
   },
   "outputs": [
    {
     "name": "stdout",
     "output_type": "stream",
     "text": [
      "[(Document(metadata={'page': 33, 'source': './中国近现代史纲要：2023 年版(1).pdf'}, page_content='从近代中国的历史进程，可以看到中国半殖民地半封建社会有以下一\\n些基本特征：\\n第一，资本－帝国主义侵略势力不但逐步操纵了中国的财政和经济命\\n脉，而且逐步控制了中国的政治，日益成为支配中国的决定性力狱。\\n第二，中国的封建势力日益衰败并同外国侵略势力勾结，成为资本－\\n帝国主义压迫、奴役中国人民的社会基础和统治支柱。\\n第三，中国自然经济的基础虽然遭到破坏，但是封建剥削制度的根基\\n即封建地主的土地所有制依然在广大地区内保持着，成为中国发展进步的\\n严重障碍。\\n第四，中国新兴的民族资本主义经济虽然已经产生，并在政治、文化\\n生活中起了一定的作用，但是在帝国主义和封建主义的压迫下，它的发展'), 0.502993994234804)]\n",
      "-----------\n",
      "[(Document(metadata={'page': 35, 'source': './中国近现代史纲要：2023 年版(1).pdf'}, page_content='产阶级勹地主阶级的矛盾，无产阶级与资产阶级的矛盾，封建统治阶级内\\n部各梊团派系的矛盾，各帝国主义国家在中国争夺的矛盾，等等。在这些\\n社会矛盾中，古支厅地位的卞要矛盾，是帝国主义和中华民族的矛盾，封\\n建主义和人民大众的矛盾。这两对卞要矛盾及其斗争贯穿整个中国半殖民\\n地平封注补会的妎终，并对中国近代社会的发展变化起着决定性的作用。\\n中同沂代社会的两对主要矛盾是＿勺相交织在一起的，而帝国主义和中\\n华民族的矛盾，处最主要的矛盾。一般米说，当资本—帝国主义向中国发\\n动侵略战争时，中匡内部各阶级，除一些叛国分子外，能够暂时地团结起\\n来举行民族战争去反对外国侵略。这时，民族矛盾特别尖锐，阶级矛盾暂'), 0.4788615938612847)]\n",
      "-----------\n",
      "[(Document(metadata={'page': 235, 'source': './《习近平谈治国理政》第二卷.pdf'}, page_content='入，如上海的“十里洋场”、天津的工业、武汉的军工生产也曾名震\\n一时，但总体上国家是贫穷落后、战乱不已的，在时代前进潮流中\\n掉队了。这一状态持续了百余年。\\n新中国成立后，我们党领导人民开始大规模工业化建设。毛泽\\n东同志提出，我们的任务“就是要安下心来，使我们可以建设我们国\\n家现代化的工业、现代化的农业、现代化的科学文化和现代化的国\\n防”〔3〕。上世纪50年代，国家建设取得显著成效。后来，由于在\\n指导思想上出现了“左”的错误，还发生了“文革”那样的十年浩劫，加\\n上我们对社会主义建设规律认识不够深入，大规模工业化建设未能\\n顺利持续下去。\\n党的十一届三中全会开启了改革开放历史新时期。30多年来，'), 0.3636670919167645)]\n",
      "-----------\n",
      "[(Document(metadata={'page': 67, 'source': './中国近现代史纲要：2023 年版(1).pdf'}, page_content='太平大国的向心力和战斗力。\\n太平天国军事战略上出现了重大失误。比如，没有解决好与捻军这一\\n抗清斗争主力的关系，没有同他们结成同盟，以致丢失了在北方赖以发展\\n的良机，使北伐军艰难支撑直至失败；在天京被围困的情况下死守孤城，\\n拒绝”让城别走＂，导致太平天国的最后失败。\\n太平天国是以宗教来发动、组织群众的，但是，拜上帝教教义不仅不\\n能正确指导斗争，而且给农民战争带来了危害。在太平天国后期，洪秀全\\n甚至幻想不动刀兵而定“太平一统”，梦想以虚幻的力量代替农民起义者\\n自身的努力。\\n太平天国也未能正确地对待儒学。他们开始时把儒家经书笼统地斥之'), 0.641673268078625)]\n",
      "-----------\n",
      "[(Document(metadata={'page': 68, 'source': './中国近现代史纲要：2023 年版(1).pdf'}, page_content='学习西方的和学技术，创设近代企业，兴办洋务。这些官员被称为“洋\\n务派”。\\n洋务派兴办洋务事业，首先是为 f购买和制造洋枪洋炮以镇压农民起\\n义，同时也有借此加强海防、边防，并乘机发展本生团的政治、经济、军\\n韦实力的总图。奕沂认为，太平天国、捻军等农民起义是“心腹之害”,\\n俄国是“月寸腋之患＂，英旧是＂肢体之患＂，所以＂灭发（指人平入国）、\\n捻（诣捻军）为先，治俄次之，治英又次之“@。具体怎么办？奕沂提出，\\n“探濂之策，在于自强。自强之术，必先练兵“气\\n对洋务派兴办洋务事＼ Iv的指导思想蔽先作出比较完整表述的是冯桂\\n芬。他在《校邠庐抗议》 书中强调，为 f应对西力的挑战，中国亟须进'), 0.5580075169528007)]\n",
      "-----------\n",
      "[(Document(metadata={'page': 81, 'source': './中国近现代史纲要：2023 年版(1).pdf'}, page_content='由千历史进程和社会条件的制约，由于没有找到解决中国前途命运问题的\\n正确道路和领导力三，辛亥革命没有改变旧中国半殖民地半封建的社会性\\n质，没有改变中国人民的悲惨境遇，没有完成实现民族独立，人民解放的\\n历史任务。\\n第节举起近代民族民主革命的旗帜\\n令＾、：、作亥， i.l.i，命爆发的历史条件\\n民胶亿，十几加深，补会矛肵激化 戊戌维新运动失败后，以孙中山为代\\n表的革命派在中国掀起了一场资产阶级革命运动。这场革命的发生，是当\\n时民族危机加深、社会矛盾激化的结果，具有历史的必然性。它是当时中\\n国人民争取民族独立、振兴中华深切愿望的集中反映，是当时中国人民为\\n救亡图存而前赴后继顽强斗争的集中体现。'), 0.56042691464472)]\n",
      "-----------\n",
      "[(Document(metadata={'page': 105, 'source': './中国近现代史纲要：2023 年版(1).pdf'}, page_content='文化运动的土荌阵地\\n新义化运动的壮本门号是拥护＂笆先牛”(Democracy) 和＂赛先生”\\n(Science) ，即提倡民主和科学。民主，既是指资产阶级民主主义制度，\\n也是拒资产阶级民主主义思知。科学，则有广狭二义：＂狭义的是指臼然科\\n学”,“广义是拒社会科学”(i)\\n新文化运动的倡导者以进化论观点和个性解放思想为主要武器，猛烈\\n才平山以孔了为代表的＂往圣先贤＂，大力提倡新道德、反对旧道德，提倡\\n新文学、反对旧文学，包括提倡白话文、反对文言文。通过批判孔学，动\\n摇了封建正统思想的统冶地位，在中国社会掀起－股思想解放的潮流。\\n新文化运动的倡导者提倡民主、反对专制，提倡科学、反对迷信盲'), 0.598909600439774)]\n",
      "-----------\n",
      "[(Document(metadata={'page': 230, 'source': './中国近现代史纲要：2023 年版(1).pdf'}, page_content='基本原理同中国具体实际相结合。 1956年4月初，毛泽东明\\n确提出：“最重要的是要独立思考，把马列主义的基本原理同\\n中国革命和建设的具体实际相结合。民主革命时期，我们吃\\n了大亏之后才成功地实现了这种结合，取得了新民主主义革\\n命的胜利。现在是社会主义革命和建设时期，我们要进行第鬻\\n毛泽东认\\n马克思主义\\n厉＼卜 1.f]]夕［休\\n实 1年“六，，一\\n次结合”\\n二次结合，找出在中国怎样建设社会主义的道路。”勹，他在修改中共中央向\\n八大提交的政治报告时明确指出：“我国是一个东方国家，又是一个大国。\\n因此，我国不但在民主革命过程中有自己的许多特点，在社会主义改造和'), 0.5600893183881478)]\n",
      "-----------\n",
      "[(Document(metadata={'page': 259, 'source': './中国近现代史纲要：2023 年版(1).pdf'}, page_content='1978年12月18日至22日，党彴十一届三中全会在北京召开。全会\\n冲破长期“左＂的错误的严重束缚，彻底否定”两个凡是＂的错误方针，\\n高度评价关于真理标准问题的讨论，果断停止使用“以阶级斗争为纲＂的\\n口号，决定从 1979年1月起把全党的 t作重心转移到社会主义现代化建\\n设上来。全会提出了改革开放的任务，指出实现四个现代化是一场广泛、\\n深刻的革命。要采取一系列新的重大的经济措施，对经济管理体制和经营\\n管理方法进行认真的改革，在自力更生的尪础上积极发展同世界各国平等\\n互利的经济合作。\\n全会强调要充分发扬民主，提出要实现民主制度化、法律化，健全党'), 0.5153193343196327)]\n",
      "-----------\n",
      "[(Document(metadata={'page': 175, 'source': './中国近现代史纲要：2023 年版(1).pdf'}, page_content='战？＇｀）苏联元帅崔可夫说： ＂甚至在我们最艰苦的战争年代里，日本也没\\n有进攻苏联，却把中国淹没在血泊中，稍傲尊重客观事实的人都不能不考\\n虑到这一明显而无可争辩的事实。”@\\n中国作为亚洲太平洋地区盟军对 H作战的重要后方基地，还为盟国提\\n供了大最战略物资和军事情报。\\n总之，中国是世界参加反法西斯战争的五个大同之一。中国人民的抗\\n日战争开展时间最早、持续时间最长。中闰是在亚洲大陆上反对日本侵\\n略者的主要同家。在太平洋战争爆发前，中国抗击 R本陆军的 80％左右；\\n仆太平洋战争爆发后，仍抗击日本陆军的半数以上。 14仆中，中国军民'), 0.5675783919000486)]\n",
      "-----------\n",
      "[(Document(metadata={'page': 226, 'source': './中国近现代史纲要：2023 年版(1).pdf'}, page_content='人民代表大会和其他国家机关，一律实行民主集中制。＇，＠宪法还确立了国\\n家体制的格局：全国人民代表大会是最高国家权力机关；国务院即中央人\\n民政府，是最高国家行政机关。大会选举毛泽东为中华人民共和国主席，\\n朱德为副主席；选举刘少奇为全国人民代表大会常务委员会委员长，宋庆\\n龄等 13人为副委员长；决定周恩来为国务院总理。\\n中国共产党领导的多党合作和政治协商制度是我国的一项基本政治\\n制度，是从中国土壤中生长出来的新型政党制度。在一届全国人大一次\\n会议召开以后，中国人民政冶协商会议不再代行全国人民代表大会的职\\n权。1954年12月，中国人民攻治协商会议第二届全国委员会第一次会议'), 0.4728876152596536)]\n",
      "-----------\n",
      "[(Document(metadata={'page': 203, 'source': './中国近现代史纲要：2023 年版(1).pdf'}, page_content='结合起来，形成了伟大的毛泽东思想，找到了夺取中国革命胜利的正确道\\n路。这对马克思列宁主义的发展是一个重大贡献。\\n中1月革命旧利的从本经验 中国反帝反封建的革命，经历了资产阶级'), 0.5714537103269283)]\n",
      "-----------\n",
      "[(Document(metadata={'page': 261, 'source': './《习近平谈治国理政》第四卷.pdf'}, page_content='量世界丰富多彩的政治制度，用单调的眼光审视人类五彩缤纷的\\n政治文明，本身就是不民主的。\\n中国共产党始终高举人民民主的旗帜，始终坚持以下基本观\\n点：一是人民民主是社会主义的生命，没有民主就没有社会主义，\\n就没有社会主义的现代化，就没有中华民族伟大复兴。二是人民\\n当家作主是社会主义民主政治的本质和核心，发展社会主义民主\\n政治就是要体现人民意志、保障人民权益、激发人民创造活力，\\n用制度体系保证人民当家作主。三是中国特色社会主义政治发展\\n道路是符合中国国情、保证人民当家作主的正确道路，是近代以\\n来中国人民长期奋斗历史逻辑、理论逻辑、实践逻辑的必然结果，'), 0.43018725218726594)]\n",
      "-----------\n",
      "[(Document(metadata={'page': 48, 'source': './《习近平谈治国理政》第四卷.pdf'}, page_content='国共产党一度简单套用马克思列宁主义关于无产阶级革命的一\\n般原理和照搬俄国十月革命城市武装起义的经验，没有充分考\\n虑中国国情和中国革命实际，使中国革命遭受了严重挫折。毛\\n泽东同志是马克思主义中国化的伟大开拓者，创造性地解决了'), 0.48425584256164855)]\n",
      "-----------\n",
      "[(Document(metadata={'page': 81, 'source': './《习近平谈治国理政》第四卷.pdf'}, page_content='疫情防控斗争中，在党中央统一领导下，全国动员全民参与，联\\n防联控、群防群治，构筑起最严密的防控体系，凝聚起坚不可摧'), 0.6698602795725892)]\n",
      "-----------\n",
      "[(Document(metadata={'page': 242, 'source': './《习近平谈治国理政》第二卷.pdf'}, page_content='推进供给侧改革。\\n从国际上看，当前世界经济结构正在发生深刻调整。国际金融\\n危机打破了欧美发达经济体借贷消费，东亚地区提供高储蓄、廉价\\n劳动力和产品，俄罗斯、中东、拉美等提供能源资源的全球经济大'), 0.613630483100265)]\n",
      "-----------\n",
      "[(Document(metadata={'page': 218, 'source': './《习近平谈治国理政》第一卷.pdf'}, page_content='华民族的最高利益和根本利益。今天，我们 13亿多人的一切\\n奋斗归根到底都是为了实现这一伟大目标。中国曾经是世界上\\n的经济强国，后来在世界工业革命如火如荼、人类社会发生深\\n刻变革的时期，中国丧失了与世界阿进步的历史机遇，落到了\\n被动挨打的境地。尤其是鸦片战争之后，中华民族更是陷入积\\n169 \\nN艝PN巈Y[fS蕐褁\\x14O\\x7fu('), 0.5435546461019904)]\n",
      "-----------\n",
      "[(Document(metadata={'page': 404, 'source': './《习近平谈治国理政》第三卷.pdf'}, page_content='404习近平强调，全面从严治党必须持之以恒、毫不动摇。受国际国内环境各种因素的影\\n响，我们党面临的执政环境仍然是复杂的，影响党的先进性、弱化党的纯洁性的因素也是\\n复杂的。党的队伍和自身状况发生重大而深刻的变化，迫切要求提高党的建设质量、增强\\n党组织的政治功能和组织功能。我们要坚持问题导向，保持战略定力，以“越是艰险越向\\n前”的英雄气概和“狭路相逢勇者胜”的斗争精神，坚定不移抓下去。\\n习近平指出，要坚持以党的政治建设为统领，坚决维护党中央权威和集中统一领导。\\n党中央作出的决策部署，所有党组织都要不折不扣贯彻落实，始终在政治立场、政治方向、'), 0.5505982695719795)]\n",
      "-----------\n",
      "[(Document(metadata={'page': 268, 'source': './《习近平谈治国理政》第一卷.pdf'}, page_content='强军之魂.必须毫不动摇坚持党对军队的绝对领导，任何时候\\n下都坚决听党的话、跟党走。二是要牢记，能打仗、\\n打胜仗是强军之耍，必须按照打仗的标准搞建设抓准备，确保\\n我军始终能够召之即来、来之能战、战之必胜。三是要牢记，\\n依法治军、从严治军是强军之基，必须保持严明的作风和铁的\\n纪律，确保部队高度集中统一和安全稳定。在实现中华民族伟\\n大复兴的征程中，英雄的人民军队一定能够发扬传统、继往开\\n来，有效履行肩负的历史使命。\\n注释\\n[1]当代军人核心价值观，主要内容是:忠诚于觉，热爱人民，报效国\\n家，献身使命，崇尚荣誉。\\n219 \\nN艝PN巈Y[fS蕐褁\\x14O\\x7fu('), 0.5609806820873047)]\n",
      "-----------\n",
      "[(Document(metadata={'page': 99, 'source': './《习近平谈治国理政》第三卷.pdf'}, page_content='整套更加成熟更加定型的制度。”党的十五大、十六大、十七大都对制度建设提出明确要\\n求。\\n党的十八大以来，我们党把制度建设摆到更加突出的位置，强调“全面建成小康社会，\\n必须以更大的政治勇气和智慧，不失时机深化重要领域改革，坚决破除一切妨碍科学发展\\n的思想观念和体制机制弊端，构建系统完备、科学规范、运行有效的制度体系，使各方面\\n制度更加成熟更加定型”。党的十八届三中全会首次提出“推进国家治理体系和治理能力\\n现代化”这个重大命题，并把“完善和发展中国特色社会主义制度、推进国家治理体系和\\n治理能力现代化”确定为全面深化改革的总目标。党的十八届五中全会进一步强调，“十'), 0.5941862874208551)]\n",
      "-----------\n",
      "[(Document(metadata={'page': 394, 'source': './中国近现代史纲要：2023 年版(1).pdf'}, page_content='脱贫攻坚目标任务如期完成。\\n2020年11月，随着新疆、云南、宁夏、四川、广西、 回\\n甘肃、贵州的最后 52个贫困县官布退出贫困县序列，全国\\n832个贫困县全部实现脱贫摘帽， 12.8万个贫困村全部出列，\\n现行标准下 9899万农村贫困人口全部脱贫，所有深度贫困\\n地区的最后堡垒被全部攻克，区域性整体贫困得到解决。\\n2021年2月25日，党中央、国务院隆重举行全国脱贫\\n攻坚总结表彰大会。习近平在会上庄严宣告：我国脱贫攻坚战取得了全面\\n胜利。这是中国人民的伟大光荣，是中国共产党的伟大光荣，是中华民族\\n的伟大光荣！\\n农村贫困人口全部脱贫，为实现全面建成小康社会目标任务作出了关'), 0.3720401534293327)]\n",
      "-----------\n",
      "[(Document(metadata={'page': 419, 'source': './中国近现代史纲要：2023 年版(1).pdf'}, page_content='两步走的战咯安排，即从 2020年到2035年基本实现补会主义现代化；从\\n2035年到本世纪中叶把我国建成富强民主文明和谐美丽的补会主义现代\\n化强国。今后五年是全面建设社会主义现代化国家开局起步的关键时期，\\n主要目标任务是：经济高质址发展取得新突破，科技自立自强能力显著提\\n升，构建斩发展朼局相建设现代化经济体系取得重大进展；改革开放迈出\\n新步伐，同家治理体系和治理能力现代化深入推进，补会主义市场经济体\\n制更加完善，更高水平开放犁经济斩体制基本形成；全过程人民民主制度\\n化、规范化、程序化水平进一步提高，中国特色社会主义法治体系更加完'), 0.5591893988787432)]\n",
      "-----------\n",
      "[(Document(metadata={'page': 23, 'source': './《习近平谈治国理政》第三卷.pdf'}, page_content='路线，严格遵守政治纪律和政治规矩，在政治立场、政治方向、政治原则、政治道路上同\\n党中央保持高度一致。要尊崇党章，严格执行新形势下党内政治生活若干准则，增强党内\\n政治生活的政治性、时代性、原则性、战斗性，自觉抵制商品交换原则对党内生活的侵蚀，\\n营造风清气正的良好政治生态。完善和落实民主集中制的各项制度，坚持民主基础上的集\\n中和集中指导下的民主相结合，既充分发扬民主，又善于集中统一。弘扬忠诚老实、公道\\n正派、实事求是、清正廉洁等价值观，坚决防止和反对个人主义、分散主义、自由主义、\\n本位主义、好人主义，坚决防止和反对宗派主义、圈子文化、码头文化，坚决反对搞两面'), 0.5074658591555068)]\n",
      "-----------\n",
      "[(Document(metadata={'page': 302, 'source': './中国近现代史纲要：2023 年版(1).pdf'}, page_content='武装起来、全心全意为人民服务、思想上政治上组织上完全巩固、能够经\\n受住各种风险、始终走在时代前列、领导全国人民建设有中国特色补会主\\n义的马克思主义政党。\\n2000年1月，江泽民在十五届中央纪委第四次全会上强调，治同必\\n先治党，治党务必从严，提出要解决好”提高领导水平和执政水平、增强\\n__'), 0.4708458111835433)]\n",
      "-----------\n",
      "[(Document(metadata={'page': 110, 'source': './《习近平谈治国理政》第二卷.pdf'}, page_content='四、建设社会主义法治国家\\n加快建设社会主义法治国家*\\n（2014年10月23日）\\n坚定不移走中国特色社会主义法治道路\\n全面推进依法治国，必须走对路。如果路走错了，南辕北辙\\n了，那再提什么要求和举措也都没有意义了。全会通过的《中共中\\n央关于全面推进依法治国若干重大问题的决定》有一条贯穿全篇的\\n红线，这就是坚持和拓展中国特色社会主义法治道路。中国特色社\\n会主义法治道路是一个管总的东西。具体讲我国法治建设的成就，\\n大大小小可以列举出十几条、几十条，但归结起来就是开辟了中国\\n特色社会主义法治道路这一条。\\n恩格斯说过：“一个新的纲领毕竟总是一面公开树立起来的旗'), 0.6872643991966778)]\n",
      "-----------\n",
      "[(Document(metadata={'page': 173, 'source': './中国近现代史纲要：2023 年版(1).pdf'}, page_content='本原理同中囚具体实际相结合所创造的理论成果，正式命名为毛泽东思\\n想，并规定为党的一切［作的指针。把毛泽东思想确立为党的指导思想并\\n写入党章是中共七大的历史性贡献。\\n中共七大在党的历史上具有重要里程碑慈义，标志着党在政治上思想\\n士组织上走向成熟。它为建立新民主主义的新中同制定了正确路线方针政\\n策，确立了毛泽东在党中央和全克的领导核心地位、毛泽东思想在全党趴\\n指导地位，形成 f一支高举毛汗东旗耘门久经考验的政治家集团。七大以\\n“团结的大会，胜利的大会＂载入党的史册，并为党后来不断从胜利走向\\n胜利诣明「正确方向、开辟了正确道路。\\n同年6月19日召开的中共－ L届一中全会，选举产牛了中央政治局，'), 0.5920564807250541)]\n",
      "-----------\n"
     ]
    }
   ],
   "source": [
    "problems = [\"近代中国的社会性质是什么？\",\n",
    "           \"近代中国的主要矛盾是什么？\",\n",
    "           \"如何认识近代中国社会的落伍\",\n",
    "           \"太平天国运动的历史意义与局限\",\n",
    "           \"洋务运动的历史意义与局限\",\n",
    "           \"辛亥革命的纲领，意义是什么？\",\n",
    "           \"新文化运动的内容是\",\n",
    "           \"毛泽东思想形成的标志是什么？\",\n",
    "           \"中国共产党史上生死攸关的转折点是什么？\",\n",
    "           \"中国抗日战争在世界反法西斯战争中的地位和作用？\",\n",
    "           \"中国共产党领导的多党合作，政治协商的格局是怎样形成的？\",\n",
    "            \"中国革命胜利的原因和基本经验有哪些？\",\n",
    "            \"新民主主义社会的性质\",\n",
    "            \"中国实行社会主义改造的国内外条件？\",\n",
    "            \"新冠肺炎疫情发生后，党中央将疫情防控作为头等大事来抓，习近平总书记亲自指挥、亲自部署，坚持把什么放在第一位？\",\n",
    "            \"深化供给侧结构性改革，必须持续推进(   )，优化市场供求结构\",\n",
    "            \"近代以来中华民族最伟大的梦想是什么？\",\n",
    "            \"习近平总书记强调，我们党全面领导、长期执政，面临的最大挑战是什么？\",\n",
    "            \"习近平强军思想是什么\",\n",
    "            \"党的十九届四中全会指出，党和人民在长期实践探索中形成的科学制度体系是指\",\n",
    "            \"2020年脱贫攻坚任务完成后，我国将有1亿左右贫困人口实现脱贫，这也意味着我国将提前（）实现联合国2030年可持续发展议程的减贫目标\",\n",
    "            \"党的十九大提出：从2035年到本世纪中叶，在基本实现现代化的基础上，再奋斗15年，把我国建成（）的社会主义现代化强国\",\n",
    "            \"新时代党的建设总要求是坚持和加强党的全面领导，坚持党要管党、全面从严治党，以(   )为主线\",\n",
    "            \"习近平总书记在参加内蒙古代表团的审议时发表重要讲话指出，我们党没有自己特殊的利益，党在任何时候都把（）放在第一位\",\n",
    "            \"2014年十八届四中全会通过了(   )，明确提出全面推进依法治国，加快建设法治中国，开启了中国特色社会主义法治道路的新征程\",\n",
    "            \"中国共产党 ( ) 将毛泽东思想规定为中国共产党的一切工作的指针\"\n",
    "          ]\n",
    "for problem in problems:\n",
    "    res = vectordb.similarity_search_with_relevance_scores(query=problem, k=1)\n",
    "    print(res)\n",
    "    print(\"-----------\")"
   ]
  },
  {
   "cell_type": "code",
   "execution_count": 33,
   "id": "21c44814-9fd8-44a4-805f-2529c615b371",
   "metadata": {
    "execution": {
     "iopub.execute_input": "2024-09-23T07:21:02.976796Z",
     "iopub.status.busy": "2024-09-23T07:21:02.976480Z",
     "iopub.status.idle": "2024-09-23T07:21:28.815879Z",
     "shell.execute_reply": "2024-09-23T07:21:28.815221Z",
     "shell.execute_reply.started": "2024-09-23T07:21:02.976778Z"
    },
    "tags": []
   },
   "outputs": [
    {
     "name": "stderr",
     "output_type": "stream",
     "text": [
      "Downloading [added_tokens.json]: 100%|██████████| 82.0/82.0 [00:00<00:00, 144B/s]\n",
      "Downloading [config.json]: 100%|██████████| 871/871 [00:00<00:00, 1.52kB/s]\n",
      "Downloading [configuration.json]: 100%|██████████| 47.0/47.0 [00:01<00:00, 46.3B/s]\n",
      "Downloading [pytorch_model.bin]: 100%|██████████| 636M/636M [00:07<00:00, 92.4MB/s] \n",
      "Downloading [README.md]: 100%|██████████| 24.8k/24.8k [00:00<00:00, 34.6kB/s]\n",
      "Downloading [special_tokens_map.json]: 100%|██████████| 125/125 [00:00<00:00, 215B/s]\n",
      "Downloading [tokenizer.json]: 100%|██████████| 429k/429k [00:00<00:00, 695kB/s]\n",
      "Downloading [tokenizer_config.json]: 100%|██████████| 1.08k/1.08k [00:11<00:00, 93.2B/s]\n",
      "Downloading [vocab.txt]: 100%|██████████| 107k/107k [00:00<00:00, 219kB/s]\n"
     ]
    },
    {
     "data": {
      "text/plain": [
       "'./AI-ModelScope/tao-8k'"
      ]
     },
     "execution_count": 33,
     "metadata": {},
     "output_type": "execute_result"
    }
   ],
   "source": [
    "snapshot_download('AI-ModelScope/tao-8k', cache_dir='./')"
   ]
  },
  {
   "cell_type": "code",
   "execution_count": 3,
   "id": "eb8821ad-cfb9-47ae-a2fe-05507f2ef42b",
   "metadata": {
    "ExecutionIndicator": {
     "show": true
    },
    "execution": {
     "iopub.execute_input": "2024-10-15T02:04:21.620873Z",
     "iopub.status.busy": "2024-10-15T02:04:21.620360Z",
     "iopub.status.idle": "2024-10-15T02:09:46.215548Z",
     "shell.execute_reply": "2024-10-15T02:09:46.215056Z",
     "shell.execute_reply.started": "2024-10-15T02:04:21.620844Z"
    },
    "tags": []
   },
   "outputs": [
    {
     "name": "stdout",
     "output_type": "stream",
     "text": [
      "429\n",
      "536\n",
      "542\n",
      "427\n",
      "538\n"
     ]
    },
    {
     "name": "stderr",
     "output_type": "stream",
     "text": [
      "/tmp/ipykernel_3951/4270446793.py:35: LangChainDeprecationWarning: Since Chroma 0.4.x the manual persistence method is no longer supported as docs are automatically persisted.\n",
      "  vectordb.persist()\n"
     ]
    }
   ],
   "source": [
    "tao_8k_embedding_model_path = \"./trained_tao1\"\n",
    "\n",
    "\n",
    "tao_8k = get_embedding(tao_8k_embedding_model_path)\n",
    "\n",
    "loaders_chinese = [\n",
    "        PyPDFLoader(\"./中国近现代史纲要：2023 年版(1).pdf\"),\n",
    "        PyPDFLoader(\"./《习近平谈治国理政》第一卷.pdf\"),\n",
    "        PyPDFLoader(\"./《习近平谈治国理政》第二卷.pdf\"),\n",
    "        PyPDFLoader(\"./《习近平谈治国理政》第三卷.pdf\"),\n",
    "        PyPDFLoader(\"./《习近平谈治国理政》第四卷.pdf\")\n",
    "    # 如果需要还可以加入其他文件\n",
    "]\n",
    "docs = []\n",
    "for loader in loaders_chinese:\n",
    "    pages = loader.load()\n",
    "    print(len(pages))\n",
    "    docs.extend(pages)\n",
    "CHUNK_SIZE = 300\n",
    "# 知识库中相邻文本重合长度\n",
    "OVERLAP_SIZE = 50\n",
    "\n",
    "text_splitter = RecursiveCharacterTextSplitter(\n",
    "    chunk_size=CHUNK_SIZE,\n",
    "    chunk_overlap=OVERLAP_SIZE\n",
    ")\n",
    "split_docs = text_splitter.split_documents(docs)\n",
    "persist_directory = \"./vector_db/trained_tao1\"\n",
    "\n",
    "vectordb = Chroma.from_documents(\n",
    "    documents=split_docs,\n",
    "    embedding=tao_8k,\n",
    "    persist_directory=persist_directory  # 允许我们将persist_directory目录保存到磁盘上\n",
    ")\n",
    "vectordb.persist()"
   ]
  },
  {
   "cell_type": "code",
   "execution_count": 4,
   "id": "25fd210b-8e7b-45d9-925f-656b62f04103",
   "metadata": {
    "execution": {
     "iopub.execute_input": "2024-10-15T02:19:44.535802Z",
     "iopub.status.busy": "2024-10-15T02:19:44.535263Z",
     "iopub.status.idle": "2024-10-15T02:19:44.989929Z",
     "shell.execute_reply": "2024-10-15T02:19:44.989429Z",
     "shell.execute_reply.started": "2024-10-15T02:19:44.535776Z"
    },
    "tags": []
   },
   "outputs": [
    {
     "name": "stdout",
     "output_type": "stream",
     "text": [
      "[(Document(metadata={'page': 33, 'source': './中国近现代史纲要：2023 年版(1).pdf'}, page_content='从近代中国的历史进程，可以看到中国半殖民地半封建社会有以下一\\n些基本特征：\\n第一，资本－帝国主义侵略势力不但逐步操纵了中国的财政和经济命\\n脉，而且逐步控制了中国的政治，日益成为支配中国的决定性力狱。\\n第二，中国的封建势力日益衰败并同外国侵略势力勾结，成为资本－\\n帝国主义压迫、奴役中国人民的社会基础和统治支柱。\\n第三，中国自然经济的基础虽然遭到破坏，但是封建剥削制度的根基\\n即封建地主的土地所有制依然在广大地区内保持着，成为中国发展进步的\\n严重障碍。\\n第四，中国新兴的民族资本主义经济虽然已经产生，并在政治、文化\\n生活中起了一定的作用，但是在帝国主义和封建主义的压迫下，它的发展'), 0.16065242398870117)]\n",
      "-----------\n",
      "[(Document(metadata={'page': 53, 'source': './《习近平谈治国理政》第四卷.pdf'}, page_content='当注意的。”近代以后，中国社会矛盾错综复杂，有帝国主义和\\n中华民族的矛盾、封建主义和人民大众的矛盾，有资产阶级和无\\n产阶级的矛盾、反动统治阶级内部的矛盾，而帝国主义和中华民'), 0.4948164519524777)]\n",
      "-----------\n",
      "[(Document(metadata={'page': 199, 'source': './《习近平谈治国理政》第三卷.pdf'}, page_content='思维、零和博弈愈发陈旧落伍，妄自尊大或独善其身只能四处碰壁。只有坚持和平发展、\\n携手合作，才能真正实现共赢、多赢。\\n当今世界，开放融通的潮流滚滚向前。人类社会发展的历史告诉我们，开放带来进步，\\n封闭必然落后。世界已经成为你中有我、我中有你的地球村，各国经济社会发展日益相互\\n联系、相互影响，推进互联互通、加快融合发展成为促进共同繁荣发展的必然选择。\\n当今世界，变革创新的潮流滚滚向前。中国的先人们早在2500多年前就认识到：“苟\\n利于民，不必法古；苟周于事，不必循俗”。变革创新是推动人类社会向前发展的根本动\\n力。谁排斥变革，谁拒绝创新，谁就会落后于时代，谁就会被历史淘汰。'), -0.03894434525937118)]\n",
      "-----------\n",
      "[(Document(metadata={'page': 66, 'source': './中国近现代史纲要：2023 年版(1).pdf'}, page_content='弟．， I，J}.＼「人 1h埣动的起，许53 \\n不可磨灭的历史功绩和重大的历史意义。\\n太平天国起义沉重打击了封建统治阶级，强烈撼动了清政府的统治根\\n基。这次起义历时 14载，起义军转战 18省，并建立了与清王朝对峙的政\\n权。在太平天国的影响下，各地各族人民反清斗争风起云涌。如南方和东\\n南沿海各省有天地会及其支派的起义，北方有捻军起义，西南、西北有各\\n族人民起义。天京失陷后，太平天国余部仍坚持斗争达4年之久。这些斗\\n争加速了清王朝的衰败。\\n太平天国起义是中国旧式农民战争的最高峰。它把千百年来农民对拥\\n有土地的渴望在《天朝田亩制度》中比较完整地表达了出来。《资政新篇》'), 0.46467968509955104)]\n",
      "-----------\n",
      "[(Document(metadata={'page': 66, 'source': './中国近现代史纲要：2023 年版(1).pdf'}, page_content='弟．， I，J}.＼「人 1h埣动的起，许53 \\n不可磨灭的历史功绩和重大的历史意义。\\n太平天国起义沉重打击了封建统治阶级，强烈撼动了清政府的统治根\\n基。这次起义历时 14载，起义军转战 18省，并建立了与清王朝对峙的政\\n权。在太平天国的影响下，各地各族人民反清斗争风起云涌。如南方和东\\n南沿海各省有天地会及其支派的起义，北方有捻军起义，西南、西北有各\\n族人民起义。天京失陷后，太平天国余部仍坚持斗争达4年之久。这些斗\\n争加速了清王朝的衰败。\\n太平天国起义是中国旧式农民战争的最高峰。它把千百年来农民对拥\\n有土地的渴望在《天朝田亩制度》中比较完整地表达了出来。《资政新篇》'), 0.21394627099375652)]\n",
      "-----------\n",
      "[(Document(metadata={'page': 89, 'source': './中国近现代史纲要：2023 年版(1).pdf'}, page_content=\"穸\\n6 \\n~i/ 伈丫亥，＼＇，命 1丿，I! I I UI'1 I II'丿＇／，\\n栖牲就否定革命，”是何异见将溃之疽而戒毋施刀士＂（ i)?革命虽不免流\\n血，但可“救世救人＂，是疗治社会的捷径\\n第二，人们｛ I晶命过程中所付出的努力，乃至作出的牺牲，足以换\\n取历史的进儿仵为补佚的。孙中山说，“革命的目的，是为众生谋幸佃＂，\\n“革命之破坏与革命之建设必相辅而行，犹人之两足、鸟之双冀也＂气这\\n忱是说，革命本身正是为了建设，破坏与建设是革命的两个方面。\\n个仪州翻帝制，实们只和 改良派认为，中国“国民恶劣”“智力\\n低下”，没有实行民主共和政治的能力，如果实们，非亡同不可。囚此，\"), 0.03513000540398048)]\n",
      "-----------\n",
      "[(Document(metadata={'page': 105, 'source': './中国近现代史纲要：2023 年版(1).pdf'}, page_content='文化运动的土荌阵地\\n新义化运动的壮本门号是拥护＂笆先牛”(Democracy) 和＂赛先生”\\n(Science) ，即提倡民主和科学。民主，既是指资产阶级民主主义制度，\\n也是拒资产阶级民主主义思知。科学，则有广狭二义：＂狭义的是指臼然科\\n学”,“广义是拒社会科学”(i)\\n新文化运动的倡导者以进化论观点和个性解放思想为主要武器，猛烈\\n才平山以孔了为代表的＂往圣先贤＂，大力提倡新道德、反对旧道德，提倡\\n新文学、反对旧文学，包括提倡白话文、反对文言文。通过批判孔学，动\\n摇了封建正统思想的统冶地位，在中国社会掀起－股思想解放的潮流。\\n新文化运动的倡导者提倡民主、反对专制，提倡科学、反对迷信盲'), 0.3751508858773763)]\n",
      "-----------\n",
      "[(Document(metadata={'page': 54, 'source': './《习近平谈治国理政》第二卷.pdf'}, page_content='早在新中国成立前夕，毛泽东同志就告诫我们：“夺取全国胜\\n利，这只是万里长征走完了第一步。”〔1〕新中国成立后，经过艰\\n苦摸索和曲折实践，我们开启了改革开放新时代，迈上了建设中国\\n特色社会主义新长征之路。\\n改革开放30多年来，在中国共产党领导下，全国各族人民团结\\n一心、艰苦奋斗，我国改革开放和社会主义现代化事业加速发展，\\n人民生活得到根本改善，我国社会主义制度极大巩固和发展，我们\\n迎来了中华民族实现伟大复兴的光明前景。\\n坚持和发展中国特色社会主义是一项长期的艰巨的历史任务。\\n邓小平同志说：“我们搞社会主义才几十年，还处在初级阶段。巩固\\n和发展社会主义制度，还需要一个很长的历史阶段，需要我们几代'), 0.00605146162346526)]\n",
      "-----------\n",
      "[(Document(metadata={'page': 495, 'source': './《习近平谈治国理政》第四卷.pdf'}, page_content='堡垒最容易从内部被攻破。从某种意义上说，自从党成立以\\n来，我们党面临的最大风险是内部变质、变色、变味，丧失马克\\n思主义政党的政治本色，背离党的宗旨而失去最广大人民支持和\\n拥护。党的百年历史，也是我们党不断保持党的先进性和纯洁性，\\n不断防范被瓦解、被腐化的危险的历史。要教育引导全党通过总\\n结历史经验教训，着眼于解决党的建设的现实问题，不断提高党\\n的领导水平和执政水平、增强拒腐防变和抵御风险能力，确保我\\n们党在世界形势深刻变化的历史进程中始终走在时代前列，在应\\n对国内外各种风险挑战的历史进程中始终成为全国人民的主心\\n骨，在坚持和发展中国特色社会主义的历史进程中始终成为坚强\\n领导核心。'), 0.07095634392478678)]\n",
      "-----------\n",
      "[(Document(metadata={'page': 175, 'source': './中国近现代史纲要：2023 年版(1).pdf'}, page_content='的时候，中国人民孤军奋战，英勇抗击了百万日，平的进攻。中国的抗战牟\\n制和削弱了日本的力鼠，使之不敢贸然北进，从而使苏联得以集中兵力对\\n付德国，避免东西两面作战；同时也推迟了日本发动太平洋战争的时间，\\n并使之在发动和进行战争时由于兵力不足而不能全力南进，从而减轻了\\n美、英军队所受压力。\\n中国坚持持久抗战，抗击和牵制着日本陆军主力，并为同盟国军队实\\n施战略反攻创造了有利条件。美国总统罗斯福说： ＂假如没有中国，假如\\n中国被打坰了，你想一想有多少师团的日本兵可以因此调到其他方面来作\\n战？＇｀）苏联元帅崔可夫说： ＂甚至在我们最艰苦的战争年代里，日本也没'), 0.4708240634097117)]\n",
      "-----------\n",
      "[(Document(metadata={'page': 197, 'source': './中国近现代史纲要：2023 年版(1).pdf'}, page_content=\"184 绊汗t:'，f，:为建中｀， f新l编1:，国面奋斗·\\n共同建设新中国”@。这标志着民主党派地位的根本变化，即它们不再是旧\\n中国反动政权下的在野党，而将在中国共产党领导下，共同担负起管理国\\n家和建设新中国的历史重任。中国共产党领导的多党合作政治格局，正是\\n在这个基础上形成的。\\n历史经验表明，资产阶级共和国的方案在中国是行不通的。中国共产\\n党领导的多党合作和政治协商制度，符合中国历史发展的规律和中国人民\\n的根本利益，也符合各民主党派和无党派民主人士的意愿。\\n第四节建立人民民主专政的新中国\\n一、南京国民党政权的覆灭\\n辽沈、淮袧、平沐:^3．大战役 1948年秋，人民解放战争进入夺取全\"), 0.4531459471234538)]\n",
      "-----------\n",
      "[(Document(metadata={'page': 205, 'source': './中国近现代史纲要：2023 年版(1).pdf'}, page_content=\"192, ; { , 为让， I I i'打旬价\\n走向崩溃？\\n2.如何认识民主党派的历史作用？中国）厅党领汁的多党合作和政\\n治协商格局是怎样形成的？\\n3.为什么说“没有共产党，就没们斩中日”？中 !El丿［产党领导中 1叶\\n革命取得胜利的基本经验是什么？\\n必读文献\\n1.毛泽东：《论人民民主炉政》 (1949年6月30日）\\n《论人民民主专政》是毛泽东在中国新民主主义革命取得决定性胜\\n利、全国性政权即将建立的时刻，为纪念中国共产党成立 28周什而撰写\\n的文章。文章论述了即将成立的中华人民共和国的国家性质，各阶织在国\\n家中的地位及其相互关系，国家对内、对外政策等，奠定了新中国国家政\"), 0.2315209167669201)]\n",
      "-----------\n"
     ]
    },
    {
     "name": "stderr",
     "output_type": "stream",
     "text": [
      "/tmp/ipykernel_3951/2830832776.py:29: UserWarning: Relevance scores must be between 0 and 1, got [(Document(metadata={'page': 199, 'source': './《习近平谈治国理政》第三卷.pdf'}, page_content='思维、零和博弈愈发陈旧落伍，妄自尊大或独善其身只能四处碰壁。只有坚持和平发展、\\n携手合作，才能真正实现共赢、多赢。\\n当今世界，开放融通的潮流滚滚向前。人类社会发展的历史告诉我们，开放带来进步，\\n封闭必然落后。世界已经成为你中有我、我中有你的地球村，各国经济社会发展日益相互\\n联系、相互影响，推进互联互通、加快融合发展成为促进共同繁荣发展的必然选择。\\n当今世界，变革创新的潮流滚滚向前。中国的先人们早在2500多年前就认识到：“苟\\n利于民，不必法古；苟周于事，不必循俗”。变革创新是推动人类社会向前发展的根本动\\n力。谁排斥变革，谁拒绝创新，谁就会落后于时代，谁就会被历史淘汰。'), -0.03894434525937118)]\n",
      "  res = vectordb.similarity_search_with_relevance_scores(query=problem, k=1)\n"
     ]
    },
    {
     "name": "stdout",
     "output_type": "stream",
     "text": [
      "[(Document(metadata={'page': 227, 'source': './《习近平谈治国理政》第四卷.pdf'}, page_content='的关系，在性质上要区分，在定位上要明确，规范和引导各类资\\n本健康发展。\\n要正确处理资本和利益分配问题。我国社会主义的国家性质\\n决定了我们必须坚持按劳分配为主体、多种分配方式并存，在社'), 0.06137636525826051)]\n",
      "-----------\n",
      "[(Document(metadata={'page': 136, 'source': './《习近平谈治国理政》第四卷.pdf'}, page_content='从国内看，我国继续发展具有多方面优势和条件，也面临不\\n少困难和挑战。关键是要用全面、辩证、长远的眼光看问题，积\\n极拓展发展新空间。\\n第一，深刻认识社会主要矛盾变化，增强解决发展不平衡不\\n充分问题的系统性。当前，我国发展面临的主要问题是创新能力\\n不适应高质量发展要求，农业基础还不稳固，城乡区域发展和收\\n入分配差距较大，生态环保任重道远，民生保障存在短板，社会\\n治理还有弱项。归结起来，就是发展不平衡发展不充分。发展不\\n平衡，主要是各区域各领域各方面存在失衡现象，制约了整体发\\n展水平提升；发展不充分，主要是我国全面实现社会主义现代化\\n还有相当长的路要走，发展任务仍然很重。推动解决这些问题，'), 0.07858054023301342)]\n",
      "-----------\n",
      "[(Document(metadata={'page': 378, 'source': './中国近现代史纲要：2023 年版(1).pdf'}, page_content='发生的最严重的传染病大流行。\\n新冠肺炎疫清发生后，党中央将疫情防控作为头等大事来抓。习近平\\n亲自指挥、亲自部署，坚持把人民生命安全和身体健康放在第一位，提出\\n坚定信心、同舟共济、科学防治、精准施策的总要求。从 2020年大年初一\\n起，习近平先后主持召开 14次中央政治局常委会会议、 4次中央政治局会\\n议以及多次党的重要会议，敏锐洞察、果敢决策，科学指引、沉着应对，\\n周密部署武汉保卫战、湖北保卫战，因时因势制定重大战略策略，带领全\\n党全军全国各族人民迅速打响疫情防控的人民战争、总体战、阻击战。\\n在党中央坚强领导下，中国人民风雨同舟、众志成城，发扬一方有'), 0.5753862641740857)]\n",
      "-----------\n",
      "[(Document(metadata={'page': 233, 'source': './《习近平谈治国理政》第二卷.pdf'}, page_content='第十，扩大对外开放，要更加注重推进高水平双向开放。要奉\\n行互利共赢的开放战略，坚持内外需协调、进出口平衡、引进来走\\n出去并重、引资引技引智并举，积极参与全球经济治理和公共产品\\n供给，提高我国在全球治理中的制度性话语权。\\n总之，推进供给侧结构性改革，是适应和引领经济发展新常态\\n的重大创新，是适应国际金融危机发生后综合国力竞争新形势的主\\n动选择，是适应我国经济发展新常态的必然要求，希望同志们共同\\n努力，把这件大事抓好。\\n注释\\n〔1〕见南宋叶适《习学记言序目·皇朝文鉴一·四言诗》。\\n*这是习近平在中央经济工作会议上讲话的节录。'), 0.5326634368314418)]\n",
      "-----------\n",
      "[(Document(metadata={'page': 8, 'source': './《习近平谈治国理政》第一卷.pdf'}, page_content='中华民族近代以来最伟大的梦想……………………… 3.5 \\n( 2012年II月29日)\\n在第十二届全国人民代表大会第一次会议上的讲话 …….. 38 \\n( 2013年3月17日)\\n1 \\nN艝PN巈Y[fS蕐褁\\x14O\\x7fu('), 0.5438394323573785)]\n",
      "-----------\n",
      "[(Document(metadata={'page': 394, 'source': './《习近平谈治国理政》第三卷.pdf'}, page_content='总的是好的，但我们前进道路上面临的困难和风险也不少。国内外环境发生了深刻变化，\\n面对的矛盾和问题发生了深刻变化，发展阶段和发展任务发生了深刻变化，工作对象和工\\n作条件发生了深刻变化，对我们党长期执政能力和领导水平的要求也发生了深刻变化。中\\n央政治局的同志尤其要增强忧患意识、居安思危，时刻准备进行具有许多新的历史特点的\\n伟大斗争，知危图安，尽职尽责、勇于担责，着力破解突出矛盾和问题，有效防范化解各\\n种风险。'), 0.2592396346270798)]\n",
      "-----------\n",
      "[(Document(metadata={'page': 331, 'source': './《习近平谈治国理政》第三卷.pdf'}, page_content='中央军委指挥。要坚持用新时代中国特色社会主义思想和新时代党的强军思想武装官兵，\\n铸牢部队对党绝对忠诚的思想根基。要落实党委统一的集体领导下的首长分工负责制，做\\n到一切工作都置于党委统一领导之下，一切重要问题都由党委研究决定。要健全党领导军\\n队的制度体系，全面规范我军党的工作和政治工作。\\n习近平强调，党的力量来自组织，组织强则军队强。要坚持组织路线服务政治路线，\\n聚焦备战打仗主责主业，加强我军党的组织体系建设，增强各级党组织的领导力、组织力、\\n执行力，把党的政治优势和组织优势转化为制胜优势。要适应改革后的新体制新职能，坚'), 0.36320402449217526)]\n",
      "-----------\n",
      "[(Document(metadata={'page': 422, 'source': './《习近平谈治国理政》第三卷.pdf'}, page_content='的。党的十八大以来，党中央坚持制度治党、依规治党，努力构建系统完备、科学规范、\\n运行有效的制度体系，把全面从严治党提升到一个新的水平。\\n党的十九届四中全会提出建立不忘初心、牢记使命的制度。建章立制，要坚持系统思\\n维、辩证思维、底线思维，体现指导性、针对性、操作性。既坚持解决问题又坚持简便易\\n行，采取务实管用的措施切中问题要害；既坚持目标导向又坚持立足实际，力求把落实党\\n中央要求、满足实践需要、符合基层期盼统一起来；既坚持创新发展又坚持有机衔接，同\\n党内法规制度融会贯通，该坚持的坚持、该完善的完善、该建立的建立、该落实的落实。\\n建立制度，不能大而全也不能小而碎，不能“牛栏关猫”也不能过于繁琐。'), 0.41649542698001696)]\n",
      "-----------\n",
      "[(Document(metadata={'page': 394, 'source': './中国近现代史纲要：2023 年版(1).pdf'}, page_content='脱贫攻坚目标任务如期完成。\\n2020年11月，随着新疆、云南、宁夏、四川、广西、 回\\n甘肃、贵州的最后 52个贫困县官布退出贫困县序列，全国\\n832个贫困县全部实现脱贫摘帽， 12.8万个贫困村全部出列，\\n现行标准下 9899万农村贫困人口全部脱贫，所有深度贫困\\n地区的最后堡垒被全部攻克，区域性整体贫困得到解决。\\n2021年2月25日，党中央、国务院隆重举行全国脱贫\\n攻坚总结表彰大会。习近平在会上庄严宣告：我国脱贫攻坚战取得了全面\\n胜利。这是中国人民的伟大光荣，是中国共产党的伟大光荣，是中华民族\\n的伟大光荣！\\n农村贫困人口全部脱贫，为实现全面建成小康社会目标任务作出了关'), 0.5142092284767044)]\n",
      "-----------\n",
      "[(Document(metadata={'page': 13, 'source': './《习近平谈治国理政》第三卷.pdf'}, page_content='形成，社会充满活力又和谐有序；生态环境根本好转，美丽中国目标基本实现。\\n第二个阶段，从二〇三五年到本世纪中叶，在基本实现现代化的基础上，再奋斗十五\\n年，把我国建成富强民主文明和谐美丽的社会主义现代化强国。到那时，我国物质文明、\\n政治文明、精神文明、社会文明、生态文明将全面提升，实现国家治理体系和治理能力现\\n代化，成为综合国力和国际影响力领先的国家，全体人民共同富裕基本实现，我国人民将\\n享有更加幸福安康的生活，中华民族将以更加昂扬的姿态屹立于世界民族之林。\\n同志们！从全面建成小康社会到基本实现现代化，再到全面建成社会主义现代化强国，'), 0.3470207304820533)]\n",
      "-----------\n",
      "[(Document(metadata={'page': 23, 'source': './《习近平谈治国理政》第三卷.pdf'}, page_content='政考验、改革开放考验、市场经济考验、外部环境考验的长期性和复杂性，深刻认识党面\\n临的精神懈怠危险、能力不足危险、脱离群众危险、消极腐败危险的尖锐性和严峻性，坚\\n持问题导向，保持战略定力，推动全面从严治党向纵深发展。\\n新时代党的建设总要求是：坚持和加强党的全面领导，坚持党要管党、全面从严治党，\\n以加强党的长期执政能力建设、先进性和纯洁性建设为主线，以党的政治建设为统领，以\\n坚定理想信念宗旨为根基，以调动全党积极性、主动性、创造性为着力点，全面推进党的\\n政治建设、思想建设、组织建设、作风建设、纪律建设，把制度建设贯穿其中，深入推进'), 0.6616251436217728)]\n",
      "-----------\n",
      "[(Document(metadata={'page': 137, 'source': './《习近平谈治国理政》第三卷.pdf'}, page_content='部署上来，坚定不移把自己的事情办好。\\n习近平指出，内蒙古地处祖国北疆，自然和生态资源十分丰富，民族文化多姿多彩，\\n发展潜力巨大，战略地位重要。要推动经济高质量发展，把供给侧结构性改革聚焦到补短\\n板上来，巩固“三去一降一补”成果，坚定不移深化改革开放，增强微观主体活力，提升\\n产业链水平，畅通经济循环，推动农牧业高质量发展，促进城乡区域协调发展。要坚持生\\n态优先、绿色发展，在集中集聚集约上找出路，加强草原保护，强化土地沙化荒漠化防治\\n工作，保护好生态环境，筑牢我国北方重要生态安全屏障。要切实保障和改善民生，着力\\n解决教育、就业、社保、医疗、住房等各方面存在的突出问题、紧迫问题，坚决打赢三大'), 0.24760061382340237)]\n",
      "-----------\n",
      "[(Document(metadata={'page': 110, 'source': './《习近平谈治国理政》第二卷.pdf'}, page_content='四、建设社会主义法治国家\\n加快建设社会主义法治国家*\\n（2014年10月23日）\\n坚定不移走中国特色社会主义法治道路\\n全面推进依法治国，必须走对路。如果路走错了，南辕北辙\\n了，那再提什么要求和举措也都没有意义了。全会通过的《中共中\\n央关于全面推进依法治国若干重大问题的决定》有一条贯穿全篇的\\n红线，这就是坚持和拓展中国特色社会主义法治道路。中国特色社\\n会主义法治道路是一个管总的东西。具体讲我国法治建设的成就，\\n大大小小可以列举出十几条、几十条，但归结起来就是开辟了中国\\n特色社会主义法治道路这一条。\\n恩格斯说过：“一个新的纲领毕竟总是一面公开树立起来的旗'), 0.42357795199118164)]\n",
      "-----------\n",
      "[(Document(metadata={'page': 173, 'source': './中国近现代史纲要：2023 年版(1).pdf'}, page_content='本原理同中囚具体实际相结合所创造的理论成果，正式命名为毛泽东思\\n想，并规定为党的一切［作的指针。把毛泽东思想确立为党的指导思想并\\n写入党章是中共七大的历史性贡献。\\n中共七大在党的历史上具有重要里程碑慈义，标志着党在政治上思想\\n士组织上走向成熟。它为建立新民主主义的新中同制定了正确路线方针政\\n策，确立了毛泽东在党中央和全克的领导核心地位、毛泽东思想在全党趴\\n指导地位，形成 f一支高举毛汗东旗耘门久经考验的政治家集团。七大以\\n“团结的大会，胜利的大会＂载入党的史册，并为党后来不断从胜利走向\\n胜利诣明「正确方向、开辟了正确道路。\\n同年6月19日召开的中共－ L届一中全会，选举产牛了中央政治局，'), 0.16075897122173677)]\n",
      "-----------\n"
     ]
    }
   ],
   "source": [
    "problems = [\"近代中国的社会性质是什么？\",\n",
    "           \"近代中国的主要矛盾是什么？\",\n",
    "           \"如何认识近代中国社会的落伍\",\n",
    "           \"太平天国运动的历史意义与局限\",\n",
    "           \"洋务运动的历史意义与局限\",\n",
    "           \"辛亥革命的纲领，意义是什么？\",\n",
    "           \"新文化运动的内容是\",\n",
    "           \"毛泽东思想形成的标志是什么？\",\n",
    "           \"中国共产党史上生死攸关的转折点是什么？\",\n",
    "           \"中国抗日战争在世界反法西斯战争中的地位和作用？\",\n",
    "           \"中国共产党领导的多党合作，政治协商的格局是怎样形成的？\",\n",
    "            \"中国革命胜利的原因和基本经验有哪些？\",\n",
    "            \"新民主主义社会的性质\",\n",
    "            \"中国实行社会主义改造的国内外条件？\",\n",
    "            \"新冠肺炎疫情发生后，党中央将疫情防控作为头等大事来抓，习近平总书记亲自指挥、亲自部署，坚持把什么放在第一位？\",\n",
    "            \"深化供给侧结构性改革，必须持续推进(   )，优化市场供求结构\",\n",
    "            \"近代以来中华民族最伟大的梦想是什么？\",\n",
    "            \"习近平总书记强调，我们党全面领导、长期执政，面临的最大挑战是什么？\",\n",
    "            \"习近平强军思想是什么\",\n",
    "            \"党的十九届四中全会指出，党和人民在长期实践探索中形成的科学制度体系是指\",\n",
    "            \"2020年脱贫攻坚任务完成后，我国将有1亿左右贫困人口实现脱贫，这也意味着我国将提前（）实现联合国2030年可持续发展议程的减贫目标\",\n",
    "            \"党的十九大提出：从2035年到本世纪中叶，在基本实现现代化的基础上，再奋斗15年，把我国建成（）的社会主义现代化强国\",\n",
    "            \"新时代党的建设总要求是坚持和加强党的全面领导，坚持党要管党、全面从严治党，以(   )为主线\",\n",
    "            \"习近平总书记在参加内蒙古代表团的审议时发表重要讲话指出，我们党没有自己特殊的利益，党在任何时候都把（）放在第一位\",\n",
    "            \"2014年十八届四中全会通过了(   )，明确提出全面推进依法治国，加快建设法治中国，开启了中国特色社会主义法治道路的新征程\",\n",
    "            \"中国共产党 ( ) 将毛泽东思想规定为中国共产党的一切工作的指针\"\n",
    "          ]\n",
    "for problem in problems:\n",
    "    res = vectordb.similarity_search_with_relevance_scores(query=problem, k=1)\n",
    "    print(res)\n",
    "    print(\"-----------\")"
   ]
  },
  {
   "cell_type": "code",
   "execution_count": 36,
   "id": "cdebecaf-fe44-4e1c-98aa-1b550c70b69a",
   "metadata": {
    "execution": {
     "iopub.execute_input": "2024-09-23T07:37:25.612142Z",
     "iopub.status.busy": "2024-09-23T07:37:25.611777Z",
     "iopub.status.idle": "2024-09-23T07:37:57.413087Z",
     "shell.execute_reply": "2024-09-23T07:37:57.412564Z",
     "shell.execute_reply.started": "2024-09-23T07:37:25.612121Z"
    },
    "tags": []
   },
   "outputs": [
    {
     "name": "stderr",
     "output_type": "stream",
     "text": [
      "Downloading [config.json]: 100%|██████████| 821/821 [00:00<00:00, 1.51kB/s]\n",
      "Downloading [configuration.json]: 100%|██████████| 215/215 [00:00<00:00, 478B/s]\n",
      "Downloading [eval_results.txt]: 100%|██████████| 69.0/69.0 [00:00<00:00, 114B/s]\n",
      "Downloading [model.safetensors]: 100%|██████████| 1.21G/1.21G [00:05<00:00, 260MB/s] \n",
      "Downloading [pytorch_model.bin]: 100%|██████████| 1.21G/1.21G [00:05<00:00, 251MB/s] \n",
      "Downloading [README.md]: 100%|██████████| 901/901 [00:00<00:00, 1.38kB/s]\n",
      "Downloading [special_tokens_map.json]: 100%|██████████| 125/125 [00:00<00:00, 207B/s]\n",
      "Downloading [tokenizer.json]: 100%|██████████| 429k/429k [00:01<00:00, 230kB/s]\n",
      "Downloading [tokenizer_config.json]: 100%|██████████| 514/514 [00:10<00:00, 48.3B/s]\n",
      "Downloading [vocab.txt]: 100%|██████████| 107k/107k [00:00<00:00, 165kB/s]\n"
     ]
    },
    {
     "data": {
      "text/plain": [
       "'./Jerry0/text2vec-large-chinese'"
      ]
     },
     "execution_count": 36,
     "metadata": {},
     "output_type": "execute_result"
    }
   ],
   "source": [
    "snapshot_download('Jerry0/text2vec-large-chinese', cache_dir='./')"
   ]
  },
  {
   "cell_type": "code",
   "execution_count": 38,
   "id": "8973c8e5-cd17-4712-ba7d-30dc7ececc9b",
   "metadata": {
    "execution": {
     "iopub.execute_input": "2024-09-23T07:40:05.366923Z",
     "iopub.status.busy": "2024-09-23T07:40:05.366570Z",
     "iopub.status.idle": "2024-09-23T07:46:04.940620Z",
     "shell.execute_reply": "2024-09-23T07:46:04.940097Z",
     "shell.execute_reply.started": "2024-09-23T07:40:05.366903Z"
    },
    "tags": []
   },
   "outputs": [
    {
     "name": "stderr",
     "output_type": "stream",
     "text": [
      "No sentence-transformers model found with name ./Jerry0/text2vec-large-chinese. Creating a new one with mean pooling.\n"
     ]
    },
    {
     "name": "stdout",
     "output_type": "stream",
     "text": [
      "429\n",
      "536\n",
      "542\n",
      "427\n",
      "538\n"
     ]
    }
   ],
   "source": [
    "text2vec_embedding_model_path = \"./Jerry0/text2vec-large-chinese\"\n",
    "\n",
    "text2vec = get_embedding(text2vec_embedding_model_path)\n",
    "\n",
    "loaders_chinese = [\n",
    "    # PyMuPDFLoader(\"./data/24徐涛《核心考案》高清无水印PDF【公众号：薄荷考研】.pdf\")\n",
    "        PyPDFLoader(\"./中国近现代史纲要：2023 年版(1).pdf\"),\n",
    "        PyPDFLoader(\"./《习近平谈治国理政》第一卷.pdf\"),\n",
    "        PyPDFLoader(\"./《习近平谈治国理政》第二卷.pdf\"),\n",
    "        PyPDFLoader(\"./《习近平谈治国理政》第三卷.pdf\"),\n",
    "        PyPDFLoader(\"./《习近平谈治国理政》第四卷.pdf\")\n",
    "    # 如果需要还可以加入其他文件\n",
    "]\n",
    "docs = []\n",
    "for loader in loaders_chinese:\n",
    "    pages = loader.load()\n",
    "    print(len(pages))\n",
    "    docs.extend(pages)\n",
    "CHUNK_SIZE = 300\n",
    "# 知识库中相邻文本重合长度\n",
    "OVERLAP_SIZE = 50\n",
    "\n",
    "text_splitter = RecursiveCharacterTextSplitter(\n",
    "    chunk_size=CHUNK_SIZE,\n",
    "    chunk_overlap=OVERLAP_SIZE\n",
    ")\n",
    "split_docs = text_splitter.split_documents(docs)\n",
    "persist_directory = \"./vector_db/text2vec\"\n",
    "\n",
    "vectordb = Chroma.from_documents(\n",
    "    documents=split_docs,\n",
    "    embedding=text2vec,\n",
    "    persist_directory=persist_directory  # 允许我们将persist_directory目录保存到磁盘上\n",
    ")\n",
    "vectordb.persist()"
   ]
  },
  {
   "cell_type": "code",
   "execution_count": 39,
   "id": "b5f2119f-8fc0-4667-8994-6fa766ce9f77",
   "metadata": {
    "execution": {
     "iopub.execute_input": "2024-09-23T07:46:36.406640Z",
     "iopub.status.busy": "2024-09-23T07:46:36.406323Z",
     "iopub.status.idle": "2024-09-23T07:46:36.928500Z",
     "shell.execute_reply": "2024-09-23T07:46:36.927806Z",
     "shell.execute_reply.started": "2024-09-23T07:46:36.406621Z"
    },
    "tags": []
   },
   "outputs": [
    {
     "name": "stdout",
     "output_type": "stream",
     "text": [
      "[(Document(metadata={'page': 1, 'source': './《习近平谈治国理政》第二卷.pdf'}, page_content='人，顺应时代发展，从理论和实践结合上系统回答了新时代坚持和\\n发展什么样的中国特色社会主义、怎样坚持和发展中国特色社会主\\n义这个重大时代课题，创立了习近平新时代中国特色社会主义思\\n想，为决胜全面建成小康社会、夺取新时代中国特色社会主义伟大\\n胜利、实现中华民族伟大复兴的中国梦、实现人民对美好生活的向\\n往提供了行动指南，也为推动构建人类命运共同体、促进人类和平\\n与发展事业贡献了中国智慧和中国方案。中共十九大把习近平新时\\n代中国特色社会主义思想确立为中国共产党必须长期坚持的指导思\\n想，实现了中国共产党的指导思想又一次与时俱进。\\n习近平是新时代中国特色社会主义思想的主要创立者。2014年'), 0.4038293717718261)]\n",
      "-----------\n",
      "[(Document(metadata={'page': 53, 'source': './《习近平谈治国理政》第四卷.pdf'}, page_content='当注意的。”近代以后，中国社会矛盾错综复杂，有帝国主义和\\n中华民族的矛盾、封建主义和人民大众的矛盾，有资产阶级和无\\n产阶级的矛盾、反动统治阶级内部的矛盾，而帝国主义和中华民'), 0.541105956350356)]\n",
      "-----------\n",
      "[(Document(metadata={'page': 55, 'source': './《习近平谈治国理政》第一卷.pdf'}, page_content='习近平谈治国理政\\n党的十八大精神，说一千道一万，归结为一点，就是坚持\\n和发展中国特色社会主义。今年是邓小平同志提出建设中国特\\n色社会主义进入 31个年头了。邓小平同志开创了中国特色社\\n会主义，第一次比较系统地初步回答了在中国这样经济文化比\\n较落后的国家如何建设社会主义、如何巩固和发展社会主义的\\n·系列基本问题，用新的思想观点，继承和发展了马克思主义，\\n开拓了马克思主义新境界，把对社会主义的认识提高到新的科\\n学水平。\\n中国特色社会主义是社会主义而不是其他什么主义，科学\\n社会主义基本原则不能丢，丢了就不是社会主义。一个国家实\\n行什么样的主义，关键要看这个主义能否解决这个国家面临的'), 0.3223556360902049)]\n",
      "-----------\n",
      "[(Document(metadata={'page': 36, 'source': './中国近现代史纲要：2023 年版(1).pdf'}, page_content='动派。这时，外国侵略者和国内封建统治者完全公开站在一条战线上。例\\n如，太平天国后期，清政府向外国侵略者“借师助剿”，共同镇压太平天\\n同农民起义，就属于这种情况。\\n中国近代社会的主要矛盾决定了，为了使中国在世界上站起来，为了\\n使中国入民过上幸福、富裕的生活，就必须推翻帝国主义、封建主义联合\\n统治的半殖民地半封建的社会制度，争得民族独立和人民解放；就必须改\\n变中国经济技术落后的面貌，实现们家宫强和人民幸福。这是近代以来中\\n华民族面临的两大历史任务。无数的志士仁人，一代又一代的中国人，正\\n是为此而进行了不屈不挠、英勇顽强的斗争。\\n人心” l”IJi夕时i止对中『司的侵略\\n｀、，矿巾伈略'), 0.2764635343269358)]\n",
      "-----------\n",
      "[(Document(metadata={'page': 70, 'source': './中国近现代史纲要：2023 年版(1).pdf'}, page_content='平担呴同家权力集中力址优先发展不巾丁业，同时也试图＂稍分汀商之\\n利”，发屈若 f民用企业，在客观上对中国的早期丁业和民族资本主义的\\n发展起了某些促进作用。但是，洋务派兴办洋务新政，主要是为了维护封\\n忙统治，并不是婓使中国朝肴独立的资本主义方向发展。\\n洋务运动时期，为 f培养通晓洋务的人才，开办（一批新J.言学常，派\\n出了最早的官派留学生，这是中国近代教育的升始。与此同时，还鄱译了\\n一批近代自然科学书销，给当时的中国带来了新的知识，使人们开阔了\\n哏界\\n洋务运动时期，伴随着资本主义生产方式的出现，传统的”重本抑\\n末”等观念受到 1中击，社会风气和价值观念开始变化，丁商业者的地位上'), 0.3345340944079732)]\n",
      "-----------\n",
      "[(Document(metadata={'page': 103, 'source': './中国近现代史纲要：2023 年版(1).pdf'}, page_content=\"9 l) ,、',i亥 (,i:J A l· ·一；Ii利11 ｀冬(I\\n这篇申要讲话深切缅怀丁孙中山先生为民欴独立、杜会进步、人民幸\\n福而个懈奋斗的光赌一生，同时也深刻阐明全体中华儿女共同致力实现中\\n华民欴伈人复兴中国梦的历吏使命，引发间内外强烈反响。\\n4.习近平：《在纪念辛亥革命110周年大会上的讲话》(2021年10月\\n9日）\\n这篇申要讲话尚度评价丁辛亥革命的历史功绩和重大怼义，回顾总结\\n［中国共产党继承孙中山先生革命事业，团结带领人民不懈奋斗的光辉历\\n程，深刻闸述了平亥革命的历史启示。\\n延伸问诀文讽\\nI.列宁：《中团的民主主义与民粹上义》(1912年7月）\"), 0.5360563424302658)]\n",
      "-----------\n",
      "[(Document(metadata={'page': 114, 'source': './中国近现代史纲要：2023 年版(1).pdf'}, page_content='端，它预示着先进知识分子应当遵循的新方向和应当走的新道路。\\n新义化运动的发展 五四以前的新文化运动主要是资产阶级民主主义\\n的新文化反对封建主义的旧文化的斗争，五四以后的新文化运动则发展到\\n了一个新阶段，马克思主义开始逐步在思想文化领域中发挥指导作用。这\\n主要是指：\\n第一，中国先进分子在接受马克思主义之后，并没有抛弃而是继承了\\n五四运动的民主和科学的精神，并赋予它们新的含义，使它们在更高层次\\n上得到 f发扬。民主不再指狭隘的资产阶级民主，而是指多数人的民主、\\n以劳动群众为主体的民主。科学，除自然科学外，就对社会的研究来说，\\n主要是指马克思主义的科学世界观和补会革命论。'), 0.33264005718274225)]\n",
      "-----------\n",
      "[(Document(metadata={'page': 262, 'source': './中国近现代史纲要：2023 年版(1).pdf'}, page_content='建立了永远不可磨灭的功勋。毛泽东思想是马克思列宁主义在中国的运用\\n和发展，是被实践证明了内关于中国革命和建设的正确的理论原则和经验\\n总结，是中国共产党集休智慧的结晶。《决以》对毛泽东思想的科学体系\\n和活的灵魂（即实事求是、群众路线、独立自主）作了概括，强调毛泽东\\n思想是我们党的宝贵的精神财富，它将长期指导我们的行动。\\n《决议》对党的十一届二中全会以来逐步确立的适合中\\n国情况的建设社会主义现代化强国的道路，从十个方面作了\\n概括。其中，第一个方面就是关千新时期我国什会主义矛盾\\n的判断。《决议》指出：什会主义改造基木完成以后，我国所\\n要解决的主要矛盾，是人［飞日益增长的物质文化霄要同落后蠹'), 0.5032280356845849)]\n",
      "-----------\n",
      "[(Document(metadata={'page': 130, 'source': './中国近现代史纲要：2023 年版(1).pdf'}, page_content='加强自身建设，加强党的民主集中制，既要发展党们组织和注重党员数\\n鼠，更要巩固党的组织和注重党员质量。只有正确认识和韶决这些问题，\\n党才能领导中国革命事业走向成功。\\n大革命虽然失败了，但它的历史意义仍饥是不可磨灭的。\\n正是在这个时期，中国共产党人进行了轰轰烈烈的革命工作，\\n领导了全国反帝反封建的伟大斗争，在中国革命史上写下了\\n光荣的一页，同时开始探索马克思主义中国化的途径，初步\\n提出了新民主主义革命的基本思想，并从大革命的失败中汲\\n取深刻历史教训，开始懂得进行土地革命和掌握革命武装的\\n重要性。骂\\n《中日共产\\n党力将介石\\n众互言》\\n正是由于经历了这场大革命，中国人民的觉悟程度和组织程度有了明'), 0.3588608760468247)]\n",
      "-----------\n",
      "[(Document(metadata={'page': 178, 'source': './中国近现代史纲要：2023 年版(1).pdf'}, page_content='略屡战屡败的民族耻辱。\\n中国人民抗日战争的胜利，促进了中华民族的大团结，形成了伟大的\\n抗战精神。中国人民向世界展示了天下兴广、匹夫有责的爱国情怀，视死\\n如归、宁死不屈的民族气节，不畏强暴、加战到肤的英雄气概，百折不挠、\\n坚忍不拔的必胜信念。伟大抗战梢神是中同人民弥足珍贵的精神财富。\\n中国人民抗日战争的胜利，对世界各曰夺取反法西斯战争的胜利，绯\\n护世界和平产生了巨大影响。中国人民为最终战胜法西斯势力作出了历史\\n性贡献，国际地位显著提高，中国成为联合国安鲤会五个常任理事国之\\n一。中国人民属得 r世界爱好和平人民的尊敬，中华民族矗得 f崇高的民\\n族卢誉。'), 0.5863387128155206)]\n",
      "-----------\n",
      "[(Document(metadata={'page': 266, 'source': './《习近平谈治国理政》第三卷.pdf'}, page_content='266决胜全面建成小康社会、进而全面建设社会主义现代化强国作出贡献。\\n当前和今后一个时期，人民政协尤其要抓好以下工作。\\n第一，发挥人民政协专门协商机构作用。我说过，在中国社会主义制度下，有事好商\\n量、众人的事情由众人商量，找到全社会意愿和要求的最大公约数，是人民民主的真谛。\\n协商民主是党领导人民有效治理国家、保证人民当家作主的重要制度设计，同选举民主相\\n互补充、相得益彰。人民政协在协商中促进广泛团结、推进多党合作、实践人民民主，既\\n秉承历史传统，又反映时代特征，充分体现了我国社会主义民主有事多商量、遇事多商量、\\n做事多商量的特点和优势。'), 0.558828537561793)]\n",
      "-----------\n",
      "[(Document(metadata={'page': 203, 'source': './中国近现代史纲要：2023 年版(1).pdf'}, page_content='结合起来，形成了伟大的毛泽东思想，找到了夺取中国革命胜利的正确道\\n路。这对马克思列宁主义的发展是一个重大贡献。\\n中1月革命旧利的从本经验 中国反帝反封建的革命，经历了资产阶级'), 0.45657636341745245)]\n",
      "-----------\n",
      "[(Document(metadata={'page': 176, 'source': './《习近平谈治国理政》第四卷.pdf'}, page_content='国，实现了从新民主主义革命到社会主义革命的历史性跨越。\\n新中国成立后，我们党团结带领人民创造性完成社会主义改造，\\n确立社会主义基本制度，大规模开展社会主义经济文化建设，'), 0.5646806274775306)]\n",
      "-----------\n",
      "[(Document(metadata={'page': 176, 'source': './《习近平谈治国理政》第四卷.pdf'}, page_content='国，实现了从新民主主义革命到社会主义革命的历史性跨越。\\n新中国成立后，我们党团结带领人民创造性完成社会主义改造，\\n确立社会主义基本制度，大规模开展社会主义经济文化建设，'), 0.5100613463805047)]\n",
      "-----------\n",
      "[(Document(metadata={'page': 138, 'source': './《习近平谈治国理政》第三卷.pdf'}, page_content='作。特别是要发扬理论联系实际的马克思主义学风，紧密联系改革发展稳定等各方面工作，\\n结合人民群众对美好生活的新期待，坚持问题导向，敢于攻坚克难，为实现全面建成小康\\n社会奋斗目标、打赢脱贫攻坚战而奋勇工作。\\n会议强调，维护习近平总书记党中央的核心、全党的核心地位，维护党中央权威和集\\n中统一领导，是推动新时代中国特色社会主义不断发展前进的根本政治保证。面对当今世\\n界百年未有之大变局，面对错综复杂的国内外风险挑战，习近平总书记高瞻远瞩、统揽全\\n局、运筹帷幄、指挥若定，作出一系列重大科学判断，提出一系列重大战略策略，推动一\\n系列重大工作，领导全党全国各族人民在进行具有许多新的历史特点的伟大斗争、推进新'), 0.3682231662407921)]\n",
      "-----------\n",
      "[(Document(metadata={'page': 241, 'source': './《习近平谈治国理政》第二卷.pdf'}, page_content='革，重点是解放和发展社会生产力，用改革的办法推进结构调整，\\n减少无效和低端供给，扩大有效和中高端供给，增强供给结构对需\\n求变化的适应性和灵活性，提高全要素生产率。这不只是一个税收\\n和税率问题，而是要通过一系列政策举措，特别是推动科技创新、\\n发展实体经济、保障和改善人民生活的政策措施，来解决我国经济\\n供给侧存在的问题。我们讲的供给侧结构性改革，既强调供给又关\\n注需求，既突出发展社会生产力又注重完善生产关系，既发挥市场\\n在资源配置中的决定性作用又更好发挥政府作用，既着眼当前又立\\n足长远。从政治经济学的角度看，供给侧结构性改革的根本，是使\\n我国供给能力更好满足广大人民日益增长、不断升级和个性化的物'), 0.5750784235925621)]\n",
      "-----------\n",
      "[(Document(metadata={'page': 328, 'source': './中国近现代史纲要：2023 年版(1).pdf'}, page_content='在参观《复兴之路》展览时首次提出并阐释实现中华民族伟大复兴的中国\\n梦，指出：“现在，大家都在讨论中国梦，我以为，实现中华民族伟大复\\n兴，就是中华民族近代以来最伟大的梦想。这个梦想，凝聚了几代中国人\\n的夙愿，体现了中华民族和中国人民的整体利益，是每一个中华儿女的共\\n同期盼。，｀）中国梦视野宽厂、意蕴深远，贯通了中华民族的历史、现实与\\n未来，同时生动形象、简期疑练，一经提出立即引起全社会广泛热议和认\\n同，也在港溃台同胞和海外侨胞中引起强列反晌\\n中国梦提出以后，习近平持续地、多方面多角度地作了大掀论述，使\\n得中国梦的内涵不断十富。'), 0.5907229965850179)]\n",
      "-----------\n",
      "[(Document(metadata={'page': 123, 'source': './《习近平谈治国理政》第三卷.pdf'}, page_content='回顾党的奋斗历程可以发现，中国共产党之所以能够历经艰难困苦而不断发展壮大，\\n很重要的一个原因就是我们党始终重视思想建党、理论强党，使全党始终保持统一的思想、\\n坚定的意志、协调的行动、强大的战斗力。\\n当前，改革发展稳定任务之重、矛盾风险挑战之多、治国理政考验之大都是前所未有\\n的。我们要赢得优势、赢得主动、赢得未来，必须不断提高运用马克思主义分析和解决实\\n际问题的能力，不断提高运用科学理论指导我们应对重大挑战、抵御重大风险、克服重大\\n阻力、化解重大矛盾、解决重大问题的能力，以更宽广的视野、更长远的眼光来思考把握\\n未来发展面临的一系列重大问题，不断坚定马克思主义信仰和共产主义理想。'), 0.5300401326864268)]\n",
      "-----------\n",
      "[(Document(metadata={'page': 383, 'source': './《习近平谈治国理政》第二卷.pdf'}, page_content='力，共同落实深化国防和军队改革各项任务，推动全面实施改革强\\n军战略不断取得新的进展，为实现中国梦、强军梦作出新的更大的\\n贡献。\\n*这是习近平在中央军委改革工作会议上的讲话要点。'), 0.5112430597190532)]\n",
      "-----------\n",
      "[(Document(metadata={'page': 320, 'source': './中国近现代史纲要：2023 年版(1).pdf'}, page_content='科学发展、加强基层组织的口标。\\n在学习实践活动中，中共中央根据世情、国悄、党情变化，就加强党\\n的建设作出新的决策部署。 2009年9月，党的十七居四中全会通过《关\\n于加强和改进新形势下党的建设苦千重大问题的决定》，提出了提高党的\\n建设科学化水平的重大命题和重大任务。闱绕提高党的建设科学化水平，\\n党中央着力推进党内制度建设，修订和比台党和国家机关基层组织 T作条\\n例、实行党政领导干部间责的暂行规定等文件，有效解决了党的建设中遇\\n到的一些新问题。\\n为了巩固和拓展全党探入学习实践和学发展观沪动成果，党中央千\\n2010年4月决定在党的基层纠织和党员中开辰“创建先进尪层党组织、'), 0.5555422634897015)]\n",
      "-----------\n",
      "[(Document(metadata={'page': 87, 'source': './《习近平谈治国理政》第二卷.pdf'}, page_content='2020年我国现行标准下农村贫困人口实现脱贫，贫困县全部摘帽，\\n解决区域性整体贫困。会议的主要任务是，贯彻落实党的十八届五\\n中全会精神，分析全面建成小康社会进入决胜阶段脱贫攻坚面临的\\n形势和任务，对当前和今后一个时期脱贫攻坚任务作出部署，动员\\n全党全国全社会力量，齐心协力打赢脱贫攻坚战。\\n新中国成立以来，我们党带领人民持续向贫困宣战。经过改革\\n开放37年来的努力，我们成功走出了一条中国特色扶贫开发道路，\\n使7亿多农村贫困人口成功脱贫，为全面建成小康社会打下了坚实\\n基础。我国成为世界上减贫人口最多的国家，也是世界上率先完成\\n联合国千年发展目标的国家。这个成就，足以载入人类社会发展史'), 0.6153968575213566)]\n",
      "-----------\n",
      "[(Document(metadata={'page': 167, 'source': './《习近平谈治国理政》第四卷.pdf'}, page_content='纪80年代末解决人民温饱问题，到上世纪末使人民生活达到小\\n康水平，到21世纪中叶基本实现现代化，达到中等发达国家\\n水平。进入新世纪，在人民生活总体上达到小康水平之后，我\\n们党又提出，到建党一百年时全面建成惠及十几亿人口的更高\\n水平的小康社会，然后再奋斗30年，到新中国成立一百年时，\\n基本实现现代化，把我国建成社会主义现代化国家。党的十八\\n大以来，中国特色社会主义进入新时代，中华民族迎来了从站\\n起来、富起来到强起来的伟大飞跃。党的十九大站在新的更高\\n的历史起点上，对实现第二个百年奋斗目标作出分两个阶段推\\n进的战略安排，提出到2035年基本实现社会主义现代化，到本'), 0.6605022883571698)]\n",
      "-----------\n",
      "[(Document(metadata={'page': 64, 'source': './《习近平谈治国理政》第三卷.pdf'}, page_content='中央纪律检查委员会书记赵乐际主持会议。\\n习近平强调，党的建设新的伟大工程，是引领伟大斗争、伟大事业、最终实现伟大梦\\n想的根本保证。全面从严治党，必须坚持和加强党的全面领导。坚持党的领导，最根本的\\n是坚持党中央权威和集中统一领导。我们要乘势而上，牢牢把握加强党的长期执政能力建\\n设、先进性和纯洁性建设这条主线，发挥标本兼治综合效应，确保党成为始终走在时代前\\n列、人民衷心拥护、勇于自我革命、经得起各种风浪考验、朝气蓬勃的马克思主义执政党。\\n习近平指出，党的十八大后，我们紧紧盯住全面从严治党不力这个症结，坚持发扬我\\n们党历史上行之有效的好经验好做法，深化对管党治党规律的认识、创造新的经验，全面'), 0.7153078374511896)]\n",
      "-----------\n",
      "[(Document(metadata={'page': 139, 'source': './《习近平谈治国理政》第三卷.pdf'}, page_content='不忘初心、牢记使命上为全党当表率、作示范。\\n12月26日至27日，中共中央政治局召开“不忘初心、牢记使命”专题民主生活会，中共\\n中央总书记习近平主持会议并发表重要讲话。新华社记者李学仁摄\\n12月26日至27日，中共中央政治局召开“不忘初心、牢记使命”专题民主生活会，\\n中共中央总书记习近平主持会议并发表重要讲话。新华社记者李学仁摄\\n习近平在讲话中对中央政治局各位同志的对照检查发言进行了总结，并就中央政治局\\n贯彻执行中央八项规定精神、解决困扰基层的形式主义问题切实为基层减负提出了要求，\\n表示这次专题民主生活会开得很好、很有成效，大家事先作了充分准备，谈认识和体会很'), 0.27196941587021917)]\n",
      "-----------\n",
      "[(Document(metadata={'page': 343, 'source': './中国近现代史纲要：2023 年版(1).pdf'}, page_content='进依法治国的总目标是建设中国特色社会主义法治体系，建设补会主义法\\n治国家。围绕这一总目标，全会提出了 180多项重要改革举措，涵盖了依\\n法治国各个方面。 2015年4月，中央全面深化改革领导小组第十一次会\\n议审议通过《党的十八届四中全会重要举措实施规划 (2015—2020年）／\\n为此后一个时期推进全面依法治国提供了尥施丁＿图和总台账。\\n党中央高度重视宪法在治国理政中的重要地位和作用，明确坚持依法\\n治国首先要坚持依宪治国。 2014釭11月，十二屈全国人大常委会以立法\\n形式将 12月4日设立为国家宪法目。 2015年7月，义明确规定同家丁作\\n人员就职时应肾公开进行宪法宣譬'), 0.6646607282389214)]\n",
      "-----------\n",
      "[(Document(metadata={'page': 52, 'source': './《习近平谈治国理政》第一卷.pdf'}, page_content='紧紧嗣绕坚持和发展中国特色 tl会主义学习宣传贯彻党的十八大精神\\n中国共产党的指导思想。科学发展观，第一要义是发展，核心是以人为本.\\n基本要求是全面协调可持续，根本方法是统筹兼顾。主要创立者是胡锦涛。\\n( 12 )马克思列宁主义，是马克思王义和列宁主义的合称。参见本文注\\n( 8 )。\\n( 13)毛泽东思想，是中国共产党长期坚持的根本指导思想。毛泽东思\\n想是以毛泽东为主要代表的中国共产党人，根据马克思主义基本原理.对中\\n国革命和建设实践中一系列独创性经验所作的理论概括和总结‘是被实践证\\n明了的关于中国革命和 l建设的正确理论原则和科学思想体系.是中国共严党\\n集体智慧的结晶。主要创立者是毛泽东。'), 0.6122020421105339)]\n",
      "-----------\n"
     ]
    }
   ],
   "source": [
    "problems = [\"近代中国的社会性质是什么？\",\n",
    "           \"近代中国的主要矛盾是什么？\",\n",
    "           \"如何认识近代中国社会的落伍\",\n",
    "           \"太平天国运动的历史意义与局限\",\n",
    "           \"洋务运动的历史意义与局限\",\n",
    "           \"辛亥革命的纲领，意义是什么？\",\n",
    "           \"新文化运动的内容是\",\n",
    "           \"毛泽东思想形成的标志是什么？\",\n",
    "           \"中国共产党史上生死攸关的转折点是什么？\",\n",
    "           \"中国抗日战争在世界反法西斯战争中的地位和作用？\",\n",
    "           \"中国共产党领导的多党合作，政治协商的格局是怎样形成的？\",\n",
    "            \"中国革命胜利的原因和基本经验有哪些？\",\n",
    "            \"新民主主义社会的性质\",\n",
    "            \"中国实行社会主义改造的国内外条件？\",\n",
    "            \"新冠肺炎疫情发生后，党中央将疫情防控作为头等大事来抓，习近平总书记亲自指挥、亲自部署，坚持把什么放在第一位？\",\n",
    "            \"深化供给侧结构性改革，必须持续推进(   )，优化市场供求结构\",\n",
    "            \"近代以来中华民族最伟大的梦想是什么？\",\n",
    "            \"习近平总书记强调，我们党全面领导、长期执政，面临的最大挑战是什么？\",\n",
    "            \"习近平强军思想是什么\",\n",
    "            \"党的十九届四中全会指出，党和人民在长期实践探索中形成的科学制度体系是指\",\n",
    "            \"2020年脱贫攻坚任务完成后，我国将有1亿左右贫困人口实现脱贫，这也意味着我国将提前（）实现联合国2030年可持续发展议程的减贫目标\",\n",
    "            \"党的十九大提出：从2035年到本世纪中叶，在基本实现现代化的基础上，再奋斗15年，把我国建成（）的社会主义现代化强国\",\n",
    "            \"新时代党的建设总要求是坚持和加强党的全面领导，坚持党要管党、全面从严治党，以(   )为主线\",\n",
    "            \"习近平总书记在参加内蒙古代表团的审议时发表重要讲话指出，我们党没有自己特殊的利益，党在任何时候都把（）放在第一位\",\n",
    "            \"2014年十八届四中全会通过了(   )，明确提出全面推进依法治国，加快建设法治中国，开启了中国特色社会主义法治道路的新征程\",\n",
    "            \"中国共产党 ( ) 将毛泽东思想规定为中国共产党的一切工作的指针\"\n",
    "          ]\n",
    "for problem in problems:\n",
    "    res = vectordb.similarity_search_with_relevance_scores(query=problem, k=1)\n",
    "    print(res)\n",
    "    print(\"-----------\")"
   ]
  },
  {
   "cell_type": "code",
   "execution_count": 43,
   "id": "cc018f97-b58f-473b-899d-dde097a0de7b",
   "metadata": {
    "ExecutionIndicator": {
     "show": true
    },
    "execution": {
     "iopub.execute_input": "2024-09-23T07:53:50.401718Z",
     "iopub.status.busy": "2024-09-23T07:53:50.401350Z",
     "iopub.status.idle": "2024-09-23T07:54:06.548531Z",
     "shell.execute_reply": "2024-09-23T07:54:06.547962Z",
     "shell.execute_reply.started": "2024-09-23T07:53:50.401698Z"
    },
    "tags": []
   },
   "outputs": [
    {
     "name": "stderr",
     "output_type": "stream",
     "text": [
      "2024-09-23 15:53:51,842 - modelscope - WARNING - Model revision not specified, use revision: v0.0.3\n",
      "Downloading [1_Pooling/config.json]: 100%|██████████| 190/190 [00:01<00:00, 185B/s]\n",
      "Downloading [config.json]: 100%|██████████| 741/741 [00:00<00:00, 1.24kB/s]\n",
      "Downloading [config_sentence_transformers.json]: 100%|██████████| 117/117 [00:00<00:00, 193B/s]\n",
      "Downloading [configuration.json]: 100%|██████████| 51.0/51.0 [00:00<00:00, 87.8B/s]\n",
      "Downloading [modules.json]: 100%|██████████| 349/349 [00:01<00:00, 194B/s]\n",
      "Downloading [pytorch_model.bin]: 100%|██████████| 1.04G/1.04G [00:03<00:00, 345MB/s] \n",
      "Downloading [README.md]: 100%|██████████| 689/689 [00:00<00:00, 871B/s]\n",
      "Downloading [sentence_bert_config.json]: 100%|██████████| 54.0/54.0 [00:00<00:00, 117B/s]\n",
      "Downloading [sentencepiece.bpe.model]: 100%|██████████| 4.83M/4.83M [00:01<00:00, 4.88MB/s]\n",
      "Downloading [special_tokens_map.json]: 100%|██████████| 280/280 [00:00<00:00, 341B/s]\n",
      "Downloading [tokenizer.json]: 100%|██████████| 16.3M/16.3M [00:01<00:00, 16.3MB/s]\n",
      "Downloading [tokenizer_config.json]: 100%|██████████| 1.17k/1.17k [00:00<00:00, 2.42kB/s]\n"
     ]
    },
    {
     "data": {
      "text/plain": [
       "'./maidalun/bce-embedding-base_v1'"
      ]
     },
     "execution_count": 43,
     "metadata": {},
     "output_type": "execute_result"
    }
   ],
   "source": [
    "snapshot_download('maidalun/bce-embedding-base_v1', cache_dir='./')"
   ]
  },
  {
   "cell_type": "code",
   "execution_count": 44,
   "id": "410867a9-51a6-4660-87e4-e49340cceae0",
   "metadata": {
    "ExecutionIndicator": {
     "show": true
    },
    "execution": {
     "iopub.execute_input": "2024-09-23T07:54:22.836646Z",
     "iopub.status.busy": "2024-09-23T07:54:22.836302Z",
     "iopub.status.idle": "2024-09-23T07:58:45.011343Z",
     "shell.execute_reply": "2024-09-23T07:58:45.010749Z",
     "shell.execute_reply.started": "2024-09-23T07:54:22.836626Z"
    },
    "tags": []
   },
   "outputs": [
    {
     "name": "stdout",
     "output_type": "stream",
     "text": [
      "429\n",
      "536\n",
      "542\n",
      "427\n",
      "538\n"
     ]
    }
   ],
   "source": [
    "bce_embedding_model_path = \"./maidalun/bce-embedding-base_v1\"\n",
    "\n",
    "bce = get_embedding(bce_embedding_model_path)\n",
    "\n",
    "loaders_chinese = [\n",
    "    # PyMuPDFLoader(\"./data/24徐涛《核心考案》高清无水印PDF【公众号：薄荷考研】.pdf\")\n",
    "        PyPDFLoader(\"./中国近现代史纲要：2023 年版(1).pdf\"),\n",
    "        PyPDFLoader(\"./《习近平谈治国理政》第一卷.pdf\"),\n",
    "        PyPDFLoader(\"./《习近平谈治国理政》第二卷.pdf\"),\n",
    "        PyPDFLoader(\"./《习近平谈治国理政》第三卷.pdf\"),\n",
    "        PyPDFLoader(\"./《习近平谈治国理政》第四卷.pdf\")\n",
    "    # 如果需要还可以加入其他文件\n",
    "]\n",
    "docs = []\n",
    "for loader in loaders_chinese:\n",
    "    pages = loader.load()\n",
    "    print(len(pages))\n",
    "    docs.extend(pages)\n",
    "CHUNK_SIZE = 300\n",
    "# 知识库中相邻文本重合长度\n",
    "OVERLAP_SIZE = 50\n",
    "\n",
    "text_splitter = RecursiveCharacterTextSplitter(\n",
    "    chunk_size=CHUNK_SIZE,\n",
    "    chunk_overlap=OVERLAP_SIZE\n",
    ")\n",
    "split_docs = text_splitter.split_documents(docs)\n",
    "persist_directory = \"./vector_db/youdao_bce\"\n",
    "\n",
    "vectordb = Chroma.from_documents(\n",
    "    documents=split_docs,\n",
    "    embedding=bce,\n",
    "    persist_directory=persist_directory  # 允许我们将persist_directory目录保存到磁盘上\n",
    ")\n",
    "vectordb.persist()"
   ]
  },
  {
   "cell_type": "code",
   "execution_count": 45,
   "id": "272c9ded-3b81-4707-8ce7-488c1fef9905",
   "metadata": {
    "execution": {
     "iopub.execute_input": "2024-09-23T07:59:25.928203Z",
     "iopub.status.busy": "2024-09-23T07:59:25.927806Z",
     "iopub.status.idle": "2024-09-23T07:59:26.280094Z",
     "shell.execute_reply": "2024-09-23T07:59:26.279499Z",
     "shell.execute_reply.started": "2024-09-23T07:59:25.928175Z"
    },
    "tags": []
   },
   "outputs": [
    {
     "name": "stdout",
     "output_type": "stream",
     "text": [
      "[(Document(metadata={'page': 33, 'source': './中国近现代史纲要：2023 年版(1).pdf'}, page_content='从近代中国的历史进程，可以看到中国半殖民地半封建社会有以下一\\n些基本特征：\\n第一，资本－帝国主义侵略势力不但逐步操纵了中国的财政和经济命\\n脉，而且逐步控制了中国的政治，日益成为支配中国的决定性力狱。\\n第二，中国的封建势力日益衰败并同外国侵略势力勾结，成为资本－\\n帝国主义压迫、奴役中国人民的社会基础和统治支柱。\\n第三，中国自然经济的基础虽然遭到破坏，但是封建剥削制度的根基\\n即封建地主的土地所有制依然在广大地区内保持着，成为中国发展进步的\\n严重障碍。\\n第四，中国新兴的民族资本主义经济虽然已经产生，并在政治、文化\\n生活中起了一定的作用，但是在帝国主义和封建主义的压迫下，它的发展'), 0.5449518984238236)]\n",
      "-----------\n",
      "[(Document(metadata={'page': 36, 'source': './中国近现代史纲要：2023 年版(1).pdf'}, page_content='动派。这时，外国侵略者和国内封建统治者完全公开站在一条战线上。例\\n如，太平天国后期，清政府向外国侵略者“借师助剿”，共同镇压太平天\\n同农民起义，就属于这种情况。\\n中国近代社会的主要矛盾决定了，为了使中国在世界上站起来，为了\\n使中国入民过上幸福、富裕的生活，就必须推翻帝国主义、封建主义联合\\n统治的半殖民地半封建的社会制度，争得民族独立和人民解放；就必须改\\n变中国经济技术落后的面貌，实现们家宫强和人民幸福。这是近代以来中\\n华民族面临的两大历史任务。无数的志士仁人，一代又一代的中国人，正\\n是为此而进行了不屈不挠、英勇顽强的斗争。\\n人心” l”IJi夕时i止对中『司的侵略\\n｀、，矿巾伈略'), 0.571559203888751)]\n",
      "-----------\n",
      "[(Document(metadata={'page': 33, 'source': './中国近现代史纲要：2023 年版(1).pdf'}, page_content='从近代中国的历史进程，可以看到中国半殖民地半封建社会有以下一\\n些基本特征：\\n第一，资本－帝国主义侵略势力不但逐步操纵了中国的财政和经济命\\n脉，而且逐步控制了中国的政治，日益成为支配中国的决定性力狱。\\n第二，中国的封建势力日益衰败并同外国侵略势力勾结，成为资本－\\n帝国主义压迫、奴役中国人民的社会基础和统治支柱。\\n第三，中国自然经济的基础虽然遭到破坏，但是封建剥削制度的根基\\n即封建地主的土地所有制依然在广大地区内保持着，成为中国发展进步的\\n严重障碍。\\n第四，中国新兴的民族资本主义经济虽然已经产生，并在政治、文化\\n生活中起了一定的作用，但是在帝国主义和封建主义的压迫下，它的发展'), 0.5665956116864715)]\n",
      "-----------\n",
      "[(Document(metadata={'page': 67, 'source': './中国近现代史纲要：2023 年版(1).pdf'}, page_content='太平大国的向心力和战斗力。\\n太平天国军事战略上出现了重大失误。比如，没有解决好与捻军这一\\n抗清斗争主力的关系，没有同他们结成同盟，以致丢失了在北方赖以发展\\n的良机，使北伐军艰难支撑直至失败；在天京被围困的情况下死守孤城，\\n拒绝”让城别走＂，导致太平天国的最后失败。\\n太平天国是以宗教来发动、组织群众的，但是，拜上帝教教义不仅不\\n能正确指导斗争，而且给农民战争带来了危害。在太平天国后期，洪秀全\\n甚至幻想不动刀兵而定“太平一统”，梦想以虚幻的力量代替农民起义者\\n自身的努力。\\n太平天国也未能正确地对待儒学。他们开始时把儒家经书笼统地斥之'), 0.6981674938785065)]\n",
      "-----------\n",
      "[(Document(metadata={'page': 71, 'source': './中国近现代史纲要：2023 年版(1).pdf'}, page_content=\"58 ', 4、11 丿．丿｝寸1.l '、i1 'fI l（丿 II iVI·1 夕欠\\n汀务I/）且 l勹人飞及丿 [)1;1_14 洋务运动历时 30多年，虽然办起了一批\\n企业，建立了悔军，却没有使中国富强起来。印午战争一役，洋务派经营\\n多年的北洋海军全军覆没，标志着以“自强”“求富”为目标的洋务运动\\n的失败。洋务运动失败的原因主要是：\\n首先，洋务运动具有封建性。洋务运动的指导思想是“中学为休，西\\n学为用＂，企图以吸取西方近代生产技术为手段，来达到维护和巩固中国\\n封建统冶的目的，这就决定了它必然失败的命运。因为新的生产力是同封\\n建主义的生产关系及其上层建筑不相容的，是不可能在封建主义的秷枯\"), 0.6358492479639956)]\n",
      "-----------\n",
      "[(Document(metadata={'page': 81, 'source': './中国近现代史纲要：2023 年版(1).pdf'}, page_content='由千历史进程和社会条件的制约，由于没有找到解决中国前途命运问题的\\n正确道路和领导力三，辛亥革命没有改变旧中国半殖民地半封建的社会性\\n质，没有改变中国人民的悲惨境遇，没有完成实现民族独立，人民解放的\\n历史任务。\\n第节举起近代民族民主革命的旗帜\\n令＾、：、作亥， i.l.i，命爆发的历史条件\\n民胶亿，十几加深，补会矛肵激化 戊戌维新运动失败后，以孙中山为代\\n表的革命派在中国掀起了一场资产阶级革命运动。这场革命的发生，是当\\n时民族危机加深、社会矛盾激化的结果，具有历史的必然性。它是当时中\\n国人民争取民族独立、振兴中华深切愿望的集中反映，是当时中国人民为\\n救亡图存而前赴后继顽强斗争的集中体现。'), 0.564974517452197)]\n",
      "-----------\n",
      "[(Document(metadata={'page': 105, 'source': './中国近现代史纲要：2023 年版(1).pdf'}, page_content='文化运动的土荌阵地\\n新义化运动的壮本门号是拥护＂笆先牛”(Democracy) 和＂赛先生”\\n(Science) ，即提倡民主和科学。民主，既是指资产阶级民主主义制度，\\n也是拒资产阶级民主主义思知。科学，则有广狭二义：＂狭义的是指臼然科\\n学”,“广义是拒社会科学”(i)\\n新文化运动的倡导者以进化论观点和个性解放思想为主要武器，猛烈\\n才平山以孔了为代表的＂往圣先贤＂，大力提倡新道德、反对旧道德，提倡\\n新文学、反对旧文学，包括提倡白话文、反对文言文。通过批判孔学，动\\n摇了封建正统思想的统冶地位，在中国社会掀起－股思想解放的潮流。\\n新文化运动的倡导者提倡民主、反对专制，提倡科学、反对迷信盲'), 0.661953741526188)]\n",
      "-----------\n",
      "[(Document(metadata={'page': 173, 'source': './中国近现代史纲要：2023 年版(1).pdf'}, page_content='本原理同中囚具体实际相结合所创造的理论成果，正式命名为毛泽东思\\n想，并规定为党的一切［作的指针。把毛泽东思想确立为党的指导思想并\\n写入党章是中共七大的历史性贡献。\\n中共七大在党的历史上具有重要里程碑慈义，标志着党在政治上思想\\n士组织上走向成熟。它为建立新民主主义的新中同制定了正确路线方针政\\n策，确立了毛泽东在党中央和全克的领导核心地位、毛泽东思想在全党趴\\n指导地位，形成 f一支高举毛汗东旗耘门久经考验的政治家集团。七大以\\n“团结的大会，胜利的大会＂载入党的史册，并为党后来不断从胜利走向\\n胜利诣明「正确方向、开辟了正确道路。\\n同年6月19日召开的中共－ L届一中全会，选举产牛了中央政治局，'), 0.5407870732945226)]\n",
      "-----------\n",
      "[(Document(metadata={'page': 493, 'source': './《习近平谈治国理政》第四卷.pdf'}, page_content='30多万牺牲的革命者中大部分是跟随我们党闹革命的人民群众；\\n红军时期，人民群众就是党和人民军队的铜墙铁壁；抗曰战争时\\n期，我们党广泛发动群众，使曰本侵略者陷入了人民战争的汪洋\\n大海；淮海战役胜利是靠老百姓用小车推出来的，渡江战役胜利\\n是靠老百姓用小船划出来的；社会主义革命和建设的成就是人民\\n群众干出来的；改革开放的历史伟剧是亿万人民群众主演的。历\\n史充分证明，江山就是人民，人民就是江山，人心向背关系党的\\n生死存亡。赢得人民信任，得到人民支持，党就能够克服任何困\\n难，就能够无往而不胜。反之，我们将一事无成，甚至走向衰败。\\n我们党的章程开宗明义明确，中国共产党是中国工人阶级的'), 0.5217479931229994)]\n",
      "-----------\n",
      "[(Document(metadata={'page': 411, 'source': './《习近平谈治国理政》第二卷.pdf'}, page_content='铭记历史、缅怀先烈、珍爱和平、开创未来*\\n（2015年9月3日）\\n中国人民抗日战争和世界反法西斯战争，是正义和邪恶、光明\\n和黑暗、进步和反动的大决战。在那场惨烈的战争中，中国人民抗\\n日战争开始时间最早、持续时间最长。面对侵略者，中华儿女不屈\\n不挠、浴血奋战，彻底打败了日本军国主义侵略者，捍卫了中华民\\n族5000多年发展的文明成果，捍卫了人类和平事业，铸就了战争\\n史上的奇观、中华民族的壮举。\\n中国人民抗日战争胜利，是近代以来中国抗击外敌入侵的第一\\n次完全胜利。这一伟大胜利，彻底粉碎了日本军国主义殖民奴役中\\n国的图谋，洗刷了近代以来中国抗击外来侵略屡战屡败的民族耻'), 0.5652186319987722)]\n",
      "-----------\n",
      "[(Document(metadata={'page': 334, 'source': './中国近现代史纲要：2023 年版(1).pdf'}, page_content='五年间，党中央召开或委托有关部门召开的朸商会、座吹会、情况通报会\\n共计 113次，其中习近平主持召开或出席的就有 21次在党中央的大力\\n支持和推动下，补会主义协商民主呈现更加生动活泼的局仙。\\n中国共产党领导的多党合作和政治协商制度实现新发展。2015年5\\n月，中共中央颁布《中国共产党统一战线工作条们（试行）》，首次将“参\\n加中同共产党领导的政治协商”作为民主党派基本限能之一，将民主党派\\n基本职能拓展为“参政议政、民主监督，参加中同共产党领导的政治协\\n商”。人民政协坚持把协商民主贯穿履行职能全过程，坚持发扬民主和增\\n进团结相互贯通、建言资政和凝聚共识双向发力，不断完善女门协商机构\\n制度。'), 0.6057896098438438)]\n",
      "-----------\n",
      "[(Document(metadata={'page': 203, 'source': './中国近现代史纲要：2023 年版(1).pdf'}, page_content='设，扫清了主要障碍，创造了政冶前提；为实现同家富强和人民幸福，实\\n现中华民族伟大复兴，开辟了广阔道路\\n中国革命的胜利，是继俄国十月社会主义革命和世界反法西斯战争胜\\n利后世界历史中最重大的事件。它在一个人口占全人类近1/4的大国里，\\n冲破帝国主义的东方战线，极大改变了世界的政治格局，壮大了世界相\\n平、民主和补会主义的力扯，鼓舞了世界被压迫民族和被压迫人民争取解\\n放的斗争，受到世界人民的欢迎和支持。\\n中闰人民革命的胜利，是在马克思列宁主义的指导下取得的。中国共\\n产党创造性地运用马克思列宁主义的基本脉理，把它同中国革命具体实际\\n结合起来，形成了伟大的毛泽东思想，找到了夺取中国革命胜利的正确道'), 0.6365265478195656)]\n",
      "-----------\n",
      "[(Document(metadata={'page': 262, 'source': './《习近平谈治国理政》第四卷.pdf'}, page_content='通过选举、投票行使权利和人民内部各方面在重大决策之前进行\\n充分协商，尽可能就共同性问题取得一致意见，是中国社会主义\\n民主的两种重要形式，共同构成了中国社会主义民主政治的制度\\n特点和优势。五是发展社会主义民主政治关键是要把我国社会主\\n义民主政治的特点和优势充分发挥出来，不断推进社会主义民主\\n政治制度化、规范化、程序化，为党和国家兴旺发达、长治久安\\n提供更加完善的制度保障。邓小平同志说：“资本主义社会讲的\\n民主是资产阶级的民主，实际上是垄断资本的民主，无非是多党\\n竟选、三权鼎立、两院制。我们的制度是人民代表大会制度，共\\n产党领导下的人民民主制度，不能搞西方那一套。社会主义国家'), 0.6350167634122084)]\n",
      "-----------\n",
      "[(Document(metadata={'page': 540, 'source': './《习近平谈治国理政》第二卷.pdf'}, page_content='中国特色社会主义制度36,39,43,51,84,128,258,288,289,377\\n中华民族伟大复兴3,14,25,26,30,35,36,49,51,53,54,57,59,99,264,300,\\n302,304,306,308,323,331,335,349,354,370,376,381,401,407,415,426,\\n427,429,431,432,433,441,442,445,447,448,525\\n中华人民共和国13,36,37,294,295,296\\n中华文明340,426,464,482,507,530,545'), 0.49948021147445065)]\n",
      "-----------\n",
      "[(Document(metadata={'page': 378, 'source': './中国近现代史纲要：2023 年版(1).pdf'}, page_content='发生的最严重的传染病大流行。\\n新冠肺炎疫清发生后，党中央将疫情防控作为头等大事来抓。习近平\\n亲自指挥、亲自部署，坚持把人民生命安全和身体健康放在第一位，提出\\n坚定信心、同舟共济、科学防治、精准施策的总要求。从 2020年大年初一\\n起，习近平先后主持召开 14次中央政治局常委会会议、 4次中央政治局会\\n议以及多次党的重要会议，敏锐洞察、果敢决策，科学指引、沉着应对，\\n周密部署武汉保卫战、湖北保卫战，因时因势制定重大战略策略，带领全\\n党全军全国各族人民迅速打响疫情防控的人民战争、总体战、阻击战。\\n在党中央坚强领导下，中国人民风雨同舟、众志成城，发扬一方有'), 0.6955264880571168)]\n",
      "-----------\n",
      "[(Document(metadata={'page': 240, 'source': './《习近平谈治国理政》第二卷.pdf'}, page_content='中央经济工作会议上就是这样说的。“结构性”3个字十分重要，简称\\n“供给侧改革”也可以，但不能忘了“结构性”3个字。供给侧结构性改'), 0.48713708541955025)]\n",
      "-----------\n",
      "[(Document(metadata={'page': 8, 'source': './《习近平谈治国理政》第一卷.pdf'}, page_content='中华民族近代以来最伟大的梦想……………………… 3.5 \\n( 2012年II月29日)\\n在第十二届全国人民代表大会第一次会议上的讲话 …….. 38 \\n( 2013年3月17日)\\n1 \\nN艝PN巈Y[fS蕐褁\\x14O\\x7fu('), 0.5535190461737846)]\n",
      "-----------\n",
      "[(Document(metadata={'page': 403, 'source': './《习近平谈治国理政》第三卷.pdf'}, page_content='是坚持党中央权威和集中统一领导。我们要乘势而上，牢牢把握加强党的长期执政能力建\\n设、先进性和纯洁性建设这条主线，发挥标本兼治综合效应，确保党成为始终走在时代前\\n列、人民衷心拥护、勇于自我革命、经得起各种风浪考验、朝气蓬勃的马克思主义执政党。\\n习近平指出，党的十八大后，我们紧紧盯住全面从严治党不力这个症结，坚持发扬我\\n们党历史上行之有效的好经验好做法，深化对管党治党规律的认识、创造新的经验，全面\\n从严治党成效卓著。成绩来之不易，经验弥足珍贵，需要我们长期坚持、不断深化。一要\\n坚持思想建党和制度治党相统一，既要解决思想问题，也要解决制度问题，把坚定理想信'), 0.593700544991767)]\n",
      "-----------\n",
      "[(Document(metadata={'page': 348, 'source': './中国近现代史纲要：2023 年版(1).pdf'}, page_content=\"I'1特色补会 t:义史为 1335 \\n确汇 (hlI、l代咄WI-I妳2012年12月，在会见驻 r州部队帅以上领导\\n千部时，习近平首次提出“强军梦＂，指出找们哎实现中华民族伟大复兴，\\n一定要坚持富川和强 'f相统一，建设巩固国防和强人军队。\\n2012年底，习近平在中央军委扩大会议 I提出，为建设一支听党指\\n挥、能打胜仗、作风优良的人民军队而奋斗。 2013年3月，在参加十二\\n届全国人大一次会议解放军代表团全体会议时，习近平明确指出，建设一\\n支听党指挥、能打胜仗、作风仇良的人民军队，是党在新形势下的强军目\\n标。2016年2月，习近平在中央军委扩大会议卜进一步提出了实现强军\"), 0.5709099738342892)]\n",
      "-----------\n",
      "[(Document(metadata={'page': 105, 'source': './《习近平谈治国理政》第三卷.pdf'}, page_content='第一，毫不动摇坚持和巩固中国特色社会主义制度。中国特色社会主义制度是一个严\\n密完整的科学制度体系，起四梁八柱作用的是根本制度、基本制度、重要制度，其中具有'), 0.6154537136199978)]\n",
      "-----------\n",
      "[(Document(metadata={'page': 396, 'source': './中国近现代史纲要：2023 年版(1).pdf'}, page_content='贫困一直是困扰全球发展和治理的突出难题。改革开放以来，按照现行\\n贫困标准计算，中国 7.7亿农村贫困人口摆脱贫困；按昭世界银行国际贫\\n困标准，中国减贫人口占同期全球减贫人口 70％以上 特别是在全球贫\\n困状况依然严峻、一些国家贫富分化加剧的背景下，我国提前 10年实现\\n《联合国 2030年可持续发展议程》的减贫目标，赢得团际社会广泛赞誉。\\n纵览古今、环顾全球，没有郘一个国家能在这么短的叮间内实现几亿人脱\\n贫。作为世界上最大的发展中国家，中国如期全面完成脱贫攻坚目标任\\n务，大大加快了全球减贫进程，谱写了人类反贫困历史新篇章，为推动构'), 0.543260924714718)]\n",
      "-----------\n",
      "[(Document(metadata={'page': 177, 'source': './《习近平谈治国理政》第四卷.pdf'}, page_content='新中国成立不久，我们党就提出建设社会主义现代化国家的\\n目标，经过13个五年规划（计划），我们已经为实现这个目标\\n奠定了坚实基础，未来30年将是我们完成这个历史宏愿的新'), 0.6683870997031636)]\n",
      "-----------\n",
      "[(Document(metadata={'page': 29, 'source': './《习近平谈治国理政》第三卷.pdf'}, page_content='坚持党要管党、全面从严治党，是进行具有许多新的历史特点的伟大斗争、推进中国特色\\n社会主义伟大事业、实现民族复兴伟大梦想的根本保证，也是我们党紧跟时代前进步伐、\\n始终保持先进性和纯洁性的必然要求。我们党团结带领人民进行革命、建设、改革的实践'), 0.5402534941923747)]\n",
      "-----------\n",
      "[(Document(metadata={'page': 61, 'source': './《习近平谈治国理政》第四卷.pdf'}, page_content='特别是党的十八大以来新的实践，我们党又给出了第二个答案，\\n这就是自我革命。\\n我在庆祝中国共产党成立一百周年大会上讲到，中国共产党\\n从来不代表任何利益集团、任何权势团体、任何特权阶层的利益。\\n这次六中全会决议再次重申了这句话。在去年的中央政治局民主\\n生活会上，我再次讲了这个问题，强调党的高级干部有相当的领\\n导权、决策权、指挥权，如果立场不稳、“三观”不正、自律不\\n严，很容易在政治上、政策上走偏，不知不觉甚至心甘情愿地成\\n为各种利益集团、权势团体、特权阶层的代言人，那后果是十分\\n严重的！在为谁执政、为谁用权、为谁谋利这个根本问题上，我\\n们的头脑要特别清醒、立场要特别坚定。全党同志都要明大德、'), 0.4345863295005905)]\n",
      "-----------\n",
      "[(Document(metadata={'page': 343, 'source': './中国近现代史纲要：2023 年版(1).pdf'}, page_content='进依法治国的总目标是建设中国特色社会主义法治体系，建设补会主义法\\n治国家。围绕这一总目标，全会提出了 180多项重要改革举措，涵盖了依\\n法治国各个方面。 2015年4月，中央全面深化改革领导小组第十一次会\\n议审议通过《党的十八届四中全会重要举措实施规划 (2015—2020年）／\\n为此后一个时期推进全面依法治国提供了尥施丁＿图和总台账。\\n党中央高度重视宪法在治国理政中的重要地位和作用，明确坚持依法\\n治国首先要坚持依宪治国。 2014釭11月，十二屈全国人大常委会以立法\\n形式将 12月4日设立为国家宪法目。 2015年7月，义明确规定同家丁作\\n人员就职时应肾公开进行宪法宣譬'), 0.4853851673674979)]\n",
      "-----------\n",
      "[(Document(metadata={'page': 173, 'source': './中国近现代史纲要：2023 年版(1).pdf'}, page_content='本原理同中囚具体实际相结合所创造的理论成果，正式命名为毛泽东思\\n想，并规定为党的一切［作的指针。把毛泽东思想确立为党的指导思想并\\n写入党章是中共七大的历史性贡献。\\n中共七大在党的历史上具有重要里程碑慈义，标志着党在政治上思想\\n士组织上走向成熟。它为建立新民主主义的新中同制定了正确路线方针政\\n策，确立了毛泽东在党中央和全克的领导核心地位、毛泽东思想在全党趴\\n指导地位，形成 f一支高举毛汗东旗耘门久经考验的政治家集团。七大以\\n“团结的大会，胜利的大会＂载入党的史册，并为党后来不断从胜利走向\\n胜利诣明「正确方向、开辟了正确道路。\\n同年6月19日召开的中共－ L届一中全会，选举产牛了中央政治局，'), 0.5391148970798529)]\n",
      "-----------\n"
     ]
    }
   ],
   "source": [
    "problems = [\"近代中国的社会性质是什么？\",\n",
    "           \"近代中国的主要矛盾是什么？\",\n",
    "           \"如何认识近代中国社会的落伍\",\n",
    "           \"太平天国运动的历史意义与局限\",\n",
    "           \"洋务运动的历史意义与局限\",\n",
    "           \"辛亥革命的纲领，意义是什么？\",\n",
    "           \"新文化运动的内容是\",\n",
    "           \"毛泽东思想形成的标志是什么？\",\n",
    "           \"中国共产党史上生死攸关的转折点是什么？\",\n",
    "           \"中国抗日战争在世界反法西斯战争中的地位和作用？\",\n",
    "           \"中国共产党领导的多党合作，政治协商的格局是怎样形成的？\",\n",
    "            \"中国革命胜利的原因和基本经验有哪些？\",\n",
    "            \"新民主主义社会的性质\",\n",
    "            \"中国实行社会主义改造的国内外条件？\",\n",
    "            \"新冠肺炎疫情发生后，党中央将疫情防控作为头等大事来抓，习近平总书记亲自指挥、亲自部署，坚持把什么放在第一位？\",\n",
    "            \"深化供给侧结构性改革，必须持续推进(   )，优化市场供求结构\",\n",
    "            \"近代以来中华民族最伟大的梦想是什么？\",\n",
    "            \"习近平总书记强调，我们党全面领导、长期执政，面临的最大挑战是什么？\",\n",
    "            \"习近平强军思想是什么\",\n",
    "            \"党的十九届四中全会指出，党和人民在长期实践探索中形成的科学制度体系是指\",\n",
    "            \"2020年脱贫攻坚任务完成后，我国将有1亿左右贫困人口实现脱贫，这也意味着我国将提前（）实现联合国2030年可持续发展议程的减贫目标\",\n",
    "            \"党的十九大提出：从2035年到本世纪中叶，在基本实现现代化的基础上，再奋斗15年，把我国建成（）的社会主义现代化强国\",\n",
    "            \"新时代党的建设总要求是坚持和加强党的全面领导，坚持党要管党、全面从严治党，以(   )为主线\",\n",
    "            \"习近平总书记在参加内蒙古代表团的审议时发表重要讲话指出，我们党没有自己特殊的利益，党在任何时候都把（）放在第一位\",\n",
    "            \"2014年十八届四中全会通过了(   )，明确提出全面推进依法治国，加快建设法治中国，开启了中国特色社会主义法治道路的新征程\",\n",
    "            \"中国共产党 ( ) 将毛泽东思想规定为中国共产党的一切工作的指针\"\n",
    "          ]\n",
    "for problem in problems:\n",
    "    res = vectordb.similarity_search_with_relevance_scores(query=problem, k=1)\n",
    "    print(res)\n",
    "    print(\"-----------\")"
   ]
  },
  {
   "cell_type": "code",
   "execution_count": null,
   "id": "b9fccfa1-ce1f-4792-bdcc-0ce2d6f5723d",
   "metadata": {},
   "outputs": [],
   "source": []
  },
  {
   "cell_type": "code",
   "execution_count": 46,
   "id": "1bac3042-084c-4d25-beca-d7a230fdcb41",
   "metadata": {
    "execution": {
     "iopub.execute_input": "2024-09-23T08:05:49.731540Z",
     "iopub.status.busy": "2024-09-23T08:05:49.731195Z",
     "iopub.status.idle": "2024-09-23T08:06:02.345309Z",
     "shell.execute_reply": "2024-09-23T08:06:02.344872Z",
     "shell.execute_reply.started": "2024-09-23T08:05:49.731520Z"
    },
    "tags": []
   },
   "outputs": [
    {
     "name": "stderr",
     "output_type": "stream",
     "text": [
      "2024-09-23 16:05:50,107 - modelscope - WARNING - Model revision not specified, use revision: v1.1.0\n",
      "Downloading [config.json]: 100%|██████████| 886/886 [00:05<00:00, 175B/s]\n",
      "Downloading [configuration.json]: 100%|██████████| 2.08k/2.08k [00:00<00:00, 3.21kB/s]\n",
      "Downloading [resources/dual-encoder.png]: 100%|██████████| 60.7k/60.7k [00:00<00:00, 149kB/s]\n",
      "Downloading [pytorch_model.bin]: 100%|██████████| 388M/388M [00:03<00:00, 119MB/s]  \n",
      "Downloading [README.md]: 100%|██████████| 9.71k/9.71k [00:00<00:00, 17.2kB/s]\n",
      "Downloading [special_tokens_map.json]: 100%|██████████| 112/112 [00:00<00:00, 274B/s]\n",
      "Downloading [tokenizer_config.json]: 100%|██████████| 332/332 [00:00<00:00, 615B/s]\n",
      "Downloading [vocab.txt]: 100%|██████████| 107k/107k [00:00<00:00, 260kB/s]\n"
     ]
    },
    {
     "data": {
      "text/plain": [
       "'./iic/nlp_corom_sentence-embedding_chinese-base'"
      ]
     },
     "execution_count": 46,
     "metadata": {},
     "output_type": "execute_result"
    }
   ],
   "source": [
    "snapshot_download('iic/nlp_corom_sentence-embedding_chinese-base', cache_dir='./')"
   ]
  },
  {
   "cell_type": "code",
   "execution_count": 47,
   "id": "10e87d75-ada8-4d5f-b8ac-193a731b1211",
   "metadata": {
    "execution": {
     "iopub.execute_input": "2024-09-23T08:07:24.957484Z",
     "iopub.status.busy": "2024-09-23T08:07:24.957141Z",
     "iopub.status.idle": "2024-09-23T08:11:55.123030Z",
     "shell.execute_reply": "2024-09-23T08:11:55.122466Z",
     "shell.execute_reply.started": "2024-09-23T08:07:24.957466Z"
    },
    "tags": []
   },
   "outputs": [
    {
     "name": "stderr",
     "output_type": "stream",
     "text": [
      "No sentence-transformers model found with name ./iic/nlp_corom_sentence-embedding_chinese-base. Creating a new one with mean pooling.\n",
      "Some weights of BertModel were not initialized from the model checkpoint at ./iic/nlp_corom_sentence-embedding_chinese-base and are newly initialized: ['bert.pooler.dense.bias', 'bert.pooler.dense.weight']\n",
      "You should probably TRAIN this model on a down-stream task to be able to use it for predictions and inference.\n"
     ]
    },
    {
     "name": "stdout",
     "output_type": "stream",
     "text": [
      "429\n",
      "536\n",
      "542\n",
      "427\n",
      "538\n"
     ]
    }
   ],
   "source": [
    "corom_embedding_model_path = \"./iic/nlp_corom_sentence-embedding_chinese-base\"\n",
    "\n",
    "corom = get_embedding(corom_embedding_model_path)\n",
    "\n",
    "loaders_chinese = [\n",
    "    # PyMuPDFLoader(\"./data/24徐涛《核心考案》高清无水印PDF【公众号：薄荷考研】.pdf\")\n",
    "        PyPDFLoader(\"./中国近现代史纲要：2023 年版(1).pdf\"),\n",
    "        PyPDFLoader(\"./《习近平谈治国理政》第一卷.pdf\"),\n",
    "        PyPDFLoader(\"./《习近平谈治国理政》第二卷.pdf\"),\n",
    "        PyPDFLoader(\"./《习近平谈治国理政》第三卷.pdf\"),\n",
    "        PyPDFLoader(\"./《习近平谈治国理政》第四卷.pdf\")\n",
    "    # 如果需要还可以加入其他文件\n",
    "]\n",
    "docs = []\n",
    "for loader in loaders_chinese:\n",
    "    pages = loader.load()\n",
    "    print(len(pages))\n",
    "    docs.extend(pages)\n",
    "CHUNK_SIZE = 300\n",
    "# 知识库中相邻文本重合长度\n",
    "OVERLAP_SIZE = 50\n",
    "\n",
    "text_splitter = RecursiveCharacterTextSplitter(\n",
    "    chunk_size=CHUNK_SIZE,\n",
    "    chunk_overlap=OVERLAP_SIZE\n",
    ")\n",
    "split_docs = text_splitter.split_documents(docs)\n",
    "persist_directory = \"./vector_db/corom\"\n",
    "\n",
    "vectordb = Chroma.from_documents(\n",
    "    documents=split_docs,\n",
    "    embedding=corom,\n",
    "    persist_directory=persist_directory  # 允许我们将persist_directory目录保存到磁盘上\n",
    ")\n",
    "vectordb.persist()"
   ]
  },
  {
   "cell_type": "code",
   "execution_count": 48,
   "id": "1b4816d6-408a-4b9d-8c98-171eb45d00fe",
   "metadata": {
    "execution": {
     "iopub.execute_input": "2024-09-23T08:13:47.277482Z",
     "iopub.status.busy": "2024-09-23T08:13:47.276876Z",
     "iopub.status.idle": "2024-09-23T08:13:47.619365Z",
     "shell.execute_reply": "2024-09-23T08:13:47.618879Z",
     "shell.execute_reply.started": "2024-09-23T08:13:47.277447Z"
    },
    "tags": []
   },
   "outputs": [
    {
     "name": "stdout",
     "output_type": "stream",
     "text": [
      "[(Document(metadata={'page': 16, 'source': './中国近现代史纲要：2023 年版(1).pdf'}, page_content='几千年的君主专制制度，但未能改变中国半殖民地半封建的社会性质和中\\n心《毛泽东文集》第八卷，人民出版社 1999年版，笫 340页。'), 0.5442284477691341)]\n",
      "-----------\n",
      "[(Document(metadata={'page': 53, 'source': './《习近平谈治国理政》第四卷.pdf'}, page_content='当注意的。”近代以后，中国社会矛盾错综复杂，有帝国主义和\\n中华民族的矛盾、封建主义和人民大众的矛盾，有资产阶级和无\\n产阶级的矛盾、反动统治阶级内部的矛盾，而帝国主义和中华民'), 0.6052762612289811)]\n",
      "-----------\n",
      "[(Document(metadata={'page': 115, 'source': './中国近现代史纲要：2023 年版(1).pdf'}, page_content=\"102 '\\\\, !'I I'! i ! i i，勹，丿 V,1,I.I I I I, l'! i, i, 1 1,·, (!' \\n中国先进分子选择了马克思主义，这是具有伟大历史意义的事件。\\n毛汗东指出：“自从中旧人学会了马克思列宁上义以丿五，中国人 h精神 L\\n就由被动转入主动。从这时起，近代世界历史上那种看不起中国人，看不\\n起中国文化的时代应甘完结了。 ”(i)\\n` 1:i兄息I文勹中 1三J`ll入运动旧芞合\\n中门只广见的早期组织 随着中国上人阶级开始作为独立的政治力忙\\n登上历史舞台和马克思主义在中国的逐步传播，建立一个以马克思主义为\\n指导的丁人阶级政党的任务被提上了日程。\"), 0.44373388150139503)]\n",
      "-----------\n",
      "[(Document(metadata={'page': 6, 'source': './中国近现代史纲要：2023 年版(1).pdf'}, page_content='一、抵御外来侵略的斗争历程／35\\n二、义和团运动与列强瓜分中国图谋咐砐产／38\\n反侵略战争的失败与民族意识的觉醒／41\\n一、反侵略战争的失败及其原因／41\\n二、民族意识的觉醒／ 44'), 0.5820959160164745)]\n",
      "-----------\n",
      "[(Document(metadata={'page': 6, 'source': './中国近现代史纲要：2023 年版(1).pdf'}, page_content='一、抵御外来侵略的斗争历程／35\\n二、义和团运动与列强瓜分中国图谋咐砐产／38\\n反侵略战争的失败与民族意识的觉醒／41\\n一、反侵略战争的失败及其原因／41\\n二、民族意识的觉醒／ 44'), 0.5741969644028053)]\n",
      "-----------\n",
      "[(Document(metadata={'page': 492, 'source': './《习近平谈治国理政》第四卷.pdf'}, page_content='而奋斗，是我们党立党兴党强党的根本出发点和落脚点。\\n我们党的百年历史，就是一部践行党的初心使命的历史，就\\n是一部党与人民心连心、同呼吸、共命运的历史。大革命失败后,'), 0.5191254476212576)]\n",
      "-----------\n",
      "[(Document(metadata={'page': 109, 'source': './中国近现代史纲要：2023 年版(1).pdf'}, page_content='发生的，它具有以辛亥革命为代表的旧民主主义革命所不具备的历史特\\n点，具有伟大意义。\\n心《北京学界全体宣言》，《晨报》1919年5月5日。'), 0.41925983877384654)]\n",
      "-----------\n",
      "[(Document(metadata={'page': 203, 'source': './中国近现代史纲要：2023 年版(1).pdf'}, page_content='结合起来，形成了伟大的毛泽东思想，找到了夺取中国革命胜利的正确道\\n路。这对马克思列宁主义的发展是一个重大贡献。\\n中1月革命旧利的从本经验 中国反帝反封建的革命，经历了资产阶级'), 0.40390304446302316)]\n",
      "-----------\n",
      "[(Document(metadata={'page': 20, 'source': './《习近平谈治国理政》第四卷.pdf'}, page_content='是开天辟地的大事变，深刻改变了近代以后中华民族发展的方向\\n和进程，深刻改变了中国人民和中华民族的前途和命运，深刻改'), 0.49554158848110763)]\n",
      "-----------\n",
      "[(Document(metadata={'page': 480, 'source': './《习近平谈治国理政》第二卷.pdf'}, page_content='深远。\\n主席先生、各位同事！\\n9月3日，中国人民同世界人民一道，隆重纪念了中国人民抗\\n日战争暨世界反法西斯战争胜利70周年。作为东方主战场，中国付\\n出了伤亡3500多万人的民族牺牲，抗击了日本军国主义主要兵\\n力，不仅实现了国家和民族的救亡图存，而且有力支援了在欧洲和\\n太平洋战场上的抵抗力量，为赢得世界反法西斯战争胜利作出了历\\n史性贡献。\\n历史是一面镜子。以史为鉴，才能避免重蹈覆辙。对历史，我'), 0.5731022000127348)]\n",
      "-----------\n",
      "[(Document(metadata={'page': 262, 'source': './《习近平谈治国理政》第四卷.pdf'}, page_content='展最广泛的爱国统一战线，形成了全面、广泛、有机衔接的人民\\n当家作主制度体系，构建了多样、畅通、有序的民主渠道。全体\\n人民依法实行民主选举、民主协商、民主决策、民主管理、民主\\n监督，依法通过各种途径和形式管理国家事务，管理经济和文化'), 0.6075863721427117)]\n",
      "-----------\n",
      "[(Document(metadata={'page': 203, 'source': './中国近现代史纲要：2023 年版(1).pdf'}, page_content='结合起来，形成了伟大的毛泽东思想，找到了夺取中国革命胜利的正确道\\n路。这对马克思列宁主义的发展是一个重大贡献。\\n中1月革命旧利的从本经验 中国反帝反封建的革命，经历了资产阶级'), 0.6237633441255571)]\n",
      "-----------\n",
      "[(Document(metadata={'page': 277, 'source': './《习近平谈治国理政》第二卷.pdf'}, page_content='利，也要看人民在日常政治生活中是否有持续参与的权利；要看人\\n民有没有进行民主选举的权利，也要看人民有没有进行民主决策、\\n民主管理、民主监督的权利。社会主义民主不仅需要完整的制度程'), 0.5312323405902544)]\n",
      "-----------\n",
      "[(Document(metadata={'page': 446, 'source': './《习近平谈治国理政》第二卷.pdf'}, page_content='定命运。中国的发展，关键在于中国人民在中国共产党领导下，走\\n出了一条适合中国国情的发展道路。\\n这是一条从本国国情出发确立的道路。中国立足自身国情和实'), 0.5432901746275847)]\n",
      "-----------\n",
      "[(Document(metadata={'page': 390, 'source': './《习近平谈治国理政》第四卷.pdf'}, page_content='扎实推进。各级党委（党组）和政府要切实把思想认识和行动统\\n一到党中央决策部署上来，把生物安全工作责任落到实处，做到\\n守土有责、守土尽责。要加大投入力度，完善政策措施，强化要\\n素保障，把生物安全建设重点任务抓实抓好抓出成效，提高生物\\n安全风险防控和治理体系现代化水平，牢牢掌握国家生物安全主\\n动权。要持之以恒抓好新冠肺炎疫情防控，坚决克服麻痹思想、\\n厌战情绪、饶幸心理、松懈心态，从严从紧落实各项防控措施，\\n守住来之不易的防控成果。'), 0.6826254430950535)]\n",
      "-----------\n",
      "[(Document(metadata={'page': 240, 'source': './《习近平谈治国理政》第二卷.pdf'}, page_content='中央经济工作会议上就是这样说的。“结构性”3个字十分重要，简称\\n“供给侧改革”也可以，但不能忘了“结构性”3个字。供给侧结构性改'), 0.6913632855814835)]\n",
      "-----------\n",
      "[(Document(metadata={'page': 327, 'source': './中国近现代史纲要：2023 年版(1).pdf'}, page_content='儿女勘力同心、奋力实现中华民族伟大复兴中国梦的时代，是我国不断为\\n人类作出更大贡献的时代。\\n从党的十八大开始，围绕实现社会主义现代化和中华民族伟大复兴这'), 0.5942031883071079)]\n",
      "-----------\n",
      "[(Document(metadata={'page': 394, 'source': './《习近平谈治国理政》第三卷.pdf'}, page_content='总的是好的，但我们前进道路上面临的困难和风险也不少。国内外环境发生了深刻变化，\\n面对的矛盾和问题发生了深刻变化，发展阶段和发展任务发生了深刻变化，工作对象和工\\n作条件发生了深刻变化，对我们党长期执政能力和领导水平的要求也发生了深刻变化。中\\n央政治局的同志尤其要增强忧患意识、居安思危，时刻准备进行具有许多新的历史特点的\\n伟大斗争，知危图安，尽职尽责、勇于担责，着力破解突出矛盾和问题，有效防范化解各\\n种风险。'), 0.6335240484784981)]\n",
      "-----------\n",
      "[(Document(metadata={'page': 391, 'source': './《习近平谈治国理政》第二卷.pdf'}, page_content='的军政军民关系。\\n*这是习近平在庆祝中国人民解放军建军90周年大会上讲话的一部分。'), 0.6563157997477342)]\n",
      "-----------\n",
      "[(Document(metadata={'page': 279, 'source': './《习近平谈治国理政》第二卷.pdf'}, page_content='中国成立后各党派、各团体、各民族、各阶层、各界人士在政治制\\n度上共同实现的伟大创造，源自改革开放以来中国在政治体制上的\\n不断创新，具有深厚的文化基础、理论基础、实践基础、制度基'), 0.7417894610138576)]\n",
      "-----------\n",
      "[(Document(metadata={'page': 153, 'source': './《习近平谈治国理政》第三卷.pdf'}, page_content='了人类反贫困历史新篇章。\\n2020年3月6日，中共中央总书记、国家主席、中央军委主席习近平在北京出席决战\\n决胜脱贫攻坚座谈会并发表重要讲话。\\n第一，创造了我国减贫史上最好成绩。全国现行标准下的农村贫困人口由2012年底的\\n9899万人减少到2017年底的3046万人，5年累计减贫6853万人，减贫幅度达到70%左右。\\n贫困发生率由2012年底的10.2%下降到2017年底的3.1%，下降7.1个百分点。年均脱贫\\n人数1370万人，是1994年至2000年“八七扶贫攻坚计划”实施期间年均脱贫人数639万'), 0.699802117251153)]\n",
      "-----------\n",
      "[(Document(metadata={'page': 43, 'source': './《习近平谈治国理政》第二卷.pdf'}, page_content='程，不断把实现“两个一百年”奋斗目标推向前进。\\n现阶段，建设中国特色社会主义的主要任务，就是到2020年\\n中国共产党成立100年时实现第一个百年奋斗目标、全面建成小康\\n社会，为进而到本世纪中叶中华人民共和国成立100年时实现第二\\n个百年奋斗目标、建成富强民主文明和谐的社会主义现代化国家打'), 0.7925385023792493)]\n",
      "-----------\n",
      "[(Document(metadata={'page': 29, 'source': './《习近平谈治国理政》第三卷.pdf'}, page_content='坚持党要管党、全面从严治党，是进行具有许多新的历史特点的伟大斗争、推进中国特色\\n社会主义伟大事业、实现民族复兴伟大梦想的根本保证，也是我们党紧跟时代前进步伐、\\n始终保持先进性和纯洁性的必然要求。我们党团结带领人民进行革命、建设、改革的实践'), 0.7523751267061265)]\n",
      "-----------\n",
      "[(Document(metadata={'page': 367, 'source': './《习近平谈治国理政》第二卷.pdf'}, page_content='在温饱问题稳定解决了，保护生态环境就应该而且必须成为发展的\\n题中应有之义。\\n*这是习近平在青海省考察工作结束时讲话的一部分。'), 0.661087286614501)]\n",
      "-----------\n",
      "[(Document(metadata={'page': 115, 'source': './《习近平谈治国理政》第二卷.pdf'}, page_content='主义法治体系，建设社会主义法治国家。这是贯穿决定全篇的一条\\n主线，既明确了全面推进依法治国的性质和方向，又突出了全面推\\n进依法治国的工作重点和总抓手，对全面推进依法治国具有纲举目'), 0.7334442796415792)]\n",
      "-----------\n",
      "[(Document(metadata={'page': 154, 'source': './《习近平谈治国理政》第二卷.pdf'}, page_content='风运动。\\n〔3〕见《毛泽东传（1893—1949）》，中央文献出版社2004年版，第655\\n页。\\n*这是习近平在全国党校工作会议上讲话的一部分。'), 0.5804839255014784)]\n",
      "-----------\n"
     ]
    }
   ],
   "source": [
    "problems = [\"近代中国的社会性质是什么？\",\n",
    "           \"近代中国的主要矛盾是什么？\",\n",
    "           \"如何认识近代中国社会的落伍\",\n",
    "           \"太平天国运动的历史意义与局限\",\n",
    "           \"洋务运动的历史意义与局限\",\n",
    "           \"辛亥革命的纲领，意义是什么？\",\n",
    "           \"新文化运动的内容是\",\n",
    "           \"毛泽东思想形成的标志是什么？\",\n",
    "           \"中国共产党史上生死攸关的转折点是什么？\",\n",
    "           \"中国抗日战争在世界反法西斯战争中的地位和作用？\",\n",
    "           \"中国共产党领导的多党合作，政治协商的格局是怎样形成的？\",\n",
    "            \"中国革命胜利的原因和基本经验有哪些？\",\n",
    "            \"新民主主义社会的性质\",\n",
    "            \"中国实行社会主义改造的国内外条件？\",\n",
    "            \"新冠肺炎疫情发生后，党中央将疫情防控作为头等大事来抓，习近平总书记亲自指挥、亲自部署，坚持把什么放在第一位？\",\n",
    "            \"深化供给侧结构性改革，必须持续推进(   )，优化市场供求结构\",\n",
    "            \"近代以来中华民族最伟大的梦想是什么？\",\n",
    "            \"习近平总书记强调，我们党全面领导、长期执政，面临的最大挑战是什么？\",\n",
    "            \"习近平强军思想是什么\",\n",
    "            \"党的十九届四中全会指出，党和人民在长期实践探索中形成的科学制度体系是指\",\n",
    "            \"2020年脱贫攻坚任务完成后，我国将有1亿左右贫困人口实现脱贫，这也意味着我国将提前（）实现联合国2030年可持续发展议程的减贫目标\",\n",
    "            \"党的十九大提出：从2035年到本世纪中叶，在基本实现现代化的基础上，再奋斗15年，把我国建成（）的社会主义现代化强国\",\n",
    "            \"新时代党的建设总要求是坚持和加强党的全面领导，坚持党要管党、全面从严治党，以(   )为主线\",\n",
    "            \"习近平总书记在参加内蒙古代表团的审议时发表重要讲话指出，我们党没有自己特殊的利益，党在任何时候都把（）放在第一位\",\n",
    "            \"2014年十八届四中全会通过了(   )，明确提出全面推进依法治国，加快建设法治中国，开启了中国特色社会主义法治道路的新征程\",\n",
    "            \"中国共产党 ( ) 将毛泽东思想规定为中国共产党的一切工作的指针\"\n",
    "          ]\n",
    "for problem in problems:\n",
    "    res = vectordb.similarity_search_with_relevance_scores(query=problem, k=1)\n",
    "    print(res)\n",
    "    print(\"-----------\")"
   ]
  }
 ],
 "metadata": {
  "kernelspec": {
   "display_name": "Python 3 (ipykernel)",
   "language": "python",
   "name": "python3"
  },
  "language_info": {
   "codemirror_mode": {
    "name": "ipython",
    "version": 3
   },
   "file_extension": ".py",
   "mimetype": "text/x-python",
   "name": "python",
   "nbconvert_exporter": "python",
   "pygments_lexer": "ipython3",
   "version": "3.10.14"
  }
 },
 "nbformat": 4,
 "nbformat_minor": 5
}
