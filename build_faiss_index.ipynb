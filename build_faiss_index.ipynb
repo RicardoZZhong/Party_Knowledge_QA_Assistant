{
 "cells": [
  {
   "cell_type": "code",
   "execution_count": 1,
   "id": "62202de6-8047-4b46-914d-8152e878c8b2",
   "metadata": {
    "execution": {
     "iopub.execute_input": "2024-10-14T05:58:32.212308Z",
     "iopub.status.busy": "2024-10-14T05:58:32.212005Z",
     "iopub.status.idle": "2024-10-14T05:58:42.222948Z",
     "shell.execute_reply": "2024-10-14T05:58:42.222441Z",
     "shell.execute_reply.started": "2024-10-14T05:58:32.212288Z"
    },
    "tags": []
   },
   "outputs": [
    {
     "name": "stderr",
     "output_type": "stream",
     "text": [
      "Downloading [added_tokens.json]: 100%|██████████| 82.0/82.0 [00:00<00:00, 192B/s]\n",
      "Downloading [config.json]: 100%|██████████| 871/871 [00:00<00:00, 1.96kB/s]\n",
      "Downloading [configuration.json]: 100%|██████████| 47.0/47.0 [00:00<00:00, 106B/s]\n",
      "Downloading [pytorch_model.bin]: 100%|██████████| 636M/636M [00:02<00:00, 251MB/s]  \n",
      "Downloading [README.md]: 100%|██████████| 24.8k/24.8k [00:00<00:00, 57.5kB/s]\n",
      "Downloading [special_tokens_map.json]: 100%|██████████| 125/125 [00:00<00:00, 239B/s]\n",
      "Downloading [tokenizer.json]: 100%|██████████| 429k/429k [00:00<00:00, 967kB/s]\n",
      "Downloading [tokenizer_config.json]: 100%|██████████| 1.08k/1.08k [00:00<00:00, 2.28kB/s]\n",
      "Downloading [vocab.txt]: 100%|██████████| 107k/107k [00:00<00:00, 251kB/s]\n"
     ]
    },
    {
     "data": {
      "text/plain": [
       "'./AI-ModelScope/tao-8k'"
      ]
     },
     "execution_count": 1,
     "metadata": {},
     "output_type": "execute_result"
    }
   ],
   "source": [
    "from modelscope import snapshot_download\n",
    "snapshot_download('AI-ModelScope/tao-8k', cache_dir='./')"
   ]
  },
  {
   "cell_type": "code",
   "execution_count": 4,
   "id": "9c365c46-7afd-4774-95d1-3d9577640a12",
   "metadata": {
    "ExecutionIndicator": {
     "show": true
    },
    "execution": {
     "iopub.execute_input": "2024-10-14T06:05:30.227340Z",
     "iopub.status.busy": "2024-10-14T06:05:30.227017Z",
     "iopub.status.idle": "2024-10-14T06:06:08.825840Z",
     "shell.execute_reply": "2024-10-14T06:06:08.825359Z",
     "shell.execute_reply.started": "2024-10-14T06:05:30.227321Z"
    },
    "tags": []
   },
   "outputs": [
    {
     "name": "stderr",
     "output_type": "stream",
     "text": [
      "No sentence-transformers model found with name ./AI-ModelScope/tao-8k. Creating a new one with mean pooling.\n"
     ]
    },
    {
     "name": "stdout",
     "output_type": "stream",
     "text": [
      "MuPDF error: syntax error: cannot find ExtGState resource 'KSPE1'\n",
      "\n",
      "MuPDF error: syntax error: cannot find ExtGState resource 'KSPE1'\n",
      "\n",
      "MuPDF error: syntax error: cannot find ExtGState resource 'KSPE3'\n",
      "\n",
      "MuPDF error: syntax error: cannot find ExtGState resource 'KSPE4'\n",
      "\n",
      "MuPDF error: syntax error: cannot find ExtGState resource 'KSPE40'\n",
      "\n"
     ]
    },
    {
     "data": {
      "application/vnd.jupyter.widget-view+json": {
       "model_id": "a9b1446b7f4c4b1bb1aa5b06c38ada19",
       "version_major": 2,
       "version_minor": 0
      },
      "text/plain": [
       "Batches:   0%|          | 0/13 [00:00<?, ?it/s]"
      ]
     },
     "metadata": {},
     "output_type": "display_data"
    },
    {
     "data": {
      "text/plain": [
       "['./embedding.pkl']"
      ]
     },
     "execution_count": 4,
     "metadata": {},
     "output_type": "execute_result"
    }
   ],
   "source": [
    "from langchain_community.document_loaders import PyMuPDFLoader\n",
    "from sentence_transformers import SentenceTransformer\n",
    "import pandas as pd\n",
    "import faiss\n",
    "import os\n",
    "import random\n",
    "\n",
    "from tqdm import tqdm\n",
    "import joblib\n",
    "model = SentenceTransformer(\"./AI-ModelScope/tao-8k\")\n",
    "loader = PyMuPDFLoader(\"./核心考案.pdf\")\n",
    "pages = loader.load()\n",
    "text_list=[]\n",
    "for page in pages:\n",
    "    text_list.append(page.page_content)\n",
    "embeddings = model.encode(text_list, batch_size=32, show_progress_bar=True)\n",
    "joblib.dump(embeddings, \"./embedding.pkl\")"
   ]
  },
  {
   "cell_type": "code",
   "execution_count": null,
   "id": "afce8ccc-a138-4c62-95d4-453bfd9d0191",
   "metadata": {},
   "outputs": [],
   "source": [
    "embeddings = joblib.load(\"./embedding.pkl\")\n",
    "dim = embeddings.shape[1]\n",
    "faiss_index = faiss.index_factory(dim, \"HNSW64\", s)\n",
    "logging.info(\"构建索引...\")\n",
    "faiss_index.add(embeddings)\n",
    "faiss.write_index(faiss_index, self.faiss_index_path)"
   ]
  }
 ],
 "metadata": {
  "kernelspec": {
   "display_name": "Python 3 (ipykernel)",
   "language": "python",
   "name": "python3"
  },
  "language_info": {
   "codemirror_mode": {
    "name": "ipython",
    "version": 3
   },
   "file_extension": ".py",
   "mimetype": "text/x-python",
   "name": "python",
   "nbconvert_exporter": "python",
   "pygments_lexer": "ipython3",
   "version": "3.10.14"
  }
 },
 "nbformat": 4,
 "nbformat_minor": 5
}
